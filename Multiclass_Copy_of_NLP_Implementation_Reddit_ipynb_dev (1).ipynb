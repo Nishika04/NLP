{
  "cells": [
    {
      "cell_type": "markdown",
      "metadata": {
        "id": "b5Y8OQwrpFMc"
      },
      "source": [
        "### **Dataset: GoEmotions**\n",
        "\n",
        "*GoEmotions* is a corpus of 58k carefully curated comments extracted from Reddit, with human annotations to 27 emotion categories or Neutral.\n",
        "\n",
        "Number of examples: 58,009.\n",
        "Number of labels: 27 + Neutral.\n",
        "\n",
        "The data has already been separated in train, test and validation sets\n",
        "\n",
        "Size of training dataset: 43,410.\n",
        "\n",
        "Size of test dataset: 5,427.\n",
        "\n",
        "Size of validation dataset: 5,426.\n",
        "\n",
        "The emotion categories are: admiration, amusement, anger, annoyance, approval, caring, confusion, curiosity, desire, disappointment, disapproval, disgust, embarrassment, excitement, fear, gratitude, grief, joy, love, nervousness, optimism, pride, realization, relief, remorse, sadness, surprise."
      ]
    },
    {
      "cell_type": "code",
      "execution_count": null,
      "metadata": {
        "colab": {
          "base_uri": "https://localhost:8080/"
        },
        "id": "nFxAx0n0ocI9",
        "outputId": "b5386094-fe7b-45e5-bdc1-ad2490655558"
      },
      "outputs": [
        {
          "output_type": "stream",
          "name": "stdout",
          "text": [
            "Drive already mounted at /content/drive; to attempt to forcibly remount, call drive.mount(\"/content/drive\", force_remount=True).\n"
          ]
        }
      ],
      "source": [
        "from google.colab import drive\n",
        "drive.mount('/content/drive')"
      ]
    },
    {
      "cell_type": "markdown",
      "metadata": {
        "id": "tTi5KyigsIHP"
      },
      "source": [
        "Importing libraries and importing data"
      ]
    },
    {
      "cell_type": "code",
      "execution_count": null,
      "metadata": {
        "colab": {
          "base_uri": "https://localhost:8080/"
        },
        "id": "gOVsDihbriSd",
        "outputId": "93249a17-e840-42e5-b594-ae42929c0585"
      },
      "outputs": [
        {
          "output_type": "stream",
          "name": "stdout",
          "text": [
            "2.11.0\n"
          ]
        }
      ],
      "source": [
        "# Here we import everything we need for the project\n",
        "\n",
        "%matplotlib inline\n",
        "from google.colab import files\n",
        "import os\n",
        "\n",
        "# TensorFlow and tf.keras\n",
        "import tensorflow as tf\n",
        "from tensorflow import keras\n",
        "\n",
        "# Helper libraries\n",
        "import numpy as np\n",
        "import matplotlib.pyplot as plt\n",
        "import cv2\n",
        "import pandas as pd\n",
        "\n",
        "# Sklearn\n",
        "from sklearn.model_selection import train_test_split # Helps with organizing data for training\n",
        "from sklearn.metrics import confusion_matrix # Helps present results as a confusion-matrix\n",
        "\n",
        "print(tf.__version__)"
      ]
    },
    {
      "cell_type": "code",
      "execution_count": null,
      "metadata": {
        "id": "7S44BBOwrWAA"
      },
      "outputs": [],
      "source": [
        "# Importing raw comments and labels\n",
        "df_train = pd.read_csv('/content/drive/MyDrive/GoEmotions_Git/data/train.tsv', sep='\\t', header=None, names=['Text', 'GE_indices', 'Id']).drop('Id', axis=1)\n",
        "df_val = pd.read_csv('/content/drive/MyDrive/GoEmotions_Git/data/dev.tsv', sep='\\t', header=None, names=['Text', 'GE_indices', 'Id']).drop('Id', axis=1)\n",
        "df_test = pd.read_csv('/content/drive/MyDrive/GoEmotions_Git/data/test.tsv', sep='\\t', header=None, names=['Text', 'GE_indices', 'Id']).drop('Id', axis=1)"
      ]
    },
    {
      "cell_type": "code",
      "execution_count": null,
      "metadata": {
        "colab": {
          "base_uri": "https://localhost:8080/",
          "height": 363
        },
        "id": "eZvcKUaHrr72",
        "outputId": "c62cb12b-ec95-499f-e44f-f2790c6f7fc9"
      },
      "outputs": [
        {
          "output_type": "execute_result",
          "data": {
            "text/plain": [
              "                                                Text GE_indices\n",
              "0  My favourite food is anything I didn't have to...         27\n",
              "1  Now if he does off himself, everyone will thin...         27\n",
              "2                     WHY THE FUCK IS BAYLESS ISOING          2\n",
              "3                        To make her feel threatened         14\n",
              "4                             Dirty Southern Wankers          3\n",
              "5  OmG pEyToN iSn'T gOoD eNoUgH tO hElP uS iN tHe...         26\n",
              "6  Yes I heard abt the f bombs! That has to be wh...         15\n",
              "7  We need more boards and to create a bit more s...       8,20\n",
              "8  Damn youtube and outrage drama is super lucrat...          0\n",
              "9  It might be linked to the trust factor of your...         27"
            ],
            "text/html": [
              "\n",
              "  <div id=\"df-fd0b7e19-0722-4ba2-afd0-65b6bbdab166\">\n",
              "    <div class=\"colab-df-container\">\n",
              "      <div>\n",
              "<style scoped>\n",
              "    .dataframe tbody tr th:only-of-type {\n",
              "        vertical-align: middle;\n",
              "    }\n",
              "\n",
              "    .dataframe tbody tr th {\n",
              "        vertical-align: top;\n",
              "    }\n",
              "\n",
              "    .dataframe thead th {\n",
              "        text-align: right;\n",
              "    }\n",
              "</style>\n",
              "<table border=\"1\" class=\"dataframe\">\n",
              "  <thead>\n",
              "    <tr style=\"text-align: right;\">\n",
              "      <th></th>\n",
              "      <th>Text</th>\n",
              "      <th>GE_indices</th>\n",
              "    </tr>\n",
              "  </thead>\n",
              "  <tbody>\n",
              "    <tr>\n",
              "      <th>0</th>\n",
              "      <td>My favourite food is anything I didn't have to...</td>\n",
              "      <td>27</td>\n",
              "    </tr>\n",
              "    <tr>\n",
              "      <th>1</th>\n",
              "      <td>Now if he does off himself, everyone will thin...</td>\n",
              "      <td>27</td>\n",
              "    </tr>\n",
              "    <tr>\n",
              "      <th>2</th>\n",
              "      <td>WHY THE FUCK IS BAYLESS ISOING</td>\n",
              "      <td>2</td>\n",
              "    </tr>\n",
              "    <tr>\n",
              "      <th>3</th>\n",
              "      <td>To make her feel threatened</td>\n",
              "      <td>14</td>\n",
              "    </tr>\n",
              "    <tr>\n",
              "      <th>4</th>\n",
              "      <td>Dirty Southern Wankers</td>\n",
              "      <td>3</td>\n",
              "    </tr>\n",
              "    <tr>\n",
              "      <th>5</th>\n",
              "      <td>OmG pEyToN iSn'T gOoD eNoUgH tO hElP uS iN tHe...</td>\n",
              "      <td>26</td>\n",
              "    </tr>\n",
              "    <tr>\n",
              "      <th>6</th>\n",
              "      <td>Yes I heard abt the f bombs! That has to be wh...</td>\n",
              "      <td>15</td>\n",
              "    </tr>\n",
              "    <tr>\n",
              "      <th>7</th>\n",
              "      <td>We need more boards and to create a bit more s...</td>\n",
              "      <td>8,20</td>\n",
              "    </tr>\n",
              "    <tr>\n",
              "      <th>8</th>\n",
              "      <td>Damn youtube and outrage drama is super lucrat...</td>\n",
              "      <td>0</td>\n",
              "    </tr>\n",
              "    <tr>\n",
              "      <th>9</th>\n",
              "      <td>It might be linked to the trust factor of your...</td>\n",
              "      <td>27</td>\n",
              "    </tr>\n",
              "  </tbody>\n",
              "</table>\n",
              "</div>\n",
              "      <button class=\"colab-df-convert\" onclick=\"convertToInteractive('df-fd0b7e19-0722-4ba2-afd0-65b6bbdab166')\"\n",
              "              title=\"Convert this dataframe to an interactive table.\"\n",
              "              style=\"display:none;\">\n",
              "        \n",
              "  <svg xmlns=\"http://www.w3.org/2000/svg\" height=\"24px\"viewBox=\"0 0 24 24\"\n",
              "       width=\"24px\">\n",
              "    <path d=\"M0 0h24v24H0V0z\" fill=\"none\"/>\n",
              "    <path d=\"M18.56 5.44l.94 2.06.94-2.06 2.06-.94-2.06-.94-.94-2.06-.94 2.06-2.06.94zm-11 1L8.5 8.5l.94-2.06 2.06-.94-2.06-.94L8.5 2.5l-.94 2.06-2.06.94zm10 10l.94 2.06.94-2.06 2.06-.94-2.06-.94-.94-2.06-.94 2.06-2.06.94z\"/><path d=\"M17.41 7.96l-1.37-1.37c-.4-.4-.92-.59-1.43-.59-.52 0-1.04.2-1.43.59L10.3 9.45l-7.72 7.72c-.78.78-.78 2.05 0 2.83L4 21.41c.39.39.9.59 1.41.59.51 0 1.02-.2 1.41-.59l7.78-7.78 2.81-2.81c.8-.78.8-2.07 0-2.86zM5.41 20L4 18.59l7.72-7.72 1.47 1.35L5.41 20z\"/>\n",
              "  </svg>\n",
              "      </button>\n",
              "      \n",
              "  <style>\n",
              "    .colab-df-container {\n",
              "      display:flex;\n",
              "      flex-wrap:wrap;\n",
              "      gap: 12px;\n",
              "    }\n",
              "\n",
              "    .colab-df-convert {\n",
              "      background-color: #E8F0FE;\n",
              "      border: none;\n",
              "      border-radius: 50%;\n",
              "      cursor: pointer;\n",
              "      display: none;\n",
              "      fill: #1967D2;\n",
              "      height: 32px;\n",
              "      padding: 0 0 0 0;\n",
              "      width: 32px;\n",
              "    }\n",
              "\n",
              "    .colab-df-convert:hover {\n",
              "      background-color: #E2EBFA;\n",
              "      box-shadow: 0px 1px 2px rgba(60, 64, 67, 0.3), 0px 1px 3px 1px rgba(60, 64, 67, 0.15);\n",
              "      fill: #174EA6;\n",
              "    }\n",
              "\n",
              "    [theme=dark] .colab-df-convert {\n",
              "      background-color: #3B4455;\n",
              "      fill: #D2E3FC;\n",
              "    }\n",
              "\n",
              "    [theme=dark] .colab-df-convert:hover {\n",
              "      background-color: #434B5C;\n",
              "      box-shadow: 0px 1px 3px 1px rgba(0, 0, 0, 0.15);\n",
              "      filter: drop-shadow(0px 1px 2px rgba(0, 0, 0, 0.3));\n",
              "      fill: #FFFFFF;\n",
              "    }\n",
              "  </style>\n",
              "\n",
              "      <script>\n",
              "        const buttonEl =\n",
              "          document.querySelector('#df-fd0b7e19-0722-4ba2-afd0-65b6bbdab166 button.colab-df-convert');\n",
              "        buttonEl.style.display =\n",
              "          google.colab.kernel.accessAllowed ? 'block' : 'none';\n",
              "\n",
              "        async function convertToInteractive(key) {\n",
              "          const element = document.querySelector('#df-fd0b7e19-0722-4ba2-afd0-65b6bbdab166');\n",
              "          const dataTable =\n",
              "            await google.colab.kernel.invokeFunction('convertToInteractive',\n",
              "                                                     [key], {});\n",
              "          if (!dataTable) return;\n",
              "\n",
              "          const docLinkHtml = 'Like what you see? Visit the ' +\n",
              "            '<a target=\"_blank\" href=https://colab.research.google.com/notebooks/data_table.ipynb>data table notebook</a>'\n",
              "            + ' to learn more about interactive tables.';\n",
              "          element.innerHTML = '';\n",
              "          dataTable['output_type'] = 'display_data';\n",
              "          await google.colab.output.renderOutput(dataTable, element);\n",
              "          const docLink = document.createElement('div');\n",
              "          docLink.innerHTML = docLinkHtml;\n",
              "          element.appendChild(docLink);\n",
              "        }\n",
              "      </script>\n",
              "    </div>\n",
              "  </div>\n",
              "  "
            ]
          },
          "metadata": {},
          "execution_count": 87
        }
      ],
      "source": [
        "# Preview of what data has been saved in the above variables\n",
        "df_train[:10]"
      ]
    },
    {
      "cell_type": "code",
      "execution_count": null,
      "metadata": {
        "colab": {
          "base_uri": "https://localhost:8080/",
          "height": 423
        },
        "id": "CnSH_ssPr0_G",
        "outputId": "812e3fa0-bb69-4543-e622-2128040e67cc"
      },
      "outputs": [
        {
          "output_type": "execute_result",
          "data": {
            "text/plain": [
              "                                                   Text GE_indices\n",
              "0     I’m really sorry about your situation :( Altho...         25\n",
              "1       It's wonderful because it's awful. At not with.          0\n",
              "2     Kings fan here, good luck to you guys! Will be...         13\n",
              "3     I didn't know that, thank you for teaching me ...         15\n",
              "4     They got bored from haunting earth for thousan...         27\n",
              "...                                                 ...        ...\n",
              "5422  Thanks. I was diagnosed with BP 1 after the ho...         15\n",
              "5423                             Well that makes sense.          4\n",
              "5424                                Daddy issues [NAME]         27\n",
              "5425  So glad I discovered that subreddit a couple m...          0\n",
              "5426  Had to watch \"Elmo in Grouchland\" one time too...         27\n",
              "\n",
              "[5427 rows x 2 columns]"
            ],
            "text/html": [
              "\n",
              "  <div id=\"df-894af3e4-62c0-466b-8fb2-e789177422c6\">\n",
              "    <div class=\"colab-df-container\">\n",
              "      <div>\n",
              "<style scoped>\n",
              "    .dataframe tbody tr th:only-of-type {\n",
              "        vertical-align: middle;\n",
              "    }\n",
              "\n",
              "    .dataframe tbody tr th {\n",
              "        vertical-align: top;\n",
              "    }\n",
              "\n",
              "    .dataframe thead th {\n",
              "        text-align: right;\n",
              "    }\n",
              "</style>\n",
              "<table border=\"1\" class=\"dataframe\">\n",
              "  <thead>\n",
              "    <tr style=\"text-align: right;\">\n",
              "      <th></th>\n",
              "      <th>Text</th>\n",
              "      <th>GE_indices</th>\n",
              "    </tr>\n",
              "  </thead>\n",
              "  <tbody>\n",
              "    <tr>\n",
              "      <th>0</th>\n",
              "      <td>I’m really sorry about your situation :( Altho...</td>\n",
              "      <td>25</td>\n",
              "    </tr>\n",
              "    <tr>\n",
              "      <th>1</th>\n",
              "      <td>It's wonderful because it's awful. At not with.</td>\n",
              "      <td>0</td>\n",
              "    </tr>\n",
              "    <tr>\n",
              "      <th>2</th>\n",
              "      <td>Kings fan here, good luck to you guys! Will be...</td>\n",
              "      <td>13</td>\n",
              "    </tr>\n",
              "    <tr>\n",
              "      <th>3</th>\n",
              "      <td>I didn't know that, thank you for teaching me ...</td>\n",
              "      <td>15</td>\n",
              "    </tr>\n",
              "    <tr>\n",
              "      <th>4</th>\n",
              "      <td>They got bored from haunting earth for thousan...</td>\n",
              "      <td>27</td>\n",
              "    </tr>\n",
              "    <tr>\n",
              "      <th>...</th>\n",
              "      <td>...</td>\n",
              "      <td>...</td>\n",
              "    </tr>\n",
              "    <tr>\n",
              "      <th>5422</th>\n",
              "      <td>Thanks. I was diagnosed with BP 1 after the ho...</td>\n",
              "      <td>15</td>\n",
              "    </tr>\n",
              "    <tr>\n",
              "      <th>5423</th>\n",
              "      <td>Well that makes sense.</td>\n",
              "      <td>4</td>\n",
              "    </tr>\n",
              "    <tr>\n",
              "      <th>5424</th>\n",
              "      <td>Daddy issues [NAME]</td>\n",
              "      <td>27</td>\n",
              "    </tr>\n",
              "    <tr>\n",
              "      <th>5425</th>\n",
              "      <td>So glad I discovered that subreddit a couple m...</td>\n",
              "      <td>0</td>\n",
              "    </tr>\n",
              "    <tr>\n",
              "      <th>5426</th>\n",
              "      <td>Had to watch \"Elmo in Grouchland\" one time too...</td>\n",
              "      <td>27</td>\n",
              "    </tr>\n",
              "  </tbody>\n",
              "</table>\n",
              "<p>5427 rows × 2 columns</p>\n",
              "</div>\n",
              "      <button class=\"colab-df-convert\" onclick=\"convertToInteractive('df-894af3e4-62c0-466b-8fb2-e789177422c6')\"\n",
              "              title=\"Convert this dataframe to an interactive table.\"\n",
              "              style=\"display:none;\">\n",
              "        \n",
              "  <svg xmlns=\"http://www.w3.org/2000/svg\" height=\"24px\"viewBox=\"0 0 24 24\"\n",
              "       width=\"24px\">\n",
              "    <path d=\"M0 0h24v24H0V0z\" fill=\"none\"/>\n",
              "    <path d=\"M18.56 5.44l.94 2.06.94-2.06 2.06-.94-2.06-.94-.94-2.06-.94 2.06-2.06.94zm-11 1L8.5 8.5l.94-2.06 2.06-.94-2.06-.94L8.5 2.5l-.94 2.06-2.06.94zm10 10l.94 2.06.94-2.06 2.06-.94-2.06-.94-.94-2.06-.94 2.06-2.06.94z\"/><path d=\"M17.41 7.96l-1.37-1.37c-.4-.4-.92-.59-1.43-.59-.52 0-1.04.2-1.43.59L10.3 9.45l-7.72 7.72c-.78.78-.78 2.05 0 2.83L4 21.41c.39.39.9.59 1.41.59.51 0 1.02-.2 1.41-.59l7.78-7.78 2.81-2.81c.8-.78.8-2.07 0-2.86zM5.41 20L4 18.59l7.72-7.72 1.47 1.35L5.41 20z\"/>\n",
              "  </svg>\n",
              "      </button>\n",
              "      \n",
              "  <style>\n",
              "    .colab-df-container {\n",
              "      display:flex;\n",
              "      flex-wrap:wrap;\n",
              "      gap: 12px;\n",
              "    }\n",
              "\n",
              "    .colab-df-convert {\n",
              "      background-color: #E8F0FE;\n",
              "      border: none;\n",
              "      border-radius: 50%;\n",
              "      cursor: pointer;\n",
              "      display: none;\n",
              "      fill: #1967D2;\n",
              "      height: 32px;\n",
              "      padding: 0 0 0 0;\n",
              "      width: 32px;\n",
              "    }\n",
              "\n",
              "    .colab-df-convert:hover {\n",
              "      background-color: #E2EBFA;\n",
              "      box-shadow: 0px 1px 2px rgba(60, 64, 67, 0.3), 0px 1px 3px 1px rgba(60, 64, 67, 0.15);\n",
              "      fill: #174EA6;\n",
              "    }\n",
              "\n",
              "    [theme=dark] .colab-df-convert {\n",
              "      background-color: #3B4455;\n",
              "      fill: #D2E3FC;\n",
              "    }\n",
              "\n",
              "    [theme=dark] .colab-df-convert:hover {\n",
              "      background-color: #434B5C;\n",
              "      box-shadow: 0px 1px 3px 1px rgba(0, 0, 0, 0.15);\n",
              "      filter: drop-shadow(0px 1px 2px rgba(0, 0, 0, 0.3));\n",
              "      fill: #FFFFFF;\n",
              "    }\n",
              "  </style>\n",
              "\n",
              "      <script>\n",
              "        const buttonEl =\n",
              "          document.querySelector('#df-894af3e4-62c0-466b-8fb2-e789177422c6 button.colab-df-convert');\n",
              "        buttonEl.style.display =\n",
              "          google.colab.kernel.accessAllowed ? 'block' : 'none';\n",
              "\n",
              "        async function convertToInteractive(key) {\n",
              "          const element = document.querySelector('#df-894af3e4-62c0-466b-8fb2-e789177422c6');\n",
              "          const dataTable =\n",
              "            await google.colab.kernel.invokeFunction('convertToInteractive',\n",
              "                                                     [key], {});\n",
              "          if (!dataTable) return;\n",
              "\n",
              "          const docLinkHtml = 'Like what you see? Visit the ' +\n",
              "            '<a target=\"_blank\" href=https://colab.research.google.com/notebooks/data_table.ipynb>data table notebook</a>'\n",
              "            + ' to learn more about interactive tables.';\n",
              "          element.innerHTML = '';\n",
              "          dataTable['output_type'] = 'display_data';\n",
              "          await google.colab.output.renderOutput(dataTable, element);\n",
              "          const docLink = document.createElement('div');\n",
              "          docLink.innerHTML = docLinkHtml;\n",
              "          element.appendChild(docLink);\n",
              "        }\n",
              "      </script>\n",
              "    </div>\n",
              "  </div>\n",
              "  "
            ]
          },
          "metadata": {},
          "execution_count": 88
        }
      ],
      "source": [
        "\n",
        "df_test"
      ]
    },
    {
      "cell_type": "code",
      "execution_count": null,
      "metadata": {
        "colab": {
          "base_uri": "https://localhost:8080/",
          "height": 423
        },
        "id": "HJiaYsiWr59V",
        "outputId": "44166cfe-ae10-4459-d377-05b531c0007b"
      },
      "outputs": [
        {
          "output_type": "execute_result",
          "data": {
            "text/plain": [
              "                                                   Text GE_indices\n",
              "0     Is this in New Orleans?? I really feel like th...         27\n",
              "1     You know the answer man, you are programmed to...       4,27\n",
              "2                  I've never been this sad in my life!         25\n",
              "3     The economy is heavily controlled and subsidiz...       4,27\n",
              "4     He could have easily taken a real camera from ...         20\n",
              "...                                                 ...        ...\n",
              "5421  It's pretty dangerous when the state decides w...         14\n",
              "5422  I filed for divorce this morning. Hoping he mo...         20\n",
              "5423  The last time it happened I just said, \"No\" an...         10\n",
              "5424  I can’t stand this arrogant prick he’s no bett...          3\n",
              "5425              ::but I like baby bangs:: /tiny voice         18\n",
              "\n",
              "[5426 rows x 2 columns]"
            ],
            "text/html": [
              "\n",
              "  <div id=\"df-a31b12dd-7600-4759-acb7-de241ee04852\">\n",
              "    <div class=\"colab-df-container\">\n",
              "      <div>\n",
              "<style scoped>\n",
              "    .dataframe tbody tr th:only-of-type {\n",
              "        vertical-align: middle;\n",
              "    }\n",
              "\n",
              "    .dataframe tbody tr th {\n",
              "        vertical-align: top;\n",
              "    }\n",
              "\n",
              "    .dataframe thead th {\n",
              "        text-align: right;\n",
              "    }\n",
              "</style>\n",
              "<table border=\"1\" class=\"dataframe\">\n",
              "  <thead>\n",
              "    <tr style=\"text-align: right;\">\n",
              "      <th></th>\n",
              "      <th>Text</th>\n",
              "      <th>GE_indices</th>\n",
              "    </tr>\n",
              "  </thead>\n",
              "  <tbody>\n",
              "    <tr>\n",
              "      <th>0</th>\n",
              "      <td>Is this in New Orleans?? I really feel like th...</td>\n",
              "      <td>27</td>\n",
              "    </tr>\n",
              "    <tr>\n",
              "      <th>1</th>\n",
              "      <td>You know the answer man, you are programmed to...</td>\n",
              "      <td>4,27</td>\n",
              "    </tr>\n",
              "    <tr>\n",
              "      <th>2</th>\n",
              "      <td>I've never been this sad in my life!</td>\n",
              "      <td>25</td>\n",
              "    </tr>\n",
              "    <tr>\n",
              "      <th>3</th>\n",
              "      <td>The economy is heavily controlled and subsidiz...</td>\n",
              "      <td>4,27</td>\n",
              "    </tr>\n",
              "    <tr>\n",
              "      <th>4</th>\n",
              "      <td>He could have easily taken a real camera from ...</td>\n",
              "      <td>20</td>\n",
              "    </tr>\n",
              "    <tr>\n",
              "      <th>...</th>\n",
              "      <td>...</td>\n",
              "      <td>...</td>\n",
              "    </tr>\n",
              "    <tr>\n",
              "      <th>5421</th>\n",
              "      <td>It's pretty dangerous when the state decides w...</td>\n",
              "      <td>14</td>\n",
              "    </tr>\n",
              "    <tr>\n",
              "      <th>5422</th>\n",
              "      <td>I filed for divorce this morning. Hoping he mo...</td>\n",
              "      <td>20</td>\n",
              "    </tr>\n",
              "    <tr>\n",
              "      <th>5423</th>\n",
              "      <td>The last time it happened I just said, \"No\" an...</td>\n",
              "      <td>10</td>\n",
              "    </tr>\n",
              "    <tr>\n",
              "      <th>5424</th>\n",
              "      <td>I can’t stand this arrogant prick he’s no bett...</td>\n",
              "      <td>3</td>\n",
              "    </tr>\n",
              "    <tr>\n",
              "      <th>5425</th>\n",
              "      <td>::but I like baby bangs:: /tiny voice</td>\n",
              "      <td>18</td>\n",
              "    </tr>\n",
              "  </tbody>\n",
              "</table>\n",
              "<p>5426 rows × 2 columns</p>\n",
              "</div>\n",
              "      <button class=\"colab-df-convert\" onclick=\"convertToInteractive('df-a31b12dd-7600-4759-acb7-de241ee04852')\"\n",
              "              title=\"Convert this dataframe to an interactive table.\"\n",
              "              style=\"display:none;\">\n",
              "        \n",
              "  <svg xmlns=\"http://www.w3.org/2000/svg\" height=\"24px\"viewBox=\"0 0 24 24\"\n",
              "       width=\"24px\">\n",
              "    <path d=\"M0 0h24v24H0V0z\" fill=\"none\"/>\n",
              "    <path d=\"M18.56 5.44l.94 2.06.94-2.06 2.06-.94-2.06-.94-.94-2.06-.94 2.06-2.06.94zm-11 1L8.5 8.5l.94-2.06 2.06-.94-2.06-.94L8.5 2.5l-.94 2.06-2.06.94zm10 10l.94 2.06.94-2.06 2.06-.94-2.06-.94-.94-2.06-.94 2.06-2.06.94z\"/><path d=\"M17.41 7.96l-1.37-1.37c-.4-.4-.92-.59-1.43-.59-.52 0-1.04.2-1.43.59L10.3 9.45l-7.72 7.72c-.78.78-.78 2.05 0 2.83L4 21.41c.39.39.9.59 1.41.59.51 0 1.02-.2 1.41-.59l7.78-7.78 2.81-2.81c.8-.78.8-2.07 0-2.86zM5.41 20L4 18.59l7.72-7.72 1.47 1.35L5.41 20z\"/>\n",
              "  </svg>\n",
              "      </button>\n",
              "      \n",
              "  <style>\n",
              "    .colab-df-container {\n",
              "      display:flex;\n",
              "      flex-wrap:wrap;\n",
              "      gap: 12px;\n",
              "    }\n",
              "\n",
              "    .colab-df-convert {\n",
              "      background-color: #E8F0FE;\n",
              "      border: none;\n",
              "      border-radius: 50%;\n",
              "      cursor: pointer;\n",
              "      display: none;\n",
              "      fill: #1967D2;\n",
              "      height: 32px;\n",
              "      padding: 0 0 0 0;\n",
              "      width: 32px;\n",
              "    }\n",
              "\n",
              "    .colab-df-convert:hover {\n",
              "      background-color: #E2EBFA;\n",
              "      box-shadow: 0px 1px 2px rgba(60, 64, 67, 0.3), 0px 1px 3px 1px rgba(60, 64, 67, 0.15);\n",
              "      fill: #174EA6;\n",
              "    }\n",
              "\n",
              "    [theme=dark] .colab-df-convert {\n",
              "      background-color: #3B4455;\n",
              "      fill: #D2E3FC;\n",
              "    }\n",
              "\n",
              "    [theme=dark] .colab-df-convert:hover {\n",
              "      background-color: #434B5C;\n",
              "      box-shadow: 0px 1px 3px 1px rgba(0, 0, 0, 0.15);\n",
              "      filter: drop-shadow(0px 1px 2px rgba(0, 0, 0, 0.3));\n",
              "      fill: #FFFFFF;\n",
              "    }\n",
              "  </style>\n",
              "\n",
              "      <script>\n",
              "        const buttonEl =\n",
              "          document.querySelector('#df-a31b12dd-7600-4759-acb7-de241ee04852 button.colab-df-convert');\n",
              "        buttonEl.style.display =\n",
              "          google.colab.kernel.accessAllowed ? 'block' : 'none';\n",
              "\n",
              "        async function convertToInteractive(key) {\n",
              "          const element = document.querySelector('#df-a31b12dd-7600-4759-acb7-de241ee04852');\n",
              "          const dataTable =\n",
              "            await google.colab.kernel.invokeFunction('convertToInteractive',\n",
              "                                                     [key], {});\n",
              "          if (!dataTable) return;\n",
              "\n",
              "          const docLinkHtml = 'Like what you see? Visit the ' +\n",
              "            '<a target=\"_blank\" href=https://colab.research.google.com/notebooks/data_table.ipynb>data table notebook</a>'\n",
              "            + ' to learn more about interactive tables.';\n",
              "          element.innerHTML = '';\n",
              "          dataTable['output_type'] = 'display_data';\n",
              "          await google.colab.output.renderOutput(dataTable, element);\n",
              "          const docLink = document.createElement('div');\n",
              "          docLink.innerHTML = docLinkHtml;\n",
              "          element.appendChild(docLink);\n",
              "        }\n",
              "      </script>\n",
              "    </div>\n",
              "  </div>\n",
              "  "
            ]
          },
          "metadata": {},
          "execution_count": 89
        }
      ],
      "source": [
        "df_val"
      ]
    },
    {
      "cell_type": "markdown",
      "metadata": {
        "id": "V3QliWrFshzH"
      },
      "source": [
        "Finding out how much percentage of data is represented by each"
      ]
    },
    {
      "cell_type": "code",
      "execution_count": null,
      "metadata": {
        "id": "e_ovGp7BsXhz"
      },
      "outputs": [],
      "source": [
        "# Defining the number of samples in train, validation and test dataset\n",
        "size_train = df_train.shape[0]\n",
        "size_val = df_val.shape[0]\n",
        "size_test = df_test.shape[0]\n",
        "\n",
        "# Defining the total number of samples\n",
        "size_all = size_train + size_val + size_test"
      ]
    },
    {
      "cell_type": "code",
      "execution_count": null,
      "metadata": {
        "colab": {
          "base_uri": "https://localhost:8080/"
        },
        "id": "3uUlMrKPssJt",
        "outputId": "92a60e38-28a4-411c-dd1b-98cdb502aa46"
      },
      "outputs": [
        {
          "output_type": "stream",
          "name": "stdout",
          "text": [
            "Train dataset has 43410 samples and represents 80.00% of overall data\n",
            "Validation dataset has 5426 samples and represents 10.00% of overall data\n",
            "Test dataset has 5427 samples and represents 10.00% of overall data\n",
            "\n",
            "The total number of samples is : 54263\n"
          ]
        }
      ],
      "source": [
        "# Shape of train, validation and test datasets\n",
        "print(\"Train dataset has {} samples and represents {:.2f}% of overall data\".format(size_train, size_train/size_all*100))\n",
        "print(\"Validation dataset has {} samples and represents {:.2f}% of overall data\".format(size_val, size_val/size_all*100))\n",
        "print(\"Test dataset has {} samples and represents {:.2f}% of overall data\".format(size_test, size_test/size_all*100))\n",
        "print()\n",
        "print(\"The total number of samples is : {}\".format(size_all))"
      ]
    },
    {
      "cell_type": "markdown",
      "metadata": {
        "id": "bZb5dVCDuHsc"
      },
      "source": [
        "Finding out number of emotions in the dataset"
      ]
    },
    {
      "cell_type": "code",
      "execution_count": null,
      "metadata": {
        "colab": {
          "base_uri": "https://localhost:8080/"
        },
        "id": "tEAVtLzFuMJW",
        "outputId": "f2be1318-47b1-4d15-fe4d-3ced26a50733"
      },
      "outputs": [
        {
          "output_type": "stream",
          "name": "stdout",
          "text": [
            "<class 'pandas.core.frame.DataFrame'>\n",
            "RangeIndex: 43410 entries, 0 to 43409\n",
            "Data columns (total 2 columns):\n",
            " #   Column      Non-Null Count  Dtype \n",
            "---  ------      --------------  ----- \n",
            " 0   Text        43410 non-null  object\n",
            " 1   GE_indices  43410 non-null  object\n",
            "dtypes: object(2)\n",
            "memory usage: 678.4+ KB\n"
          ]
        }
      ],
      "source": [
        "#For datatype\n",
        "df_train.info()"
      ]
    },
    {
      "cell_type": "markdown",
      "metadata": {
        "id": "8q6pRoEfus82"
      },
      "source": [
        "Now, emotions.txt has all the set of emotions that this dataset contains.\n",
        "\n",
        "Each emotion is mapped to a number as well, according to the sequence it is in, in the emotions.txt text file"
      ]
    },
    {
      "cell_type": "code",
      "execution_count": null,
      "metadata": {
        "colab": {
          "base_uri": "https://localhost:8080/"
        },
        "id": "MspR94jFur1i",
        "outputId": "cd52481a-6297-4311-8d5d-1925f26ed789"
      },
      "outputs": [
        {
          "output_type": "stream",
          "name": "stdout",
          "text": [
            "['admiration', 'amusement', 'anger', 'annoyance', 'approval', 'caring', 'confusion', 'curiosity', 'desire', 'disappointment', 'disapproval', 'disgust', 'embarrassment', 'excitement', 'fear', 'gratitude', 'grief', 'joy', 'love', 'nervousness', 'optimism', 'pride', 'realization', 'relief', 'remorse', 'sadness', 'surprise', 'neutral']\n"
          ]
        }
      ],
      "source": [
        "# Loading emotion labels for classification of emotions in GoEmotions dataset\n",
        "with open(\"/content/drive/MyDrive/GoEmotions_Git/data/emotions.txt\", \"r\") as file:\n",
        "    GE_class = file.read().split(\"\\n\")\n",
        "\n",
        "print(GE_class)"
      ]
    },
    {
      "cell_type": "code",
      "source": [
        "GE_class[25]"
      ],
      "metadata": {
        "colab": {
          "base_uri": "https://localhost:8080/",
          "height": 36
        },
        "id": "S05jRnQo-ckg",
        "outputId": "d1cc4954-3f5f-48ca-8f36-cfc6f4d9b639"
      },
      "execution_count": null,
      "outputs": [
        {
          "output_type": "execute_result",
          "data": {
            "text/plain": [
              "'sadness'"
            ],
            "application/vnd.google.colaboratory.intrinsic+json": {
              "type": "string"
            }
          },
          "metadata": {},
          "execution_count": 193
        }
      ]
    },
    {
      "cell_type": "code",
      "execution_count": null,
      "metadata": {
        "colab": {
          "base_uri": "https://localhost:8080/"
        },
        "id": "UwnrzOkVxlPv",
        "outputId": "1d48cfe0-2977-4f11-cf77-c363cb451ffa"
      },
      "outputs": [
        {
          "output_type": "stream",
          "name": "stdout",
          "text": [
            "28\n"
          ]
        }
      ],
      "source": [
        "print(len(GE_class))"
      ]
    },
    {
      "cell_type": "markdown",
      "metadata": {
        "id": "aO57v_WtzGFC"
      },
      "source": [
        "Hence, there are 28 emotions, including 'neutral'"
      ]
    },
    {
      "cell_type": "code",
      "execution_count": null,
      "metadata": {
        "colab": {
          "base_uri": "https://localhost:8080/"
        },
        "id": "H7smi9we0e99",
        "outputId": "fb259a03-a638-4e78-ec0b-2236be35de17"
      },
      "outputs": [
        {
          "output_type": "execute_result",
          "data": {
            "text/plain": [
              "27           12823\n",
              "0             2710\n",
              "4             1873\n",
              "15            1857\n",
              "1             1652\n",
              "             ...  \n",
              "6,15,22          1\n",
              "9,10,19          1\n",
              "7,10,25          1\n",
              "7,9,24,25        1\n",
              "0,1,18           1\n",
              "Name: GE_indices, Length: 711, dtype: int64"
            ]
          },
          "metadata": {},
          "execution_count": 95
        }
      ],
      "source": [
        "#Counting the number of values under each emotion category\n",
        "df_train.GE_indices.value_counts()"
      ]
    },
    {
      "cell_type": "markdown",
      "metadata": {
        "id": "2tWxlFaT1Imr"
      },
      "source": [
        "###Lambda Functions\n",
        "\n",
        "![image.png](data:image/png;base64,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)\n",
        "\n",
        "They can have any number of arguments but only one expression."
      ]
    },
    {
      "cell_type": "markdown",
      "metadata": {
        "id": "MiHIQbvY1a-R"
      },
      "source": [
        "Before we start to further process the data, we will first have to combine all the three datasets into one and then proceed further"
      ]
    },
    {
      "cell_type": "code",
      "execution_count": null,
      "metadata": {
        "colab": {
          "base_uri": "https://localhost:8080/",
          "height": 161
        },
        "id": "vRiCC_Zp1l0g",
        "outputId": "8c45a685-6af5-4855-9be6-11492e9ce819"
      },
      "outputs": [
        {
          "output_type": "display_data",
          "data": {
            "text/plain": [
              "                                                Text GE_indices\n",
              "0  My favourite food is anything I didn't have to...         27\n",
              "1  Now if he does off himself, everyone will thin...         27\n",
              "2                     WHY THE FUCK IS BAYLESS ISOING          2"
            ],
            "text/html": [
              "\n",
              "  <div id=\"df-a6e97b6f-cb5f-4364-ac3b-1fd0e692715a\">\n",
              "    <div class=\"colab-df-container\">\n",
              "      <div>\n",
              "<style scoped>\n",
              "    .dataframe tbody tr th:only-of-type {\n",
              "        vertical-align: middle;\n",
              "    }\n",
              "\n",
              "    .dataframe tbody tr th {\n",
              "        vertical-align: top;\n",
              "    }\n",
              "\n",
              "    .dataframe thead th {\n",
              "        text-align: right;\n",
              "    }\n",
              "</style>\n",
              "<table border=\"1\" class=\"dataframe\">\n",
              "  <thead>\n",
              "    <tr style=\"text-align: right;\">\n",
              "      <th></th>\n",
              "      <th>Text</th>\n",
              "      <th>GE_indices</th>\n",
              "    </tr>\n",
              "  </thead>\n",
              "  <tbody>\n",
              "    <tr>\n",
              "      <th>0</th>\n",
              "      <td>My favourite food is anything I didn't have to...</td>\n",
              "      <td>27</td>\n",
              "    </tr>\n",
              "    <tr>\n",
              "      <th>1</th>\n",
              "      <td>Now if he does off himself, everyone will thin...</td>\n",
              "      <td>27</td>\n",
              "    </tr>\n",
              "    <tr>\n",
              "      <th>2</th>\n",
              "      <td>WHY THE FUCK IS BAYLESS ISOING</td>\n",
              "      <td>2</td>\n",
              "    </tr>\n",
              "  </tbody>\n",
              "</table>\n",
              "</div>\n",
              "      <button class=\"colab-df-convert\" onclick=\"convertToInteractive('df-a6e97b6f-cb5f-4364-ac3b-1fd0e692715a')\"\n",
              "              title=\"Convert this dataframe to an interactive table.\"\n",
              "              style=\"display:none;\">\n",
              "        \n",
              "  <svg xmlns=\"http://www.w3.org/2000/svg\" height=\"24px\"viewBox=\"0 0 24 24\"\n",
              "       width=\"24px\">\n",
              "    <path d=\"M0 0h24v24H0V0z\" fill=\"none\"/>\n",
              "    <path d=\"M18.56 5.44l.94 2.06.94-2.06 2.06-.94-2.06-.94-.94-2.06-.94 2.06-2.06.94zm-11 1L8.5 8.5l.94-2.06 2.06-.94-2.06-.94L8.5 2.5l-.94 2.06-2.06.94zm10 10l.94 2.06.94-2.06 2.06-.94-2.06-.94-.94-2.06-.94 2.06-2.06.94z\"/><path d=\"M17.41 7.96l-1.37-1.37c-.4-.4-.92-.59-1.43-.59-.52 0-1.04.2-1.43.59L10.3 9.45l-7.72 7.72c-.78.78-.78 2.05 0 2.83L4 21.41c.39.39.9.59 1.41.59.51 0 1.02-.2 1.41-.59l7.78-7.78 2.81-2.81c.8-.78.8-2.07 0-2.86zM5.41 20L4 18.59l7.72-7.72 1.47 1.35L5.41 20z\"/>\n",
              "  </svg>\n",
              "      </button>\n",
              "      \n",
              "  <style>\n",
              "    .colab-df-container {\n",
              "      display:flex;\n",
              "      flex-wrap:wrap;\n",
              "      gap: 12px;\n",
              "    }\n",
              "\n",
              "    .colab-df-convert {\n",
              "      background-color: #E8F0FE;\n",
              "      border: none;\n",
              "      border-radius: 50%;\n",
              "      cursor: pointer;\n",
              "      display: none;\n",
              "      fill: #1967D2;\n",
              "      height: 32px;\n",
              "      padding: 0 0 0 0;\n",
              "      width: 32px;\n",
              "    }\n",
              "\n",
              "    .colab-df-convert:hover {\n",
              "      background-color: #E2EBFA;\n",
              "      box-shadow: 0px 1px 2px rgba(60, 64, 67, 0.3), 0px 1px 3px 1px rgba(60, 64, 67, 0.15);\n",
              "      fill: #174EA6;\n",
              "    }\n",
              "\n",
              "    [theme=dark] .colab-df-convert {\n",
              "      background-color: #3B4455;\n",
              "      fill: #D2E3FC;\n",
              "    }\n",
              "\n",
              "    [theme=dark] .colab-df-convert:hover {\n",
              "      background-color: #434B5C;\n",
              "      box-shadow: 0px 1px 3px 1px rgba(0, 0, 0, 0.15);\n",
              "      filter: drop-shadow(0px 1px 2px rgba(0, 0, 0, 0.3));\n",
              "      fill: #FFFFFF;\n",
              "    }\n",
              "  </style>\n",
              "\n",
              "      <script>\n",
              "        const buttonEl =\n",
              "          document.querySelector('#df-a6e97b6f-cb5f-4364-ac3b-1fd0e692715a button.colab-df-convert');\n",
              "        buttonEl.style.display =\n",
              "          google.colab.kernel.accessAllowed ? 'block' : 'none';\n",
              "\n",
              "        async function convertToInteractive(key) {\n",
              "          const element = document.querySelector('#df-a6e97b6f-cb5f-4364-ac3b-1fd0e692715a');\n",
              "          const dataTable =\n",
              "            await google.colab.kernel.invokeFunction('convertToInteractive',\n",
              "                                                     [key], {});\n",
              "          if (!dataTable) return;\n",
              "\n",
              "          const docLinkHtml = 'Like what you see? Visit the ' +\n",
              "            '<a target=\"_blank\" href=https://colab.research.google.com/notebooks/data_table.ipynb>data table notebook</a>'\n",
              "            + ' to learn more about interactive tables.';\n",
              "          element.innerHTML = '';\n",
              "          dataTable['output_type'] = 'display_data';\n",
              "          await google.colab.output.renderOutput(dataTable, element);\n",
              "          const docLink = document.createElement('div');\n",
              "          docLink.innerHTML = docLinkHtml;\n",
              "          element.appendChild(docLink);\n",
              "        }\n",
              "      </script>\n",
              "    </div>\n",
              "  </div>\n",
              "  "
            ]
          },
          "metadata": {}
        },
        {
          "output_type": "stream",
          "name": "stdout",
          "text": [
            "(54263, 2)\n"
          ]
        }
      ],
      "source": [
        "# Combining all the 3 datasets into 1 dataset\n",
        "df_all = pd.concat([df_train, df_val, df_test], axis=0).reset_index(drop=True)\n",
        "\n",
        "# Preview of data\n",
        "display(df_all.head(3))\n",
        "\n",
        "print(df_all.shape)"
      ]
    },
    {
      "cell_type": "markdown",
      "metadata": {
        "id": "YQN_kry62DyE"
      },
      "source": [
        "Next, we will have to map each GE_indices to it's corresponding emotion in the emotions.txt file\n",
        "\n",
        "For that, let's first convert these GE_indices into a list of indices which we will then map to the emotions.txt file and extract the emotion labels from the file"
      ]
    },
    {
      "cell_type": "code",
      "execution_count": null,
      "metadata": {
        "id": "Oeod5_DR2bVi"
      },
      "outputs": [],
      "source": [
        "# We will use a lambda function here to make things easier\n",
        "#df_all['GE_indices'] = df_all['GE_indices'].apply(lambda x: x.split(','))"
      ]
    },
    {
      "cell_type": "code",
      "execution_count": null,
      "metadata": {
        "colab": {
          "base_uri": "https://localhost:8080/"
        },
        "id": "mp6oC2u92nN4",
        "outputId": "edfecb14-7d02-4e0e-f513-77395b03e5e0"
      },
      "outputs": [
        {
          "output_type": "stream",
          "name": "stdout",
          "text": [
            "<bound method NDFrame.head of                                                     Text GE_indices\n",
            "0      My favourite food is anything I didn't have to...         27\n",
            "1      Now if he does off himself, everyone will thin...         27\n",
            "2                         WHY THE FUCK IS BAYLESS ISOING          2\n",
            "3                            To make her feel threatened         14\n",
            "4                                 Dirty Southern Wankers          3\n",
            "...                                                  ...        ...\n",
            "54258  Thanks. I was diagnosed with BP 1 after the ho...         15\n",
            "54259                             Well that makes sense.          4\n",
            "54260                                Daddy issues [NAME]         27\n",
            "54261  So glad I discovered that subreddit a couple m...          0\n",
            "54262  Had to watch \"Elmo in Grouchland\" one time too...         27\n",
            "\n",
            "[54263 rows x 2 columns]>\n"
          ]
        }
      ],
      "source": [
        "# Viewing the data for results\n",
        "print(df_all.head)"
      ]
    },
    {
      "cell_type": "markdown",
      "metadata": {
        "id": "svvIA4jx1msX"
      },
      "source": [
        "Next steps:\n",
        "1. Determine which emotions we want\n",
        "2. Drop accordingly\n",
        "3. Tokenization\n",
        "4. Embedding\n",
        "5. Vectorization\n",
        "6. Models building"
      ]
    },
    {
      "cell_type": "code",
      "execution_count": null,
      "metadata": {
        "colab": {
          "base_uri": "https://localhost:8080/"
        },
        "id": "lgA59yV2qP2o",
        "outputId": "d15493aa-4846-4646-ac94-407e191ec148"
      },
      "outputs": [
        {
          "output_type": "execute_result",
          "data": {
            "text/plain": [
              "Text          0\n",
              "GE_indices    0\n",
              "dtype: int64"
            ]
          },
          "metadata": {},
          "execution_count": 99
        }
      ],
      "source": [
        "df_all.isnull().sum()"
      ]
    },
    {
      "cell_type": "code",
      "execution_count": null,
      "metadata": {
        "colab": {
          "base_uri": "https://localhost:8080/",
          "height": 423
        },
        "id": "8x04O6GyqwkT",
        "outputId": "326a2063-012a-476a-a351-ff3594e8abb4"
      },
      "outputs": [
        {
          "output_type": "execute_result",
          "data": {
            "text/plain": [
              "                                                    Text GE_indices\n",
              "0      My favourite food is anything I didn't have to...         27\n",
              "1      Now if he does off himself, everyone will thin...         27\n",
              "2                         WHY THE FUCK IS BAYLESS ISOING          2\n",
              "3                            To make her feel threatened         14\n",
              "4                                 Dirty Southern Wankers          3\n",
              "...                                                  ...        ...\n",
              "54258  Thanks. I was diagnosed with BP 1 after the ho...         15\n",
              "54259                             Well that makes sense.          4\n",
              "54260                                Daddy issues [NAME]         27\n",
              "54261  So glad I discovered that subreddit a couple m...          0\n",
              "54262  Had to watch \"Elmo in Grouchland\" one time too...         27\n",
              "\n",
              "[54263 rows x 2 columns]"
            ],
            "text/html": [
              "\n",
              "  <div id=\"df-ad5fbee0-d6b4-4228-8c68-2271e6915bd2\">\n",
              "    <div class=\"colab-df-container\">\n",
              "      <div>\n",
              "<style scoped>\n",
              "    .dataframe tbody tr th:only-of-type {\n",
              "        vertical-align: middle;\n",
              "    }\n",
              "\n",
              "    .dataframe tbody tr th {\n",
              "        vertical-align: top;\n",
              "    }\n",
              "\n",
              "    .dataframe thead th {\n",
              "        text-align: right;\n",
              "    }\n",
              "</style>\n",
              "<table border=\"1\" class=\"dataframe\">\n",
              "  <thead>\n",
              "    <tr style=\"text-align: right;\">\n",
              "      <th></th>\n",
              "      <th>Text</th>\n",
              "      <th>GE_indices</th>\n",
              "    </tr>\n",
              "  </thead>\n",
              "  <tbody>\n",
              "    <tr>\n",
              "      <th>0</th>\n",
              "      <td>My favourite food is anything I didn't have to...</td>\n",
              "      <td>27</td>\n",
              "    </tr>\n",
              "    <tr>\n",
              "      <th>1</th>\n",
              "      <td>Now if he does off himself, everyone will thin...</td>\n",
              "      <td>27</td>\n",
              "    </tr>\n",
              "    <tr>\n",
              "      <th>2</th>\n",
              "      <td>WHY THE FUCK IS BAYLESS ISOING</td>\n",
              "      <td>2</td>\n",
              "    </tr>\n",
              "    <tr>\n",
              "      <th>3</th>\n",
              "      <td>To make her feel threatened</td>\n",
              "      <td>14</td>\n",
              "    </tr>\n",
              "    <tr>\n",
              "      <th>4</th>\n",
              "      <td>Dirty Southern Wankers</td>\n",
              "      <td>3</td>\n",
              "    </tr>\n",
              "    <tr>\n",
              "      <th>...</th>\n",
              "      <td>...</td>\n",
              "      <td>...</td>\n",
              "    </tr>\n",
              "    <tr>\n",
              "      <th>54258</th>\n",
              "      <td>Thanks. I was diagnosed with BP 1 after the ho...</td>\n",
              "      <td>15</td>\n",
              "    </tr>\n",
              "    <tr>\n",
              "      <th>54259</th>\n",
              "      <td>Well that makes sense.</td>\n",
              "      <td>4</td>\n",
              "    </tr>\n",
              "    <tr>\n",
              "      <th>54260</th>\n",
              "      <td>Daddy issues [NAME]</td>\n",
              "      <td>27</td>\n",
              "    </tr>\n",
              "    <tr>\n",
              "      <th>54261</th>\n",
              "      <td>So glad I discovered that subreddit a couple m...</td>\n",
              "      <td>0</td>\n",
              "    </tr>\n",
              "    <tr>\n",
              "      <th>54262</th>\n",
              "      <td>Had to watch \"Elmo in Grouchland\" one time too...</td>\n",
              "      <td>27</td>\n",
              "    </tr>\n",
              "  </tbody>\n",
              "</table>\n",
              "<p>54263 rows × 2 columns</p>\n",
              "</div>\n",
              "      <button class=\"colab-df-convert\" onclick=\"convertToInteractive('df-ad5fbee0-d6b4-4228-8c68-2271e6915bd2')\"\n",
              "              title=\"Convert this dataframe to an interactive table.\"\n",
              "              style=\"display:none;\">\n",
              "        \n",
              "  <svg xmlns=\"http://www.w3.org/2000/svg\" height=\"24px\"viewBox=\"0 0 24 24\"\n",
              "       width=\"24px\">\n",
              "    <path d=\"M0 0h24v24H0V0z\" fill=\"none\"/>\n",
              "    <path d=\"M18.56 5.44l.94 2.06.94-2.06 2.06-.94-2.06-.94-.94-2.06-.94 2.06-2.06.94zm-11 1L8.5 8.5l.94-2.06 2.06-.94-2.06-.94L8.5 2.5l-.94 2.06-2.06.94zm10 10l.94 2.06.94-2.06 2.06-.94-2.06-.94-.94-2.06-.94 2.06-2.06.94z\"/><path d=\"M17.41 7.96l-1.37-1.37c-.4-.4-.92-.59-1.43-.59-.52 0-1.04.2-1.43.59L10.3 9.45l-7.72 7.72c-.78.78-.78 2.05 0 2.83L4 21.41c.39.39.9.59 1.41.59.51 0 1.02-.2 1.41-.59l7.78-7.78 2.81-2.81c.8-.78.8-2.07 0-2.86zM5.41 20L4 18.59l7.72-7.72 1.47 1.35L5.41 20z\"/>\n",
              "  </svg>\n",
              "      </button>\n",
              "      \n",
              "  <style>\n",
              "    .colab-df-container {\n",
              "      display:flex;\n",
              "      flex-wrap:wrap;\n",
              "      gap: 12px;\n",
              "    }\n",
              "\n",
              "    .colab-df-convert {\n",
              "      background-color: #E8F0FE;\n",
              "      border: none;\n",
              "      border-radius: 50%;\n",
              "      cursor: pointer;\n",
              "      display: none;\n",
              "      fill: #1967D2;\n",
              "      height: 32px;\n",
              "      padding: 0 0 0 0;\n",
              "      width: 32px;\n",
              "    }\n",
              "\n",
              "    .colab-df-convert:hover {\n",
              "      background-color: #E2EBFA;\n",
              "      box-shadow: 0px 1px 2px rgba(60, 64, 67, 0.3), 0px 1px 3px 1px rgba(60, 64, 67, 0.15);\n",
              "      fill: #174EA6;\n",
              "    }\n",
              "\n",
              "    [theme=dark] .colab-df-convert {\n",
              "      background-color: #3B4455;\n",
              "      fill: #D2E3FC;\n",
              "    }\n",
              "\n",
              "    [theme=dark] .colab-df-convert:hover {\n",
              "      background-color: #434B5C;\n",
              "      box-shadow: 0px 1px 3px 1px rgba(0, 0, 0, 0.15);\n",
              "      filter: drop-shadow(0px 1px 2px rgba(0, 0, 0, 0.3));\n",
              "      fill: #FFFFFF;\n",
              "    }\n",
              "  </style>\n",
              "\n",
              "      <script>\n",
              "        const buttonEl =\n",
              "          document.querySelector('#df-ad5fbee0-d6b4-4228-8c68-2271e6915bd2 button.colab-df-convert');\n",
              "        buttonEl.style.display =\n",
              "          google.colab.kernel.accessAllowed ? 'block' : 'none';\n",
              "\n",
              "        async function convertToInteractive(key) {\n",
              "          const element = document.querySelector('#df-ad5fbee0-d6b4-4228-8c68-2271e6915bd2');\n",
              "          const dataTable =\n",
              "            await google.colab.kernel.invokeFunction('convertToInteractive',\n",
              "                                                     [key], {});\n",
              "          if (!dataTable) return;\n",
              "\n",
              "          const docLinkHtml = 'Like what you see? Visit the ' +\n",
              "            '<a target=\"_blank\" href=https://colab.research.google.com/notebooks/data_table.ipynb>data table notebook</a>'\n",
              "            + ' to learn more about interactive tables.';\n",
              "          element.innerHTML = '';\n",
              "          dataTable['output_type'] = 'display_data';\n",
              "          await google.colab.output.renderOutput(dataTable, element);\n",
              "          const docLink = document.createElement('div');\n",
              "          docLink.innerHTML = docLinkHtml;\n",
              "          element.appendChild(docLink);\n",
              "        }\n",
              "      </script>\n",
              "    </div>\n",
              "  </div>\n",
              "  "
            ]
          },
          "metadata": {},
          "execution_count": 100
        }
      ],
      "source": [
        "df_all"
      ]
    },
    {
      "cell_type": "markdown",
      "metadata": {
        "id": "VYUpoqk8sFO6"
      },
      "source": [
        "Dropping the un required emotions"
      ]
    },
    {
      "cell_type": "code",
      "execution_count": null,
      "metadata": {
        "id": "9XCVR6z-FLsx"
      },
      "outputs": [],
      "source": [
        "j=['0','1','3','4','5','6','7','8','9','10','11','12','13','15','16','18','19','20','21','22','23','24','26','27']"
      ]
    },
    {
      "cell_type": "code",
      "execution_count": null,
      "metadata": {
        "colab": {
          "base_uri": "https://localhost:8080/"
        },
        "id": "H9LwbFy2CfB2",
        "outputId": "1402dc6a-cc15-41ec-bd9e-2ea29fe5dfa2"
      },
      "outputs": [
        {
          "output_type": "stream",
          "name": "stdout",
          "text": [
            "2\n",
            "14\n",
            "17\n",
            "25\n",
            "                                                    Text GE_indices\n",
            "2                         WHY THE FUCK IS BAYLESS ISOING          2\n",
            "17                                       Fucking coward.          2\n",
            "25                 Stupidly stubborn / stubbornly stupid          2\n",
            "30     Troll, bro. They know they're saying stupid sh...          2\n",
            "116                                  The fuck is “mog?!”          2\n",
            "...                                                  ...        ...\n",
            "54090                       I miss the confetti cakes :(         25\n",
            "54137  I'm a little sad that there's not actually a v...         25\n",
            "54172  Wife left me and I am just broken. relapsed to...         25\n",
            "54175  I really pity those unfree Cuban babies. It’s ...         25\n",
            "54178                                   Ik I’m crying rn         25\n",
            "\n",
            "[3873 rows x 2 columns]\n"
          ]
        },
        {
          "output_type": "stream",
          "name": "stderr",
          "text": [
            "<ipython-input-102-a54a9a9f215c>:5: FutureWarning: The frame.append method is deprecated and will be removed from pandas in a future version. Use pandas.concat instead.\n",
            "  df_final2=df_final2.append(df_all.loc[df_all['GE_indices'] == emotions_selected[i]])\n",
            "<ipython-input-102-a54a9a9f215c>:5: FutureWarning: The frame.append method is deprecated and will be removed from pandas in a future version. Use pandas.concat instead.\n",
            "  df_final2=df_final2.append(df_all.loc[df_all['GE_indices'] == emotions_selected[i]])\n",
            "<ipython-input-102-a54a9a9f215c>:5: FutureWarning: The frame.append method is deprecated and will be removed from pandas in a future version. Use pandas.concat instead.\n",
            "  df_final2=df_final2.append(df_all.loc[df_all['GE_indices'] == emotions_selected[i]])\n",
            "<ipython-input-102-a54a9a9f215c>:5: FutureWarning: The frame.append method is deprecated and will be removed from pandas in a future version. Use pandas.concat instead.\n",
            "  df_final2=df_final2.append(df_all.loc[df_all['GE_indices'] == emotions_selected[i]])\n"
          ]
        }
      ],
      "source": [
        "df_final2 = pd.DataFrame()\n",
        "emotions_selected=['2','14','17','25']#\n",
        "\n",
        "for i in range(4):\n",
        "   df_final2=df_final2.append(df_all.loc[df_all['GE_indices'] == emotions_selected[i]])\n",
        "   print(emotions_selected[i])\n",
        "\n",
        "print (df_final2)"
      ]
    },
    {
      "cell_type": "code",
      "source": [
        "df_final2.head()"
      ],
      "metadata": {
        "colab": {
          "base_uri": "https://localhost:8080/",
          "height": 206
        },
        "id": "13-bcb4hFvfz",
        "outputId": "19a10ed1-96c0-4278-e7fb-297c601f94ec"
      },
      "execution_count": null,
      "outputs": [
        {
          "output_type": "execute_result",
          "data": {
            "text/plain": [
              "                                                  Text GE_indices\n",
              "2                       WHY THE FUCK IS BAYLESS ISOING          2\n",
              "17                                     Fucking coward.          2\n",
              "25               Stupidly stubborn / stubbornly stupid          2\n",
              "30   Troll, bro. They know they're saying stupid sh...          2\n",
              "116                                The fuck is “mog?!”          2"
            ],
            "text/html": [
              "\n",
              "  <div id=\"df-52ad56c1-d991-4307-a76d-f790d1da9687\">\n",
              "    <div class=\"colab-df-container\">\n",
              "      <div>\n",
              "<style scoped>\n",
              "    .dataframe tbody tr th:only-of-type {\n",
              "        vertical-align: middle;\n",
              "    }\n",
              "\n",
              "    .dataframe tbody tr th {\n",
              "        vertical-align: top;\n",
              "    }\n",
              "\n",
              "    .dataframe thead th {\n",
              "        text-align: right;\n",
              "    }\n",
              "</style>\n",
              "<table border=\"1\" class=\"dataframe\">\n",
              "  <thead>\n",
              "    <tr style=\"text-align: right;\">\n",
              "      <th></th>\n",
              "      <th>Text</th>\n",
              "      <th>GE_indices</th>\n",
              "    </tr>\n",
              "  </thead>\n",
              "  <tbody>\n",
              "    <tr>\n",
              "      <th>2</th>\n",
              "      <td>WHY THE FUCK IS BAYLESS ISOING</td>\n",
              "      <td>2</td>\n",
              "    </tr>\n",
              "    <tr>\n",
              "      <th>17</th>\n",
              "      <td>Fucking coward.</td>\n",
              "      <td>2</td>\n",
              "    </tr>\n",
              "    <tr>\n",
              "      <th>25</th>\n",
              "      <td>Stupidly stubborn / stubbornly stupid</td>\n",
              "      <td>2</td>\n",
              "    </tr>\n",
              "    <tr>\n",
              "      <th>30</th>\n",
              "      <td>Troll, bro. They know they're saying stupid sh...</td>\n",
              "      <td>2</td>\n",
              "    </tr>\n",
              "    <tr>\n",
              "      <th>116</th>\n",
              "      <td>The fuck is “mog?!”</td>\n",
              "      <td>2</td>\n",
              "    </tr>\n",
              "  </tbody>\n",
              "</table>\n",
              "</div>\n",
              "      <button class=\"colab-df-convert\" onclick=\"convertToInteractive('df-52ad56c1-d991-4307-a76d-f790d1da9687')\"\n",
              "              title=\"Convert this dataframe to an interactive table.\"\n",
              "              style=\"display:none;\">\n",
              "        \n",
              "  <svg xmlns=\"http://www.w3.org/2000/svg\" height=\"24px\"viewBox=\"0 0 24 24\"\n",
              "       width=\"24px\">\n",
              "    <path d=\"M0 0h24v24H0V0z\" fill=\"none\"/>\n",
              "    <path d=\"M18.56 5.44l.94 2.06.94-2.06 2.06-.94-2.06-.94-.94-2.06-.94 2.06-2.06.94zm-11 1L8.5 8.5l.94-2.06 2.06-.94-2.06-.94L8.5 2.5l-.94 2.06-2.06.94zm10 10l.94 2.06.94-2.06 2.06-.94-2.06-.94-.94-2.06-.94 2.06-2.06.94z\"/><path d=\"M17.41 7.96l-1.37-1.37c-.4-.4-.92-.59-1.43-.59-.52 0-1.04.2-1.43.59L10.3 9.45l-7.72 7.72c-.78.78-.78 2.05 0 2.83L4 21.41c.39.39.9.59 1.41.59.51 0 1.02-.2 1.41-.59l7.78-7.78 2.81-2.81c.8-.78.8-2.07 0-2.86zM5.41 20L4 18.59l7.72-7.72 1.47 1.35L5.41 20z\"/>\n",
              "  </svg>\n",
              "      </button>\n",
              "      \n",
              "  <style>\n",
              "    .colab-df-container {\n",
              "      display:flex;\n",
              "      flex-wrap:wrap;\n",
              "      gap: 12px;\n",
              "    }\n",
              "\n",
              "    .colab-df-convert {\n",
              "      background-color: #E8F0FE;\n",
              "      border: none;\n",
              "      border-radius: 50%;\n",
              "      cursor: pointer;\n",
              "      display: none;\n",
              "      fill: #1967D2;\n",
              "      height: 32px;\n",
              "      padding: 0 0 0 0;\n",
              "      width: 32px;\n",
              "    }\n",
              "\n",
              "    .colab-df-convert:hover {\n",
              "      background-color: #E2EBFA;\n",
              "      box-shadow: 0px 1px 2px rgba(60, 64, 67, 0.3), 0px 1px 3px 1px rgba(60, 64, 67, 0.15);\n",
              "      fill: #174EA6;\n",
              "    }\n",
              "\n",
              "    [theme=dark] .colab-df-convert {\n",
              "      background-color: #3B4455;\n",
              "      fill: #D2E3FC;\n",
              "    }\n",
              "\n",
              "    [theme=dark] .colab-df-convert:hover {\n",
              "      background-color: #434B5C;\n",
              "      box-shadow: 0px 1px 3px 1px rgba(0, 0, 0, 0.15);\n",
              "      filter: drop-shadow(0px 1px 2px rgba(0, 0, 0, 0.3));\n",
              "      fill: #FFFFFF;\n",
              "    }\n",
              "  </style>\n",
              "\n",
              "      <script>\n",
              "        const buttonEl =\n",
              "          document.querySelector('#df-52ad56c1-d991-4307-a76d-f790d1da9687 button.colab-df-convert');\n",
              "        buttonEl.style.display =\n",
              "          google.colab.kernel.accessAllowed ? 'block' : 'none';\n",
              "\n",
              "        async function convertToInteractive(key) {\n",
              "          const element = document.querySelector('#df-52ad56c1-d991-4307-a76d-f790d1da9687');\n",
              "          const dataTable =\n",
              "            await google.colab.kernel.invokeFunction('convertToInteractive',\n",
              "                                                     [key], {});\n",
              "          if (!dataTable) return;\n",
              "\n",
              "          const docLinkHtml = 'Like what you see? Visit the ' +\n",
              "            '<a target=\"_blank\" href=https://colab.research.google.com/notebooks/data_table.ipynb>data table notebook</a>'\n",
              "            + ' to learn more about interactive tables.';\n",
              "          element.innerHTML = '';\n",
              "          dataTable['output_type'] = 'display_data';\n",
              "          await google.colab.output.renderOutput(dataTable, element);\n",
              "          const docLink = document.createElement('div');\n",
              "          docLink.innerHTML = docLinkHtml;\n",
              "          element.appendChild(docLink);\n",
              "        }\n",
              "      </script>\n",
              "    </div>\n",
              "  </div>\n",
              "  "
            ]
          },
          "metadata": {},
          "execution_count": 103
        }
      ]
    },
    {
      "cell_type": "code",
      "source": [
        "one_hot_encoded_data = pd.get_dummies(df_final2, columns = ['GE_indices'])"
      ],
      "metadata": {
        "id": "x1P5nff4KYMy"
      },
      "execution_count": null,
      "outputs": []
    },
    {
      "cell_type": "code",
      "source": [
        "one_hot_encoded_data.head()"
      ],
      "metadata": {
        "colab": {
          "base_uri": "https://localhost:8080/",
          "height": 206
        },
        "id": "I8pZhZBfKjZD",
        "outputId": "506443fd-0f35-4f9d-b418-e3a2fae63345"
      },
      "execution_count": null,
      "outputs": [
        {
          "output_type": "execute_result",
          "data": {
            "text/plain": [
              "                                                  Text  GE_indices_14  \\\n",
              "2                       WHY THE FUCK IS BAYLESS ISOING              0   \n",
              "17                                     Fucking coward.              0   \n",
              "25               Stupidly stubborn / stubbornly stupid              0   \n",
              "30   Troll, bro. They know they're saying stupid sh...              0   \n",
              "116                                The fuck is “mog?!”              0   \n",
              "\n",
              "     GE_indices_17  GE_indices_2  GE_indices_25  \n",
              "2                0             1              0  \n",
              "17               0             1              0  \n",
              "25               0             1              0  \n",
              "30               0             1              0  \n",
              "116              0             1              0  "
            ],
            "text/html": [
              "\n",
              "  <div id=\"df-5ea6d0d3-84bb-4009-8d87-a659a4c67a2a\">\n",
              "    <div class=\"colab-df-container\">\n",
              "      <div>\n",
              "<style scoped>\n",
              "    .dataframe tbody tr th:only-of-type {\n",
              "        vertical-align: middle;\n",
              "    }\n",
              "\n",
              "    .dataframe tbody tr th {\n",
              "        vertical-align: top;\n",
              "    }\n",
              "\n",
              "    .dataframe thead th {\n",
              "        text-align: right;\n",
              "    }\n",
              "</style>\n",
              "<table border=\"1\" class=\"dataframe\">\n",
              "  <thead>\n",
              "    <tr style=\"text-align: right;\">\n",
              "      <th></th>\n",
              "      <th>Text</th>\n",
              "      <th>GE_indices_14</th>\n",
              "      <th>GE_indices_17</th>\n",
              "      <th>GE_indices_2</th>\n",
              "      <th>GE_indices_25</th>\n",
              "    </tr>\n",
              "  </thead>\n",
              "  <tbody>\n",
              "    <tr>\n",
              "      <th>2</th>\n",
              "      <td>WHY THE FUCK IS BAYLESS ISOING</td>\n",
              "      <td>0</td>\n",
              "      <td>0</td>\n",
              "      <td>1</td>\n",
              "      <td>0</td>\n",
              "    </tr>\n",
              "    <tr>\n",
              "      <th>17</th>\n",
              "      <td>Fucking coward.</td>\n",
              "      <td>0</td>\n",
              "      <td>0</td>\n",
              "      <td>1</td>\n",
              "      <td>0</td>\n",
              "    </tr>\n",
              "    <tr>\n",
              "      <th>25</th>\n",
              "      <td>Stupidly stubborn / stubbornly stupid</td>\n",
              "      <td>0</td>\n",
              "      <td>0</td>\n",
              "      <td>1</td>\n",
              "      <td>0</td>\n",
              "    </tr>\n",
              "    <tr>\n",
              "      <th>30</th>\n",
              "      <td>Troll, bro. They know they're saying stupid sh...</td>\n",
              "      <td>0</td>\n",
              "      <td>0</td>\n",
              "      <td>1</td>\n",
              "      <td>0</td>\n",
              "    </tr>\n",
              "    <tr>\n",
              "      <th>116</th>\n",
              "      <td>The fuck is “mog?!”</td>\n",
              "      <td>0</td>\n",
              "      <td>0</td>\n",
              "      <td>1</td>\n",
              "      <td>0</td>\n",
              "    </tr>\n",
              "  </tbody>\n",
              "</table>\n",
              "</div>\n",
              "      <button class=\"colab-df-convert\" onclick=\"convertToInteractive('df-5ea6d0d3-84bb-4009-8d87-a659a4c67a2a')\"\n",
              "              title=\"Convert this dataframe to an interactive table.\"\n",
              "              style=\"display:none;\">\n",
              "        \n",
              "  <svg xmlns=\"http://www.w3.org/2000/svg\" height=\"24px\"viewBox=\"0 0 24 24\"\n",
              "       width=\"24px\">\n",
              "    <path d=\"M0 0h24v24H0V0z\" fill=\"none\"/>\n",
              "    <path d=\"M18.56 5.44l.94 2.06.94-2.06 2.06-.94-2.06-.94-.94-2.06-.94 2.06-2.06.94zm-11 1L8.5 8.5l.94-2.06 2.06-.94-2.06-.94L8.5 2.5l-.94 2.06-2.06.94zm10 10l.94 2.06.94-2.06 2.06-.94-2.06-.94-.94-2.06-.94 2.06-2.06.94z\"/><path d=\"M17.41 7.96l-1.37-1.37c-.4-.4-.92-.59-1.43-.59-.52 0-1.04.2-1.43.59L10.3 9.45l-7.72 7.72c-.78.78-.78 2.05 0 2.83L4 21.41c.39.39.9.59 1.41.59.51 0 1.02-.2 1.41-.59l7.78-7.78 2.81-2.81c.8-.78.8-2.07 0-2.86zM5.41 20L4 18.59l7.72-7.72 1.47 1.35L5.41 20z\"/>\n",
              "  </svg>\n",
              "      </button>\n",
              "      \n",
              "  <style>\n",
              "    .colab-df-container {\n",
              "      display:flex;\n",
              "      flex-wrap:wrap;\n",
              "      gap: 12px;\n",
              "    }\n",
              "\n",
              "    .colab-df-convert {\n",
              "      background-color: #E8F0FE;\n",
              "      border: none;\n",
              "      border-radius: 50%;\n",
              "      cursor: pointer;\n",
              "      display: none;\n",
              "      fill: #1967D2;\n",
              "      height: 32px;\n",
              "      padding: 0 0 0 0;\n",
              "      width: 32px;\n",
              "    }\n",
              "\n",
              "    .colab-df-convert:hover {\n",
              "      background-color: #E2EBFA;\n",
              "      box-shadow: 0px 1px 2px rgba(60, 64, 67, 0.3), 0px 1px 3px 1px rgba(60, 64, 67, 0.15);\n",
              "      fill: #174EA6;\n",
              "    }\n",
              "\n",
              "    [theme=dark] .colab-df-convert {\n",
              "      background-color: #3B4455;\n",
              "      fill: #D2E3FC;\n",
              "    }\n",
              "\n",
              "    [theme=dark] .colab-df-convert:hover {\n",
              "      background-color: #434B5C;\n",
              "      box-shadow: 0px 1px 3px 1px rgba(0, 0, 0, 0.15);\n",
              "      filter: drop-shadow(0px 1px 2px rgba(0, 0, 0, 0.3));\n",
              "      fill: #FFFFFF;\n",
              "    }\n",
              "  </style>\n",
              "\n",
              "      <script>\n",
              "        const buttonEl =\n",
              "          document.querySelector('#df-5ea6d0d3-84bb-4009-8d87-a659a4c67a2a button.colab-df-convert');\n",
              "        buttonEl.style.display =\n",
              "          google.colab.kernel.accessAllowed ? 'block' : 'none';\n",
              "\n",
              "        async function convertToInteractive(key) {\n",
              "          const element = document.querySelector('#df-5ea6d0d3-84bb-4009-8d87-a659a4c67a2a');\n",
              "          const dataTable =\n",
              "            await google.colab.kernel.invokeFunction('convertToInteractive',\n",
              "                                                     [key], {});\n",
              "          if (!dataTable) return;\n",
              "\n",
              "          const docLinkHtml = 'Like what you see? Visit the ' +\n",
              "            '<a target=\"_blank\" href=https://colab.research.google.com/notebooks/data_table.ipynb>data table notebook</a>'\n",
              "            + ' to learn more about interactive tables.';\n",
              "          element.innerHTML = '';\n",
              "          dataTable['output_type'] = 'display_data';\n",
              "          await google.colab.output.renderOutput(dataTable, element);\n",
              "          const docLink = document.createElement('div');\n",
              "          docLink.innerHTML = docLinkHtml;\n",
              "          element.appendChild(docLink);\n",
              "        }\n",
              "      </script>\n",
              "    </div>\n",
              "  </div>\n",
              "  "
            ]
          },
          "metadata": {},
          "execution_count": 105
        }
      ]
    },
    {
      "cell_type": "code",
      "execution_count": null,
      "metadata": {
        "colab": {
          "base_uri": "https://localhost:8080/"
        },
        "id": "wVHBtj5hEUKq",
        "outputId": "1f1abf8e-bc4d-470e-c9dd-e991e89209d2"
      },
      "outputs": [
        {
          "output_type": "execute_result",
          "data": {
            "text/plain": [
              "2     1265\n",
              "17    1052\n",
              "25    1003\n",
              "14     553\n",
              "Name: GE_indices, dtype: int64"
            ]
          },
          "metadata": {},
          "execution_count": 106
        }
      ],
      "source": [
        "df_final2.GE_indices.value_counts()"
      ]
    },
    {
      "cell_type": "code",
      "execution_count": null,
      "metadata": {
        "id": "xrAf6vrBqzYa"
      },
      "outputs": [],
      "source": [
        "X = df_final2.iloc[:, 0].values\n",
        "Y = one_hot_encoded_data.iloc[:, 1:5].values"
      ]
    },
    {
      "cell_type": "code",
      "execution_count": null,
      "metadata": {
        "colab": {
          "base_uri": "https://localhost:8080/"
        },
        "id": "gQWR8N_IrsNZ",
        "outputId": "92bc5ca6-5f47-45a0-df61-23b934d71059"
      },
      "outputs": [
        {
          "output_type": "execute_result",
          "data": {
            "text/plain": [
              "array(['WHY THE FUCK IS BAYLESS ISOING', 'Fucking coward.',\n",
              "       'Stupidly stubborn / stubbornly stupid', ...,\n",
              "       'Wife left me and I am just broken. relapsed tonight from 7 years clean and just not seeing a point anymore',\n",
              "       'I really pity those unfree Cuban babies. It’s just sad.',\n",
              "       'Ik I’m crying rn'], dtype=object)"
            ]
          },
          "metadata": {},
          "execution_count": 108
        }
      ],
      "source": [
        "X"
      ]
    },
    {
      "cell_type": "code",
      "execution_count": null,
      "metadata": {
        "colab": {
          "base_uri": "https://localhost:8080/"
        },
        "id": "uPyhSpk-rssY",
        "outputId": "ad76415f-81c3-4c11-add4-0d8d89e04515"
      },
      "outputs": [
        {
          "output_type": "execute_result",
          "data": {
            "text/plain": [
              "array([[0, 0, 1, 0],\n",
              "       [0, 0, 1, 0],\n",
              "       [0, 0, 1, 0],\n",
              "       ...,\n",
              "       [0, 0, 0, 1],\n",
              "       [0, 0, 0, 1],\n",
              "       [0, 0, 0, 1]], dtype=uint8)"
            ]
          },
          "metadata": {},
          "execution_count": 109
        }
      ],
      "source": [
        "Y"
      ]
    },
    {
      "cell_type": "code",
      "execution_count": null,
      "metadata": {
        "colab": {
          "base_uri": "https://localhost:8080/"
        },
        "id": "N6wTKkV_ruIQ",
        "outputId": "909eb2d3-3e0c-4fa2-8429-aa89c126570d"
      },
      "outputs": [
        {
          "output_type": "stream",
          "name": "stdout",
          "text": [
            "(3873,)\n",
            "(3873, 4)\n"
          ]
        }
      ],
      "source": [
        "print(X.shape)\n",
        "print(Y.shape)"
      ]
    },
    {
      "cell_type": "markdown",
      "metadata": {
        "id": "IgZZYenaIhId"
      },
      "source": [
        "###Split data  into training and validation sets\n"
      ]
    },
    {
      "cell_type": "code",
      "execution_count": null,
      "metadata": {
        "id": "ZaCoR_aZIf34"
      },
      "outputs": [],
      "source": [
        "from sklearn.model_selection import train_test_split"
      ]
    },
    {
      "cell_type": "code",
      "execution_count": null,
      "metadata": {
        "id": "QQOCuyf4Io9R"
      },
      "outputs": [],
      "source": [
        "train_sentences, val_sentences, train_labels, val_labels= train_test_split(X,\n",
        "                                                                           Y,\n",
        "                                                                           test_size=0.1,#use 20%of training data for validation\n",
        "                                                                           random_state=42)"
      ]
    },
    {
      "cell_type": "code",
      "execution_count": null,
      "metadata": {
        "colab": {
          "base_uri": "https://localhost:8080/"
        },
        "id": "UoIcyuqPI_5h",
        "outputId": "a1f444a3-f85e-4687-f655-4c8d69b7d368"
      },
      "outputs": [
        {
          "output_type": "execute_result",
          "data": {
            "text/plain": [
              "(3485, 3485, 388, 388)"
            ]
          },
          "metadata": {},
          "execution_count": 113
        }
      ],
      "source": [
        "len(train_sentences),len(train_labels),len(val_sentences), len(val_labels)"
      ]
    },
    {
      "cell_type": "code",
      "execution_count": null,
      "metadata": {
        "colab": {
          "base_uri": "https://localhost:8080/"
        },
        "id": "GZOaWdwyJDlq",
        "outputId": "ff702999-7cc7-48ef-b248-d1867667902c"
      },
      "outputs": [
        {
          "output_type": "execute_result",
          "data": {
            "text/plain": [
              "(array(['You realize everyone sees you REEEEEEing all over the place right? You can act nonchalant all you want but obviously youre one salty sea dog',\n",
              "        \"Seems like you're another guy who hates legion ;D\", 'Just stop.',\n",
              "        'i think its cool because its a hybrid that comes in stickshift',\n",
              "        'Just for recreational use? Glad you are having a change of mind though',\n",
              "        \"That's why I'm glad they got [NAME].\",\n",
              "        '... and no one seemed to care Except that lonely woman with white hair',\n",
              "        \"I might be alone here, but it was probably Blame Game. I don't think I heard a rap song with that much emotional intensity before.\",\n",
              "        'it made me cry too when [NAME] return to her older self😢',\n",
              "        'I’m sorry friend. I actually used to be pretty good with this but I’m constantly getting worse.'],\n",
              "       dtype=object), array([[0, 0, 1, 0],\n",
              "        [0, 0, 1, 0],\n",
              "        [0, 0, 1, 0],\n",
              "        [0, 1, 0, 0],\n",
              "        [0, 1, 0, 0],\n",
              "        [0, 1, 0, 0],\n",
              "        [0, 0, 0, 1],\n",
              "        [0, 0, 0, 1],\n",
              "        [0, 0, 0, 1],\n",
              "        [0, 0, 0, 1]], dtype=uint8))"
            ]
          },
          "metadata": {},
          "execution_count": 114
        }
      ],
      "source": [
        "#checking the samples\n",
        "train_sentences[:10], train_labels[:10]"
      ]
    },
    {
      "cell_type": "markdown",
      "metadata": {
        "id": "0MldYtu9JN5M"
      },
      "source": [
        "##converting text to numbers\n",
        "When dealing with text we needd to convert it into numbers\n",
        "\n",
        "there are a few ways to do this\n",
        "* Tokenisation- direct mapping of token(a token could be word or a character) to number\n",
        "* Embedding - create a matrix of feature vector for each token (size of the feature vector can be defined and this embedding can be learned)"
      ]
    },
    {
      "cell_type": "code",
      "execution_count": null,
      "metadata": {
        "id": "DSZOoNyXJMp3"
      },
      "outputs": [],
      "source": [
        "import tensorflow as tf\n",
        "from tensorflow.keras.layers.experimental.preprocessing import TextVectorization"
      ]
    },
    {
      "cell_type": "code",
      "execution_count": null,
      "metadata": {
        "colab": {
          "base_uri": "https://localhost:8080/"
        },
        "id": "I0YlgftPJT-X",
        "outputId": "10e44936-7148-4db4-cd09-65a398690f2a"
      },
      "outputs": [
        {
          "output_type": "stream",
          "name": "stdout",
          "text": [
            "/bin/bash: pipinstall: command not found\n"
          ]
        }
      ],
      "source": [
        "!pipinstall tensorflow===2.10.0"
      ]
    },
    {
      "cell_type": "code",
      "execution_count": null,
      "metadata": {
        "id": "YgZR8gYAJY-d"
      },
      "outputs": [],
      "source": [
        "#using default textvectorization parameters\n",
        "text_vectorizer = TextVectorization(max_tokens=None, # how many words in the vocabulary (all of the different words in your text)\n",
        "                                    standardize=\"lower_and_strip_punctuation\", # how to process text\n",
        "                                    split=\"whitespace\", # how to split tokens\n",
        "                                    ngrams=None, # create groups of n-words?\n",
        "                                    output_mode=\"int\", # how to map tokens to numbers\n",
        "                                    output_sequence_length=None) # how long should the output sequence of tokens be?\n",
        "                                    # pad_to_max_tokens=True)9"
      ]
    },
    {
      "cell_type": "code",
      "execution_count": null,
      "metadata": {
        "colab": {
          "base_uri": "https://localhost:8080/"
        },
        "id": "8V5Aif3TJcLa",
        "outputId": "84424501-291d-4c3d-9185-b0a3fd930d27"
      },
      "outputs": [
        {
          "output_type": "execute_result",
          "data": {
            "text/plain": [
              "12"
            ]
          },
          "metadata": {},
          "execution_count": 119
        }
      ],
      "source": [
        "#find the average num of tokens in the training tweets\n",
        "round(sum([len(i.split())for i in train_sentences ])/len(train_sentences))"
      ]
    },
    {
      "cell_type": "code",
      "execution_count": null,
      "metadata": {
        "id": "sSYRWNHlJfPw"
      },
      "outputs": [],
      "source": [
        "#setup text vectorization variables\n",
        "max_vocab_length=10000 # max num of words to have in our vocabulary\n",
        "max_length= 15 #max length our sequences will be (eg how many words from a tweet does a model need to see)\\\n",
        "\n",
        "text_vectorizer=TextVectorization(max_tokens=max_vocab_length,\n",
        "                                  output_mode=\"int\",\n",
        "                                  output_sequence_length=max_length)"
      ]
    },
    {
      "cell_type": "code",
      "execution_count": null,
      "metadata": {
        "id": "2dEluDqqJg0w"
      },
      "outputs": [],
      "source": [
        "#fit the text vecctorizer to the training text\n",
        "text_vectorizer.adapt(train_sentences)"
      ]
    },
    {
      "cell_type": "code",
      "execution_count": null,
      "metadata": {
        "colab": {
          "base_uri": "https://localhost:8080/"
        },
        "id": "4L-Ap2SLJiZV",
        "outputId": "b714abc8-3d74-4aed-a62d-90faeda1d8b3"
      },
      "outputs": [
        {
          "output_type": "execute_result",
          "data": {
            "text/plain": [
              "<tf.Tensor: shape=(1, 15), dtype=int64, numpy=\n",
              "array([[236,  59,  22, 549,   1, 795,  59, 293,   0,   0,   0,   0,   0,\n",
              "          0,   0]])>"
            ]
          },
          "metadata": {},
          "execution_count": 122
        }
      ],
      "source": [
        "sample_sentence=\"Wow we are finally implenting! aren't we great\"\n",
        "text_vectorizer([sample_sentence])"
      ]
    },
    {
      "cell_type": "code",
      "execution_count": null,
      "metadata": {
        "colab": {
          "base_uri": "https://localhost:8080/"
        },
        "id": "XfhHhqPpJk_z",
        "outputId": "3b7104cf-dd87-429a-c575-5db54bf71414"
      },
      "outputs": [
        {
          "output_type": "stream",
          "name": "stdout",
          "text": [
            "Original text; \n",
            " Pointless but fun        \n",
            "\n",
            " Vectorized version:\n"
          ]
        },
        {
          "output_type": "execute_result",
          "data": {
            "text/plain": [
              "<tf.Tensor: shape=(1, 15), dtype=int64, numpy=\n",
              "array([[1888,   23,  104,    0,    0,    0,    0,    0,    0,    0,    0,\n",
              "           0,    0,    0,    0]])>"
            ]
          },
          "metadata": {},
          "execution_count": 123
        }
      ],
      "source": [
        "import random\n",
        "random_sentence=random.choice(train_sentences)\n",
        "print(f\"Original text; \\n {random_sentence}\\\n",
        "        \\n\\n Vectorized version:\")\n",
        "text_vectorizer([random_sentence])"
      ]
    },
    {
      "cell_type": "code",
      "execution_count": null,
      "metadata": {
        "colab": {
          "base_uri": "https://localhost:8080/"
        },
        "id": "hyO6A9MrJn4r",
        "outputId": "f85c94a6-02ff-471b-f540-225a358860cf"
      },
      "outputs": [
        {
          "output_type": "stream",
          "name": "stdout",
          "text": [
            "Number of words in vocab:6301\n",
            "5 most common words in vocab:['', '[UNK]', 'the', 'i', 'to']\n",
            "5 most least words in vocab:['110', '1000', '1', '018', '000001']\n"
          ]
        }
      ],
      "source": [
        "# Get the unique words in vocabulary\n",
        "words_in_vocab= text_vectorizer.get_vocabulary()\n",
        "top_5_words= words_in_vocab[:5]#get 5 most common\n",
        "bottom_5_words= words_in_vocab[-5:]#get 5 least common\n",
        "print(f\"Number of words in vocab:{len(words_in_vocab)}\")\n",
        "print(f\"5 most common words in vocab:{top_5_words}\")\n",
        "print(f\"5 most least words in vocab:{bottom_5_words}\")"
      ]
    },
    {
      "cell_type": "markdown",
      "metadata": {
        "id": "1y1U2w2EJxNt"
      },
      "source": [
        "##Creating embedding layer\n",
        "using tensors flows embeding layer"
      ]
    },
    {
      "cell_type": "code",
      "execution_count": null,
      "metadata": {
        "colab": {
          "base_uri": "https://localhost:8080/"
        },
        "id": "a2uHi5yvJsuY",
        "outputId": "bdc0fba7-566a-479d-a4c3-d2e282a3feae"
      },
      "outputs": [
        {
          "output_type": "execute_result",
          "data": {
            "text/plain": [
              "<keras.layers.core.embedding.Embedding at 0x7fe6c28e6760>"
            ]
          },
          "metadata": {},
          "execution_count": 125
        }
      ],
      "source": [
        "tf.random.set_seed(42)\n",
        "from tensorflow.keras import layers\n",
        "\n",
        "embedding = layers.Embedding(input_dim=max_vocab_length, # set input shape\n",
        "                             output_dim=128, # set size of embedding vector\n",
        "                             embeddings_initializer=\"uniform\", # default, intialize randomly\n",
        "                             input_length=max_length, # how long is each input\n",
        "                             name=\"embedding_1\")\n",
        "\n",
        "embedding"
      ]
    },
    {
      "cell_type": "code",
      "execution_count": null,
      "metadata": {
        "colab": {
          "base_uri": "https://localhost:8080/"
        },
        "id": "b--dNAKTJ7Di",
        "outputId": "82efba67-36e6-47a3-a3be-8855e18b816a"
      },
      "outputs": [
        {
          "output_type": "stream",
          "name": "stdout",
          "text": [
            "Original text:\n",
            "Those things still haunt my dreams to this day.      \n",
            "\n",
            "Embedded version:\n"
          ]
        },
        {
          "output_type": "execute_result",
          "data": {
            "text/plain": [
              "<tf.Tensor: shape=(1, 15, 128), dtype=float32, numpy=\n",
              "array([[[-0.04809324, -0.04553536, -0.01337464, ...,  0.04469284,\n",
              "         -0.04051531, -0.01093571],\n",
              "        [-0.02202821,  0.04237569, -0.03835442, ..., -0.00149481,\n",
              "         -0.01199568, -0.03506467],\n",
              "        [-0.02950199, -0.0130878 ,  0.0331757 , ..., -0.04696765,\n",
              "          0.01309757, -0.04758787],\n",
              "        ...,\n",
              "        [-0.00639687,  0.02625461,  0.04189365, ...,  0.03356859,\n",
              "          0.02596034,  0.03694897],\n",
              "        [-0.00639687,  0.02625461,  0.04189365, ...,  0.03356859,\n",
              "          0.02596034,  0.03694897],\n",
              "        [-0.00639687,  0.02625461,  0.04189365, ...,  0.03356859,\n",
              "          0.02596034,  0.03694897]]], dtype=float32)>"
            ]
          },
          "metadata": {},
          "execution_count": 126
        }
      ],
      "source": [
        "# Get a random sentence from training set\n",
        "random_sentence = random.choice(train_sentences)\n",
        "print(f\"Original text:\\n{random_sentence}\\\n",
        "      \\n\\nEmbedded version:\")\n",
        "\n",
        "# Embed the random sentence (turn it into numerical representation)\n",
        "sample_embed = embedding(text_vectorizer([random_sentence]))\n",
        "sample_embed"
      ]
    },
    {
      "cell_type": "code",
      "execution_count": null,
      "metadata": {
        "colab": {
          "base_uri": "https://localhost:8080/"
        },
        "id": "zIY0ka-PJ9YO",
        "outputId": "ff0b6eb0-ca38-4f6a-87d6-5e84182ad272"
      },
      "outputs": [
        {
          "output_type": "execute_result",
          "data": {
            "text/plain": [
              "(<tf.Tensor: shape=(128,), dtype=float32, numpy=\n",
              " array([-0.04809324, -0.04553536, -0.01337464, -0.04982675, -0.02996667,\n",
              "         0.00490301,  0.04928522,  0.03284952, -0.00634767,  0.00384798,\n",
              "        -0.00698926,  0.04331188,  0.03644678,  0.01062191, -0.00035523,\n",
              "        -0.01239668,  0.01759023,  0.04538887, -0.02180792, -0.04814089,\n",
              "         0.04415262, -0.02257508,  0.01851794,  0.02251064,  0.00364287,\n",
              "        -0.00210297, -0.04168922,  0.03263335,  0.04476038, -0.04346833,\n",
              "        -0.03293742, -0.03133928,  0.04175169,  0.00194619,  0.03302698,\n",
              "         0.03479362,  0.04870054, -0.03366702, -0.03620879, -0.04755279,\n",
              "         0.04922893,  0.0358541 , -0.02480274,  0.03870853, -0.00683283,\n",
              "        -0.03538359,  0.04499033,  0.01190837,  0.00251961,  0.04978443,\n",
              "        -0.03558023,  0.02659339, -0.02198697, -0.04866848, -0.02351612,\n",
              "         0.02535443, -0.00214473,  0.04143134, -0.04808425, -0.04686215,\n",
              "         0.04246132,  0.02484686, -0.00433489,  0.00362501,  0.04864501,\n",
              "        -0.04287576, -0.03251304, -0.00410531, -0.04174428,  0.04935411,\n",
              "        -0.04998993, -0.0302233 , -0.04519384,  0.00714718, -0.02062889,\n",
              "        -0.00029162,  0.04605644,  0.02339921,  0.00359327, -0.04517425,\n",
              "         0.02951911,  0.0408901 ,  0.00495579,  0.03438777, -0.00404841,\n",
              "         0.0455838 ,  0.00086793, -0.00832212, -0.02955301, -0.00282985,\n",
              "         0.04183305,  0.04636772,  0.02009938, -0.02976543,  0.04543069,\n",
              "         0.00996898,  0.01712754,  0.03278391,  0.03578718, -0.03923702,\n",
              "         0.00421164,  0.00660909,  0.02942789, -0.01405575, -0.03434676,\n",
              "         0.01877649,  0.03704021, -0.02552705, -0.04065602,  0.0068954 ,\n",
              "         0.00845524, -0.04741887, -0.008256  ,  0.01174928,  0.0452478 ,\n",
              "         0.03876015,  0.00946029, -0.04367549, -0.04081655,  0.02050303,\n",
              "         0.03089544,  0.04087834,  0.02709464, -0.00168905,  0.03257091,\n",
              "         0.04469284, -0.04051531, -0.01093571], dtype=float32)>,\n",
              " TensorShape([128]),\n",
              " 'T')"
            ]
          },
          "metadata": {},
          "execution_count": 127
        }
      ],
      "source": [
        "# Check out a single token's embedding\n",
        "sample_embed[0][0], sample_embed[0][0].shape, random_sentence[0]"
      ]
    },
    {
      "cell_type": "markdown",
      "metadata": {
        "id": "Zfdl3k07KMx8"
      },
      "source": [
        "###Modelling a text dataset (running a series of experiements )"
      ]
    },
    {
      "cell_type": "markdown",
      "metadata": {
        "id": "NrNZ1xKeKkau"
      },
      "source": [
        "### Creating an evaluation function for our model experiments\n",
        "\n",
        "We can evaluate all of our model's predictions with different metrics every single time, but that will become very cumbersome.\n",
        "\n",
        "For this, we will create a function.\n",
        "\n",
        "Let's create one to compare our model's predictions with the truth labels using the following metrics: accuracy, precision, recall, f1 score"
      ]
    },
    {
      "cell_type": "code",
      "execution_count": null,
      "metadata": {
        "colab": {
          "base_uri": "https://localhost:8080/"
        },
        "id": "WfeEmBAJTwir",
        "outputId": "45566aac-e0b9-4b04-8e63-92774f450ff2"
      },
      "outputs": [
        {
          "output_type": "stream",
          "name": "stdout",
          "text": [
            "--2023-03-28 15:57:44--  https://raw.githubusercontent.com/mrdbourke/tensorflow-deep-learning/main/extras/helper_functions.py\n",
            "Resolving raw.githubusercontent.com (raw.githubusercontent.com)... 185.199.111.133, 185.199.109.133, 185.199.110.133, ...\n",
            "Connecting to raw.githubusercontent.com (raw.githubusercontent.com)|185.199.111.133|:443... connected.\n",
            "HTTP request sent, awaiting response... 200 OK\n",
            "Length: 10246 (10K) [text/plain]\n",
            "Saving to: ‘helper_functions.py.1’\n",
            "\n",
            "\rhelper_functions.py   0%[                    ]       0  --.-KB/s               \rhelper_functions.py 100%[===================>]  10.01K  --.-KB/s    in 0s      \n",
            "\n",
            "2023-03-28 15:57:44 (94.2 MB/s) - ‘helper_functions.py.1’ saved [10246/10246]\n",
            "\n"
          ]
        }
      ],
      "source": [
        "# Download helper functions script\n",
        "!wget https://raw.githubusercontent.com/mrdbourke/tensorflow-deep-learning/main/extras/helper_functions.py\n",
        "#import series of helper functions\n",
        "from helper_functions import unzip_data, create_tensorboard_callback, plot_loss_curves, compare_historys"
      ]
    },
    {
      "cell_type": "code",
      "source": [
        "# Function to evaluate: accuracy, precision, recall, f1 score\n",
        "\n",
        "from sklearn.metrics import accuracy_score, precision_recall_fscore_support\n",
        "\n",
        "def calculate_results(y_true, y_pred):\n",
        "  \"\"\"\n",
        "  Calculates model accuracy, precision, recall and f1 score of a binary classification model.\n",
        "\n",
        "  Parameters:\n",
        "  -----\n",
        "  y_true = true labels in the form of a 1D array\n",
        "  y_pred = predicted labels in the form of a 1D array\n",
        "\n",
        "  Returns a dictionary of accuracy, precision, recall, f1-score.\n",
        "  \"\"\"\n",
        "  # Calculate model accuracy\n",
        "  model_accuracy = accuracy_score(y_true, y_pred) * 100\n",
        "  # Calculate model precision, recall and f1 score using \"weighted\" average\n",
        "  model_precision, model_recall, model_f1, _ = precision_recall_fscore_support(y_true, y_pred, average=\"weighted\")\n",
        "  model_results = {\"accuracy\": model_accuracy,\n",
        "                  \"precision\": model_precision,\n",
        "                  \"recall\": model_recall,\n",
        "                  \"f1\": model_f1}\n",
        "  return model_results\n",
        "  # _ is used as an blank variable because we dont want 'support' which is a type of return in the function"
      ],
      "metadata": {
        "id": "kNpCENgg8EFG"
      },
      "execution_count": null,
      "outputs": []
    },
    {
      "cell_type": "markdown",
      "metadata": {
        "id": "rsjcVqSIcsrP"
      },
      "source": [
        "##Model 1: A simple dense model\n",
        "The first \"deep\" model we're going to build is a single layer dense model. In fact, it's barely going to have a single layer.\n",
        "\n",
        "It'll take our text and labels as input, tokenize the text, create an embedding, find the average of the embedding (using Global Average Pooling) and then pass the average through a fully connected layer with one output unit and a sigmoid activation function.\n",
        "\n",
        "If the previous sentence sounds like a mouthful, it'll make sense when we code it out (remember, if in doubt, code it out).\n",
        "\n",
        "And since we're going to be building a number of TensorFlow deep learning models, we'll import our create_tensorboard_callback() function from helper_functions.py to keep track of the results of each.\n"
      ]
    },
    {
      "cell_type": "code",
      "execution_count": null,
      "metadata": {
        "id": "GlFf4Htsctvb",
        "colab": {
          "base_uri": "https://localhost:8080/"
        },
        "outputId": "a173d3a1-0f7c-4583-8506-2ef3c930fb23"
      },
      "outputs": [
        {
          "output_type": "stream",
          "name": "stderr",
          "text": [
            "/usr/local/lib/python3.9/dist-packages/tensorflow/python/client/session.py:1769: UserWarning: An interactive session is already active. This can cause out-of-memory errors in some cases. You must explicitly call `InteractiveSession.close()` to release resources held by the other session(s).\n",
            "  warnings.warn('An interactive session is already active. This can '\n"
          ]
        }
      ],
      "source": [
        "from tensorflow.compat.v1 import ConfigProto\n",
        "from tensorflow.compat.v1 import InteractiveSession\n",
        "\n",
        "config = ConfigProto()\n",
        "config.gpu_options.allow_growth = True\n",
        "session = InteractiveSession(config=config)"
      ]
    },
    {
      "cell_type": "code",
      "execution_count": null,
      "metadata": {
        "id": "Jye50ehUc_uH"
      },
      "outputs": [],
      "source": [
        "# Create tensorboard callback (need to create a new one for each model)\n",
        "from helper_functions import create_tensorboard_callback\n",
        "\n",
        "# Create directory to save TensorBoard logs\n",
        "SAVE_DIR = \"model_logs\""
      ]
    },
    {
      "cell_type": "code",
      "execution_count": null,
      "metadata": {
        "id": "LH-JSx0TdDCk"
      },
      "outputs": [],
      "source": [
        "# Build model with the Functional API\n",
        "from tensorflow.keras import layers\n",
        "inputs = layers.Input(shape=(1,), dtype=\"string\") # inputs are 1-dimensional strings\n",
        "x = text_vectorizer(inputs) # turn the input text into numbers\n",
        "x = embedding(x) # create an embedding of the numerized numbers\n",
        "x = layers.GlobalAveragePooling1D()(x) # lower the dimensionality of the embedding (try running the model without this layer and see what happens)\n",
        "outputs = layers.Dense(4, activation=\"softmax\")(x) # create the output layer, want binary outputs so use sigmoid activation\n",
        "model_1 = tf.keras.Model(inputs, outputs, name=\"model_1_dense\") # construct the model"
      ]
    },
    {
      "cell_type": "code",
      "execution_count": null,
      "metadata": {
        "id": "HR11QRVmdEz2"
      },
      "outputs": [],
      "source": [
        "# Compile model\n",
        "model_1.compile(loss=\"CategoricalCrossentropy\",\n",
        "                optimizer=tf.keras.optimizers.Adam(),\n",
        "                metrics=[\"accuracy\"])"
      ]
    },
    {
      "cell_type": "code",
      "execution_count": null,
      "metadata": {
        "colab": {
          "base_uri": "https://localhost:8080/"
        },
        "id": "HdKcdlUsdGoW",
        "outputId": "512fab7b-9d88-4ec2-ec67-08e33a64e2aa"
      },
      "outputs": [
        {
          "output_type": "stream",
          "name": "stdout",
          "text": [
            "Model: \"model_1_dense\"\n",
            "_________________________________________________________________\n",
            " Layer (type)                Output Shape              Param #   \n",
            "=================================================================\n",
            " input_4 (InputLayer)        [(None, 1)]               0         \n",
            "                                                                 \n",
            " text_vectorization_3 (TextV  (None, 15)               0         \n",
            " ectorization)                                                   \n",
            "                                                                 \n",
            " embedding_1 (Embedding)     (None, 15, 128)           1280000   \n",
            "                                                                 \n",
            " global_average_pooling1d_1   (None, 128)              0         \n",
            " (GlobalAveragePooling1D)                                        \n",
            "                                                                 \n",
            " dense_3 (Dense)             (None, 4)                 516       \n",
            "                                                                 \n",
            "=================================================================\n",
            "Total params: 1,280,516\n",
            "Trainable params: 1,280,516\n",
            "Non-trainable params: 0\n",
            "_________________________________________________________________\n"
          ]
        }
      ],
      "source": [
        "# Get a summary of the model\n",
        "model_1.summary()"
      ]
    },
    {
      "cell_type": "code",
      "execution_count": null,
      "metadata": {
        "id": "sGTSKX3a05Ge"
      },
      "outputs": [],
      "source": [
        " train_sentences_list = train_sentences.tolist()"
      ]
    },
    {
      "cell_type": "code",
      "execution_count": null,
      "metadata": {
        "id": "GzeFdh0MF4Yx"
      },
      "outputs": [],
      "source": [
        "val_sentences_list = val_sentences.tolist()"
      ]
    },
    {
      "cell_type": "code",
      "execution_count": null,
      "metadata": {
        "colab": {
          "base_uri": "https://localhost:8080/"
        },
        "id": "E4pKsqqx4Kt-",
        "outputId": "bbe8d709-4b6d-42c5-dce1-da505b1e5b50"
      },
      "outputs": [
        {
          "output_type": "stream",
          "name": "stdout",
          "text": [
            "(3485,)\n"
          ]
        }
      ],
      "source": [
        "print(train_sentences.shape)"
      ]
    },
    {
      "cell_type": "code",
      "execution_count": null,
      "metadata": {
        "colab": {
          "base_uri": "https://localhost:8080/"
        },
        "id": "CKIvZQr034MX",
        "outputId": "c57c3cd2-0792-4815-eb50-2ba3cf2d0404"
      },
      "outputs": [
        {
          "output_type": "execute_result",
          "data": {
            "text/plain": [
              "numpy.ndarray"
            ]
          },
          "metadata": {},
          "execution_count": 137
        }
      ],
      "source": [
        "type(train_labels)"
      ]
    },
    {
      "cell_type": "code",
      "execution_count": null,
      "metadata": {
        "colab": {
          "base_uri": "https://localhost:8080/"
        },
        "id": "7k4_Vv484ELF",
        "outputId": "850b4ebc-8e64-42e3-935c-15834a25fa68"
      },
      "outputs": [
        {
          "output_type": "stream",
          "name": "stdout",
          "text": [
            "(3485, 4)\n"
          ]
        }
      ],
      "source": [
        "print(train_labels.shape)"
      ]
    },
    {
      "cell_type": "code",
      "execution_count": null,
      "metadata": {
        "id": "tbqtKlNHK2qY"
      },
      "outputs": [],
      "source": []
    },
    {
      "cell_type": "code",
      "execution_count": null,
      "metadata": {
        "id": "QCHlhtZIK9Uj"
      },
      "outputs": [],
      "source": []
    },
    {
      "cell_type": "code",
      "execution_count": null,
      "metadata": {
        "id": "Uaaj0aDJ2cY-"
      },
      "outputs": [],
      "source": [
        "i=0"
      ]
    },
    {
      "cell_type": "code",
      "execution_count": null,
      "metadata": {
        "id": "B8VB7XJe3npf"
      },
      "outputs": [],
      "source": []
    },
    {
      "cell_type": "code",
      "execution_count": null,
      "metadata": {
        "id": "UYEBG4Lq39Q1"
      },
      "outputs": [],
      "source": []
    },
    {
      "cell_type": "code",
      "execution_count": null,
      "metadata": {
        "colab": {
          "base_uri": "https://localhost:8080/"
        },
        "id": "6_jHfEXj2Wyu",
        "outputId": "392eaacf-ea5a-49b7-92e0-541ea5044482"
      },
      "outputs": [
        {
          "output_type": "execute_result",
          "data": {
            "text/plain": [
              "3485"
            ]
          },
          "metadata": {},
          "execution_count": 140
        }
      ],
      "source": [
        "len(train_labels)"
      ]
    },
    {
      "cell_type": "code",
      "execution_count": null,
      "metadata": {
        "id": "cUMyZ4Fu2JBn"
      },
      "outputs": [],
      "source": [
        "train_labels[0]='1'"
      ]
    },
    {
      "cell_type": "code",
      "execution_count": null,
      "metadata": {
        "colab": {
          "base_uri": "https://localhost:8080/"
        },
        "id": "bzJt-OVA2BHe",
        "outputId": "7e92326e-694a-405b-8ebd-fc66f811eff6"
      },
      "outputs": [
        {
          "output_type": "execute_result",
          "data": {
            "text/plain": [
              "array([[0., 0., 1., 0.],\n",
              "       [0., 0., 1., 0.],\n",
              "       [0., 0., 1., 0.],\n",
              "       ...,\n",
              "       [0., 0., 1., 0.],\n",
              "       [0., 0., 0., 1.],\n",
              "       [0., 0., 0., 1.]])"
            ]
          },
          "metadata": {},
          "execution_count": 142
        }
      ],
      "source": [
        "train_labels1"
      ]
    },
    {
      "cell_type": "code",
      "execution_count": null,
      "metadata": {
        "colab": {
          "base_uri": "https://localhost:8080/"
        },
        "id": "s6SAOAoxq5Mi",
        "outputId": "0eb9f04e-32cd-4950-a3c0-2e411ec10cce"
      },
      "outputs": [
        {
          "output_type": "execute_result",
          "data": {
            "text/plain": [
              "array([[1, 1, 1, 1],\n",
              "       [0, 0, 1, 0],\n",
              "       [0, 0, 1, 0],\n",
              "       ...,\n",
              "       [0, 0, 1, 0],\n",
              "       [0, 0, 0, 1],\n",
              "       [0, 0, 0, 1]], dtype=uint8)"
            ]
          },
          "metadata": {},
          "execution_count": 143
        }
      ],
      "source": [
        "train_labels"
      ]
    },
    {
      "cell_type": "code",
      "execution_count": null,
      "metadata": {
        "colab": {
          "base_uri": "https://localhost:8080/"
        },
        "id": "qq76tqiS4Vy5",
        "outputId": "0b5ac756-4f08-4dc1-e540-d3ef00ee8c80"
      },
      "outputs": [
        {
          "output_type": "execute_result",
          "data": {
            "text/plain": [
              "array([[0., 0., 1., 0.],\n",
              "       [0., 0., 1., 0.],\n",
              "       [0., 0., 1., 0.],\n",
              "       ...,\n",
              "       [0., 0., 1., 0.],\n",
              "       [0., 0., 0., 1.],\n",
              "       [0., 0., 0., 1.]])"
            ]
          },
          "metadata": {},
          "execution_count": 144
        }
      ],
      "source": [
        "train_labels2"
      ]
    },
    {
      "cell_type": "code",
      "execution_count": null,
      "metadata": {
        "colab": {
          "base_uri": "https://localhost:8080/"
        },
        "id": "HNWmGiTW4XhW",
        "outputId": "b7d74c14-2e84-4c64-b9de-ed5a98307f00"
      },
      "outputs": [
        {
          "output_type": "execute_result",
          "data": {
            "text/plain": [
              "array([[0., 0., 0., 1.],\n",
              "       [0., 0., 0., 1.],\n",
              "       [0., 1., 0., 0.],\n",
              "       ...,\n",
              "       [0., 1., 0., 0.],\n",
              "       [0., 0., 1., 0.],\n",
              "       [0., 1., 0., 0.]])"
            ]
          },
          "metadata": {},
          "execution_count": 145
        }
      ],
      "source": [
        "val_labels2"
      ]
    },
    {
      "cell_type": "code",
      "execution_count": null,
      "metadata": {
        "colab": {
          "base_uri": "https://localhost:8080/"
        },
        "id": "voe8XF7ndMD-",
        "outputId": "e2cf828c-38c8-44b3-8c5e-e3622cda2ba3"
      },
      "outputs": [
        {
          "output_type": "stream",
          "name": "stdout",
          "text": [
            "Saving TensorBoard log files to: model_logs/simple_dense_model/20230328-155744\n",
            "Epoch 1/5\n",
            "109/109 [==============================] - 7s 60ms/step - loss: 1.3312 - accuracy: 0.4227 - val_loss: 1.2767 - val_accuracy: 0.4845\n",
            "Epoch 2/5\n",
            "109/109 [==============================] - 2s 22ms/step - loss: 1.1868 - accuracy: 0.5920 - val_loss: 1.1302 - val_accuracy: 0.6082\n",
            "Epoch 3/5\n",
            "109/109 [==============================] - 1s 14ms/step - loss: 0.9542 - accuracy: 0.7231 - val_loss: 0.9467 - val_accuracy: 0.6881\n",
            "Epoch 4/5\n",
            "109/109 [==============================] - 1s 6ms/step - loss: 0.7098 - accuracy: 0.8402 - val_loss: 0.7941 - val_accuracy: 0.7423\n",
            "Epoch 5/5\n",
            "109/109 [==============================] - 1s 7ms/step - loss: 0.5170 - accuracy: 0.8999 - val_loss: 0.6984 - val_accuracy: 0.7990\n"
          ]
        }
      ],
      "source": [
        "# Fit the model\n",
        "model_1_history = model_1.fit(train_sentences, #input sentences can be a list of strings due to text preprocessing layer built-in model\n",
        "                              train_labels2,\n",
        "                              epochs=5,\n",
        "                              validation_data=(val_sentences, val_labels2),\n",
        "                              callbacks=[create_tensorboard_callback(dir_name=SAVE_DIR,\n",
        "                                                                     experiment_name=\"simple_dense_model\")])"
      ]
    },
    {
      "cell_type": "code",
      "execution_count": null,
      "metadata": {
        "colab": {
          "base_uri": "https://localhost:8080/"
        },
        "id": "T7QP3IIY4vQF",
        "outputId": "c1a731b7-ee72-4499-80f4-b9ab9ef97295"
      },
      "outputs": [
        {
          "output_type": "stream",
          "name": "stdout",
          "text": [
            "Saving TensorBoard log files to: model_logs/simple_dense_model/20230328-155757\n",
            "Epoch 1/10\n",
            "109/109 [==============================] - 1s 5ms/step - loss: 0.3839 - accuracy: 0.9360 - val_loss: 0.6376 - val_accuracy: 0.7990\n",
            "Epoch 2/10\n",
            "109/109 [==============================] - 0s 5ms/step - loss: 0.2938 - accuracy: 0.9584 - val_loss: 0.6043 - val_accuracy: 0.8093\n",
            "Epoch 3/10\n",
            "109/109 [==============================] - 0s 5ms/step - loss: 0.2298 - accuracy: 0.9696 - val_loss: 0.5866 - val_accuracy: 0.8196\n",
            "Epoch 4/10\n",
            "109/109 [==============================] - 0s 4ms/step - loss: 0.1837 - accuracy: 0.9773 - val_loss: 0.5739 - val_accuracy: 0.8119\n",
            "Epoch 5/10\n",
            "109/109 [==============================] - 0s 4ms/step - loss: 0.1497 - accuracy: 0.9822 - val_loss: 0.5712 - val_accuracy: 0.8067\n",
            "Epoch 6/10\n",
            "109/109 [==============================] - 0s 4ms/step - loss: 0.1241 - accuracy: 0.9865 - val_loss: 0.5703 - val_accuracy: 0.8144\n",
            "Epoch 7/10\n",
            "109/109 [==============================] - 1s 6ms/step - loss: 0.1036 - accuracy: 0.9894 - val_loss: 0.5739 - val_accuracy: 0.8067\n",
            "Epoch 8/10\n",
            "109/109 [==============================] - 0s 4ms/step - loss: 0.0878 - accuracy: 0.9914 - val_loss: 0.5801 - val_accuracy: 0.8041\n",
            "Epoch 9/10\n",
            "109/109 [==============================] - 1s 7ms/step - loss: 0.0750 - accuracy: 0.9914 - val_loss: 0.5864 - val_accuracy: 0.7990\n",
            "Epoch 10/10\n",
            "109/109 [==============================] - 1s 6ms/step - loss: 0.0646 - accuracy: 0.9934 - val_loss: 0.5968 - val_accuracy: 0.8067\n"
          ]
        }
      ],
      "source": [
        "# Fit the model\n",
        "model_1_history = model_1.fit(train_sentences, #input sentences can be a list of strings due to text preprocessing layer built-in model\n",
        "                              train_labels2,\n",
        "                              epochs=10,\n",
        "                              validation_data=(val_sentences, val_labels2),\n",
        "                              callbacks=[create_tensorboard_callback(dir_name=SAVE_DIR,\n",
        "                                                                     experiment_name=\"simple_dense_model\")])"
      ]
    },
    {
      "cell_type": "code",
      "execution_count": null,
      "metadata": {
        "colab": {
          "base_uri": "https://localhost:8080/"
        },
        "id": "3trU-Ov4LJsb",
        "outputId": "9648e855-646b-472c-ce57-11cec746b68e"
      },
      "outputs": [
        {
          "output_type": "stream",
          "name": "stdout",
          "text": [
            "13/13 [==============================] - 0s 3ms/step - loss: 0.5968 - accuracy: 0.8067\n"
          ]
        },
        {
          "output_type": "execute_result",
          "data": {
            "text/plain": [
              "[0.596808910369873, 0.8067010045051575]"
            ]
          },
          "metadata": {},
          "execution_count": 148
        }
      ],
      "source": [
        "# Check the results on the validation set\n",
        "model_1.evaluate(val_sentences, val_labels2)"
      ]
    },
    {
      "cell_type": "code",
      "execution_count": null,
      "metadata": {
        "colab": {
          "base_uri": "https://localhost:8080/"
        },
        "id": "e7hLDBtXLQT7",
        "outputId": "db507311-c5a5-4643-fa48-8a639328bc7d"
      },
      "outputs": [
        {
          "output_type": "execute_result",
          "data": {
            "text/plain": [
              "[<tf.Variable 'embedding_1/embeddings:0' shape=(10000, 128) dtype=float32, numpy=\n",
              " array([[-0.01959939,  0.02457518,  0.03105819, ...,  0.03390099,\n",
              "          0.03456484,  0.03689034],\n",
              "        [ 0.00816988,  0.03585285, -0.01391339, ..., -0.03787583,\n",
              "         -0.01198913,  0.01403182],\n",
              "        [-0.05233935,  0.04211326, -0.00253452, ...,  0.02746399,\n",
              "         -0.03935302,  0.00246225],\n",
              "        ...,\n",
              "        [ 0.00078622, -0.01020336, -0.00559466, ..., -0.043355  ,\n",
              "         -0.03880214,  0.0434222 ],\n",
              "        [-0.04747633,  0.02222211, -0.02189552, ..., -0.04778212,\n",
              "          0.02577616,  0.01931937],\n",
              "        [ 0.04681138, -0.04062483, -0.01621222, ...,  0.02371501,\n",
              "         -0.04587724,  0.04653705]], dtype=float32)>]"
            ]
          },
          "metadata": {},
          "execution_count": 149
        }
      ],
      "source": [
        "embedding.weights"
      ]
    },
    {
      "cell_type": "code",
      "execution_count": null,
      "metadata": {
        "colab": {
          "base_uri": "https://localhost:8080/"
        },
        "id": "kKYZRoJ5LSyw",
        "outputId": "3e98af23-c8be-40b0-b356-32004060a835"
      },
      "outputs": [
        {
          "output_type": "stream",
          "name": "stdout",
          "text": [
            "(10000, 128)\n"
          ]
        }
      ],
      "source": [
        "embed_weights = model_1.get_layer(\"embedding_1\").get_weights()[0]\n",
        "print(embed_weights.shape)"
      ]
    },
    {
      "cell_type": "code",
      "execution_count": null,
      "metadata": {
        "colab": {
          "base_uri": "https://localhost:8080/"
        },
        "id": "xGLjGcKV5NRE",
        "outputId": "ee2ee59b-c3ad-4bcd-b71f-3b87f084e253"
      },
      "outputs": [
        {
          "output_type": "stream",
          "name": "stdout",
          "text": [
            "13/13 [==============================] - 0s 2ms/step\n"
          ]
        },
        {
          "output_type": "execute_result",
          "data": {
            "text/plain": [
              "array([[1.06942341e-01, 1.67571625e-03, 1.24641648e-03, 8.90135527e-01],\n",
              "       [1.27938315e-02, 1.04891352e-01, 3.01603600e-03, 8.79298806e-01],\n",
              "       [5.28415199e-03, 6.74764335e-01, 6.78102076e-02, 2.52141356e-01],\n",
              "       [3.15179825e-01, 2.69606560e-01, 1.07035786e-01, 3.08177799e-01],\n",
              "       [2.29042858e-01, 2.37364933e-01, 6.25635535e-02, 4.71028656e-01],\n",
              "       [7.72426575e-02, 8.05525720e-01, 6.25016261e-03, 1.10981464e-01],\n",
              "       [2.85206293e-03, 9.83264744e-01, 7.64321908e-03, 6.24000188e-03],\n",
              "       [5.01342220e-05, 4.47838247e-05, 9.99763191e-01, 1.41979574e-04],\n",
              "       [2.66566640e-03, 8.99672806e-01, 9.31252390e-02, 4.53624642e-03],\n",
              "       [1.09210042e-02, 5.40114334e-03, 8.29351321e-03, 9.75384235e-01],\n",
              "       [4.14560316e-03, 2.41791154e-03, 4.62389056e-04, 9.92974162e-01],\n",
              "       [4.77261633e-01, 6.51891083e-02, 1.70143425e-01, 2.87405789e-01],\n",
              "       [1.88367630e-04, 2.12333980e-03, 9.93094563e-01, 4.59368015e-03],\n",
              "       [2.86922418e-03, 9.53598440e-01, 4.13505584e-02, 2.18181661e-03],\n",
              "       [1.36307022e-03, 9.80165124e-01, 1.13600064e-02, 7.11176172e-03],\n",
              "       [8.59918594e-01, 6.65672636e-03, 1.24282978e-01, 9.14174970e-03],\n",
              "       [7.49657899e-02, 3.58983487e-01, 5.88274188e-03, 5.60168028e-01],\n",
              "       [8.03385489e-03, 2.36086007e-02, 5.57708204e-01, 4.10649300e-01],\n",
              "       [1.56049221e-03, 6.57994009e-04, 9.78487909e-01, 1.92936417e-02],\n",
              "       [2.82332255e-03, 9.35819983e-01, 6.72125258e-03, 5.46354987e-02]],\n",
              "      dtype=float32)"
            ]
          },
          "metadata": {},
          "execution_count": 151
        }
      ],
      "source": [
        "# Make predictions (these come back in the form of probabilities)\n",
        "model_1_pred_probs = model_1.predict(val_sentences)\n",
        "model_1_pred_probs[:20] # only print out the first 10 prediction probabilities"
      ]
    },
    {
      "cell_type": "code",
      "execution_count": null,
      "metadata": {
        "colab": {
          "base_uri": "https://localhost:8080/"
        },
        "id": "PzA_ReqZ8u3w",
        "outputId": "af98d941-5c96-494d-bb25-52ac1a39e364"
      },
      "outputs": [
        {
          "output_type": "execute_result",
          "data": {
            "text/plain": [
              "<tf.Tensor: shape=(20, 4), dtype=float32, numpy=\n",
              "array([[0., 0., 0., 1.],\n",
              "       [0., 0., 0., 1.],\n",
              "       [0., 1., 0., 0.],\n",
              "       [0., 0., 0., 0.],\n",
              "       [0., 0., 0., 0.],\n",
              "       [0., 1., 0., 0.],\n",
              "       [0., 1., 0., 0.],\n",
              "       [0., 0., 1., 0.],\n",
              "       [0., 1., 0., 0.],\n",
              "       [0., 0., 0., 1.],\n",
              "       [0., 0., 0., 1.],\n",
              "       [0., 0., 0., 0.],\n",
              "       [0., 0., 1., 0.],\n",
              "       [0., 1., 0., 0.],\n",
              "       [0., 1., 0., 0.],\n",
              "       [1., 0., 0., 0.],\n",
              "       [0., 0., 0., 1.],\n",
              "       [0., 0., 1., 0.],\n",
              "       [0., 0., 1., 0.],\n",
              "       [0., 1., 0., 0.]], dtype=float32)>"
            ]
          },
          "metadata": {},
          "execution_count": 152
        }
      ],
      "source": [
        "# Turn prediction probabilities into single-dimension tensor of floats\n",
        "model_1_preds = tf.squeeze(tf.round(model_1_pred_probs)) # squeeze removes single dimensions\n",
        "model_1_preds[:20]"
      ]
    },
    {
      "cell_type": "code",
      "source": [
        "val_labels2[:20]"
      ],
      "metadata": {
        "colab": {
          "base_uri": "https://localhost:8080/"
        },
        "id": "4uWAzOXHNFnQ",
        "outputId": "5cd0824a-bf89-4da3-e5c4-3ce6c1b6b06a"
      },
      "execution_count": null,
      "outputs": [
        {
          "output_type": "execute_result",
          "data": {
            "text/plain": [
              "array([[0., 0., 0., 1.],\n",
              "       [0., 0., 0., 1.],\n",
              "       [0., 1., 0., 0.],\n",
              "       [0., 1., 0., 0.],\n",
              "       [0., 1., 0., 0.],\n",
              "       [0., 1., 0., 0.],\n",
              "       [0., 1., 0., 0.],\n",
              "       [0., 0., 1., 0.],\n",
              "       [0., 1., 0., 0.],\n",
              "       [0., 0., 0., 1.],\n",
              "       [0., 0., 0., 1.],\n",
              "       [0., 0., 1., 0.],\n",
              "       [0., 0., 1., 0.],\n",
              "       [0., 1., 0., 0.],\n",
              "       [0., 1., 0., 0.],\n",
              "       [1., 0., 0., 0.],\n",
              "       [1., 0., 0., 0.],\n",
              "       [0., 0., 1., 0.],\n",
              "       [0., 0., 1., 0.],\n",
              "       [0., 1., 0., 0.]])"
            ]
          },
          "metadata": {},
          "execution_count": 153
        }
      ]
    },
    {
      "cell_type": "code",
      "execution_count": null,
      "metadata": {
        "colab": {
          "base_uri": "https://localhost:8080/"
        },
        "id": "x8ODp9YC8zDa",
        "outputId": "0a9dbaef-f088-42bc-83fe-8a68f1f60c25"
      },
      "outputs": [
        {
          "output_type": "execute_result",
          "data": {
            "text/plain": [
              "{'accuracy': 77.0618556701031,\n",
              " 'precision': 0.8408962579825913,\n",
              " 'recall': 0.770618556701031,\n",
              " 'f1': 0.803728806842776}"
            ]
          },
          "metadata": {},
          "execution_count": 154
        }
      ],
      "source": [
        "# Calculate model_1 metrics\n",
        "model_1_results = calculate_results(y_true=val_labels2,\n",
        "                                    y_pred=model_1_preds)\n",
        "model_1_results"
      ]
    },
    {
      "cell_type": "markdown",
      "metadata": {
        "id": "J8iABj7J-Stb"
      },
      "source": [
        "###Model 2: LSTM"
      ]
    },
    {
      "cell_type": "code",
      "execution_count": null,
      "metadata": {
        "colab": {
          "base_uri": "https://localhost:8080/"
        },
        "id": "BFnC49qi-EBq",
        "outputId": "9afa8d1b-e55a-4631-c091-797b55b4c6a0"
      },
      "outputs": [
        {
          "output_type": "stream",
          "name": "stdout",
          "text": [
            "(None, 15, 128)\n",
            "(None, 64)\n"
          ]
        }
      ],
      "source": [
        "# Set random seed and create embedding layer (new embedding layer for each model)\n",
        "tf.random.set_seed(42)\n",
        "from tensorflow.keras import layers\n",
        "model_2_embedding = layers.Embedding(input_dim=max_vocab_length,\n",
        "                                     output_dim=128,\n",
        "                                     embeddings_initializer=\"uniform\",\n",
        "                                     input_length=max_length,\n",
        "                                     name=\"embedding_2\")\n",
        "\n",
        "\n",
        "# Create LSTM model\n",
        "inputs = layers.Input(shape=(1,), dtype=\"string\")\n",
        "x = text_vectorizer(inputs)\n",
        "x = model_2_embedding(x)\n",
        "print(x.shape)\n",
        "# x = layers.LSTM(64, return_sequences=True)(x) # return vector for each word in the Tweet (you can stack RNN cells as long as return_sequences=True)\n",
        "x = layers.LSTM(64)(x) # return vector for whole sequence\n",
        "print(x.shape)\n",
        "# x = layers.Dense(64, activation=\"relu\")(x) # optional dense layer on top of output of LSTM cell\n",
        "outputs = layers.Dense(4, activation=\"softmax\")(x)\n",
        "model_2 = tf.keras.Model(inputs, outputs, name=\"model_2_LSTM\")"
      ]
    },
    {
      "cell_type": "code",
      "execution_count": null,
      "metadata": {
        "id": "HBFEC9TS-c5G"
      },
      "outputs": [],
      "source": [
        "# Compile model\n",
        "model_2.compile(loss=\"CategoricalCrossentropy\",\n",
        "                optimizer=tf.keras.optimizers.Adam(),\n",
        "                metrics=[\"accuracy\"])"
      ]
    },
    {
      "cell_type": "code",
      "execution_count": null,
      "metadata": {
        "colab": {
          "base_uri": "https://localhost:8080/"
        },
        "id": "F8fc5Koi-fBq",
        "outputId": "681cea13-0905-4b2b-e084-e75651d8dd5b"
      },
      "outputs": [
        {
          "output_type": "stream",
          "name": "stdout",
          "text": [
            "Model: \"model_2_LSTM\"\n",
            "_________________________________________________________________\n",
            " Layer (type)                Output Shape              Param #   \n",
            "=================================================================\n",
            " input_5 (InputLayer)        [(None, 1)]               0         \n",
            "                                                                 \n",
            " text_vectorization_3 (TextV  (None, 15)               0         \n",
            " ectorization)                                                   \n",
            "                                                                 \n",
            " embedding_2 (Embedding)     (None, 15, 128)           1280000   \n",
            "                                                                 \n",
            " lstm_2 (LSTM)               (None, 64)                49408     \n",
            "                                                                 \n",
            " dense_4 (Dense)             (None, 4)                 260       \n",
            "                                                                 \n",
            "=================================================================\n",
            "Total params: 1,329,668\n",
            "Trainable params: 1,329,668\n",
            "Non-trainable params: 0\n",
            "_________________________________________________________________\n"
          ]
        }
      ],
      "source": [
        "model_2.summary()"
      ]
    },
    {
      "cell_type": "code",
      "execution_count": null,
      "metadata": {
        "colab": {
          "base_uri": "https://localhost:8080/"
        },
        "id": "YIX60NFi-iUv",
        "outputId": "fd0dc403-8986-4dad-ff1e-2556ac64941b"
      },
      "outputs": [
        {
          "output_type": "stream",
          "name": "stdout",
          "text": [
            "Saving TensorBoard log files to: model_logs/LSTM/20230328-155808\n",
            "Epoch 1/5\n",
            "109/109 [==============================] - 12s 90ms/step - loss: 1.2430 - accuracy: 0.4098 - val_loss: 0.9855 - val_accuracy: 0.5206\n",
            "Epoch 2/5\n",
            "109/109 [==============================] - 2s 17ms/step - loss: 0.5349 - accuracy: 0.8095 - val_loss: 0.6358 - val_accuracy: 0.7603\n",
            "Epoch 3/5\n",
            "109/109 [==============================] - 2s 16ms/step - loss: 0.1929 - accuracy: 0.9486 - val_loss: 0.7158 - val_accuracy: 0.7423\n",
            "Epoch 4/5\n",
            "109/109 [==============================] - 1s 8ms/step - loss: 0.0885 - accuracy: 0.9773 - val_loss: 0.8617 - val_accuracy: 0.7655\n",
            "Epoch 5/5\n",
            "109/109 [==============================] - 1s 9ms/step - loss: 0.0621 - accuracy: 0.9865 - val_loss: 0.8504 - val_accuracy: 0.7629\n"
          ]
        }
      ],
      "source": [
        "# Fit model\n",
        "model_2_history = model_2.fit(train_sentences,\n",
        "                              train_labels2,\n",
        "                              epochs=5,\n",
        "                              validation_data=(val_sentences, val_labels2),\n",
        "                              callbacks=[create_tensorboard_callback(SAVE_DIR,\n",
        "                                                                     \"LSTM\")])"
      ]
    },
    {
      "cell_type": "code",
      "execution_count": null,
      "metadata": {
        "colab": {
          "base_uri": "https://localhost:8080/"
        },
        "id": "UG_qJ4pY-nj-",
        "outputId": "76c5abe8-a039-4778-da17-b0cdf1b04b07"
      },
      "outputs": [
        {
          "output_type": "stream",
          "name": "stdout",
          "text": [
            "13/13 [==============================] - 1s 4ms/step\n"
          ]
        },
        {
          "output_type": "execute_result",
          "data": {
            "text/plain": [
              "((388, 4),\n",
              " array([[6.44355834e-01, 2.08092555e-02, 2.47482304e-02, 3.10086668e-01],\n",
              "        [5.35864430e-03, 1.61324569e-04, 1.11115724e-03, 9.93368924e-01],\n",
              "        [2.74582114e-03, 9.47812106e-04, 2.17523915e-03, 9.94131148e-01],\n",
              "        [1.01608984e-01, 2.31256709e-01, 4.16503578e-01, 2.50630707e-01],\n",
              "        [1.98746115e-01, 1.44152537e-01, 2.75349170e-01, 3.81752163e-01],\n",
              "        [2.32900865e-02, 8.48152459e-01, 1.06494268e-02, 1.17908016e-01],\n",
              "        [3.07253096e-04, 9.99153852e-01, 5.50305267e-05, 4.83810931e-04],\n",
              "        [3.62257299e-04, 7.02332531e-04, 9.96989965e-01, 1.94543716e-03],\n",
              "        [2.12455261e-03, 9.92841601e-01, 1.81384990e-03, 3.21992463e-03],\n",
              "        [2.17274964e-01, 2.35004234e-03, 4.58906032e-03, 7.75785923e-01]],\n",
              "       dtype=float32))"
            ]
          },
          "metadata": {},
          "execution_count": 159
        }
      ],
      "source": [
        "# Make predictions on the validation dataset\n",
        "model_2_pred_probs = model_2.predict(val_sentences)\n",
        "model_2_pred_probs.shape, model_2_pred_probs[:10] # view the first 10"
      ]
    },
    {
      "cell_type": "code",
      "execution_count": null,
      "metadata": {
        "colab": {
          "base_uri": "https://localhost:8080/"
        },
        "id": "5wqsKkE8-tMQ",
        "outputId": "77d2d150-d80d-4ebb-9532-93ce1babd6a5"
      },
      "outputs": [
        {
          "output_type": "execute_result",
          "data": {
            "text/plain": [
              "<tf.Tensor: shape=(10, 4), dtype=float32, numpy=\n",
              "array([[1., 0., 0., 0.],\n",
              "       [0., 0., 0., 1.],\n",
              "       [0., 0., 0., 1.],\n",
              "       [0., 0., 0., 0.],\n",
              "       [0., 0., 0., 0.],\n",
              "       [0., 1., 0., 0.],\n",
              "       [0., 1., 0., 0.],\n",
              "       [0., 0., 1., 0.],\n",
              "       [0., 1., 0., 0.],\n",
              "       [0., 0., 0., 1.]], dtype=float32)>"
            ]
          },
          "metadata": {},
          "execution_count": 160
        }
      ],
      "source": [
        "# Round out predictions and reduce to 1-dimensional array\n",
        "model_2_preds = tf.squeeze(tf.round(model_2_pred_probs))\n",
        "model_2_preds[:10]"
      ]
    },
    {
      "cell_type": "code",
      "execution_count": null,
      "metadata": {
        "colab": {
          "base_uri": "https://localhost:8080/"
        },
        "id": "XejqVZBY-v4Q",
        "outputId": "b2b4fe38-798f-4ad0-bf5a-c183a598fd6c"
      },
      "outputs": [
        {
          "output_type": "execute_result",
          "data": {
            "text/plain": [
              "{'accuracy': 74.48453608247422,\n",
              " 'precision': 0.7988221081871079,\n",
              " 'recall': 0.7448453608247423,\n",
              " 'f1': 0.7703479626126419}"
            ]
          },
          "metadata": {},
          "execution_count": 161
        }
      ],
      "source": [
        "# Calculate LSTM model results\n",
        "model_2_results = calculate_results(y_true=val_labels2,\n",
        "                                    y_pred=model_2_preds)\n",
        "model_2_results"
      ]
    },
    {
      "cell_type": "markdown",
      "metadata": {
        "id": "IkJMZCD2_fDu"
      },
      "source": [
        "###Model 3: GRU"
      ]
    },
    {
      "cell_type": "code",
      "execution_count": null,
      "metadata": {
        "id": "CMF7_xBd_hfn"
      },
      "outputs": [],
      "source": [
        "# Set random seed and create embedding layer (new embedding layer for each model)\n",
        "tf.random.set_seed(42)\n",
        "from tensorflow.keras import layers\n",
        "model_3_embedding = layers.Embedding(input_dim=max_vocab_length,\n",
        "                                     output_dim=128,\n",
        "                                     embeddings_initializer=\"uniform\",\n",
        "                                     input_length=max_length,\n",
        "                                     name=\"embedding_3\")\n",
        "\n",
        "# Build an RNN using the GRU cell\n",
        "inputs = layers.Input(shape=(1,), dtype=\"string\")\n",
        "x = text_vectorizer(inputs)\n",
        "x = model_3_embedding(x)\n",
        "# x = layers.GRU(64, return_sequences=True) # stacking recurrent cells requires return_sequences=True\n",
        "x = layers.GRU(64)(x)\n",
        "# x = layers.Dense(64, activation=\"relu\")(x) # optional dense layer after GRU cell\n",
        "outputs = layers.Dense(4, activation=\"softmax\")(x)\n",
        "model_3 = tf.keras.Model(inputs, outputs, name=\"model_3_GRU\")"
      ]
    },
    {
      "cell_type": "code",
      "execution_count": null,
      "metadata": {
        "id": "uSjWGu5Q_oxY"
      },
      "outputs": [],
      "source": [
        "# Compile GRU model\n",
        "model_3.compile(loss=\"CategoricalCrossentropy\",\n",
        "                optimizer=tf.keras.optimizers.Adam(),\n",
        "                metrics=[\"accuracy\"])"
      ]
    },
    {
      "cell_type": "code",
      "execution_count": null,
      "metadata": {
        "colab": {
          "base_uri": "https://localhost:8080/"
        },
        "id": "uGHHvFdV_p87",
        "outputId": "52a6d5e2-7f32-4097-e953-b3b73b8caaa8"
      },
      "outputs": [
        {
          "output_type": "stream",
          "name": "stdout",
          "text": [
            "Model: \"model_3_GRU\"\n",
            "_________________________________________________________________\n",
            " Layer (type)                Output Shape              Param #   \n",
            "=================================================================\n",
            " input_6 (InputLayer)        [(None, 1)]               0         \n",
            "                                                                 \n",
            " text_vectorization_3 (TextV  (None, 15)               0         \n",
            " ectorization)                                                   \n",
            "                                                                 \n",
            " embedding_3 (Embedding)     (None, 15, 128)           1280000   \n",
            "                                                                 \n",
            " gru (GRU)                   (None, 64)                37248     \n",
            "                                                                 \n",
            " dense_5 (Dense)             (None, 4)                 260       \n",
            "                                                                 \n",
            "=================================================================\n",
            "Total params: 1,317,508\n",
            "Trainable params: 1,317,508\n",
            "Non-trainable params: 0\n",
            "_________________________________________________________________\n"
          ]
        }
      ],
      "source": [
        "# Get a summary of the GRU model\n",
        "model_3.summary()"
      ]
    },
    {
      "cell_type": "code",
      "execution_count": null,
      "metadata": {
        "colab": {
          "base_uri": "https://localhost:8080/"
        },
        "id": "-Iwhk-6c_sjc",
        "outputId": "ea339458-afbf-465a-a6d9-47ae385f5246"
      },
      "outputs": [
        {
          "output_type": "stream",
          "name": "stdout",
          "text": [
            "Saving TensorBoard log files to: model_logs/GRU/20230328-155831\n",
            "Epoch 1/4\n",
            "109/109 [==============================] - 9s 60ms/step - loss: 1.3446 - accuracy: 0.3311 - val_loss: 1.3132 - val_accuracy: 0.3814\n",
            "Epoch 2/4\n",
            "109/109 [==============================] - 2s 17ms/step - loss: 0.8644 - accuracy: 0.6585 - val_loss: 0.6290 - val_accuracy: 0.7500\n",
            "Epoch 3/4\n",
            "109/109 [==============================] - 3s 26ms/step - loss: 0.2640 - accuracy: 0.9159 - val_loss: 0.6097 - val_accuracy: 0.7990\n",
            "Epoch 4/4\n",
            "109/109 [==============================] - 1s 10ms/step - loss: 0.0997 - accuracy: 0.9730 - val_loss: 0.8165 - val_accuracy: 0.7758\n"
          ]
        }
      ],
      "source": [
        "# Fit model\n",
        "model_3_history = model_3.fit(train_sentences,\n",
        "                              train_labels2,\n",
        "                              epochs=4,\n",
        "                              validation_data=(val_sentences, val_labels2),\n",
        "                              callbacks=[create_tensorboard_callback(SAVE_DIR, \"GRU\")])"
      ]
    },
    {
      "cell_type": "code",
      "execution_count": null,
      "metadata": {
        "colab": {
          "base_uri": "https://localhost:8080/"
        },
        "id": "bnk3kTD2_w1c",
        "outputId": "d43998dc-f9b7-42f9-84e5-f5581429d3b7"
      },
      "outputs": [
        {
          "output_type": "stream",
          "name": "stdout",
          "text": [
            "13/13 [==============================] - 0s 3ms/step\n"
          ]
        },
        {
          "output_type": "execute_result",
          "data": {
            "text/plain": [
              "((388, 4), array([[9.7835334e-03, 1.1084091e-03, 6.8201200e-04, 9.8842609e-01],\n",
              "        [2.9443434e-04, 1.2399708e-03, 2.0301667e-04, 9.9826258e-01],\n",
              "        [1.5067183e-03, 7.7589887e-01, 1.0443609e-02, 2.1215078e-01],\n",
              "        [2.3165146e-02, 6.5738153e-01, 1.4830865e-01, 1.7114469e-01],\n",
              "        [1.0338399e-01, 1.4511338e-01, 3.8168553e-02, 7.1333396e-01],\n",
              "        [1.7732250e-02, 5.8896410e-01, 8.9209368e-03, 3.8438272e-01],\n",
              "        [1.7151440e-04, 9.9803239e-01, 7.3197414e-05, 1.7228810e-03],\n",
              "        [1.2944812e-04, 2.9959384e-04, 9.9925262e-01, 3.1834320e-04],\n",
              "        [2.6580475e-03, 9.5765984e-01, 2.5441987e-02, 1.4240079e-02],\n",
              "        [6.8737078e-03, 1.1762158e-03, 1.0758857e-03, 9.9087417e-01]],\n",
              "       dtype=float32))"
            ]
          },
          "metadata": {},
          "execution_count": 166
        }
      ],
      "source": [
        "# Make predictions on the validation data\n",
        "model_3_pred_probs = model_3.predict(val_sentences)\n",
        "model_3_pred_probs.shape, model_3_pred_probs[:10]"
      ]
    },
    {
      "cell_type": "code",
      "execution_count": null,
      "metadata": {
        "colab": {
          "base_uri": "https://localhost:8080/"
        },
        "id": "7o7oSB6Y_2O3",
        "outputId": "431f107f-0bfa-4bb1-c48e-d4daf236e57c"
      },
      "outputs": [
        {
          "output_type": "execute_result",
          "data": {
            "text/plain": [
              "<tf.Tensor: shape=(10, 4), dtype=float32, numpy=\n",
              "array([[0., 0., 0., 1.],\n",
              "       [0., 0., 0., 1.],\n",
              "       [0., 1., 0., 0.],\n",
              "       [0., 1., 0., 0.],\n",
              "       [0., 0., 0., 1.],\n",
              "       [0., 1., 0., 0.],\n",
              "       [0., 1., 0., 0.],\n",
              "       [0., 0., 1., 0.],\n",
              "       [0., 1., 0., 0.],\n",
              "       [0., 0., 0., 1.]], dtype=float32)>"
            ]
          },
          "metadata": {},
          "execution_count": 167
        }
      ],
      "source": [
        "# Convert prediction probabilities to prediction classes\n",
        "model_3_preds = tf.squeeze(tf.round(model_3_pred_probs))\n",
        "model_3_preds[:10]"
      ]
    },
    {
      "cell_type": "code",
      "execution_count": null,
      "metadata": {
        "colab": {
          "base_uri": "https://localhost:8080/"
        },
        "id": "IPvvtHqS_9Ks",
        "outputId": "509728ca-3474-4b38-fda4-01c0b2c10a0d"
      },
      "outputs": [
        {
          "output_type": "execute_result",
          "data": {
            "text/plain": [
              "{'accuracy': 76.03092783505154,\n",
              " 'precision': 0.8138561934875315,\n",
              " 'recall': 0.7603092783505154,\n",
              " 'f1': 0.7819210195566584}"
            ]
          },
          "metadata": {},
          "execution_count": 168
        }
      ],
      "source": [
        "# Calcuate model_3 results\n",
        "model_3_results = calculate_results(y_true=val_labels2,\n",
        "                                    y_pred=model_3_preds)\n",
        "model_3_results"
      ]
    },
    {
      "cell_type": "code",
      "execution_count": null,
      "metadata": {
        "id": "Wj9OXUyL__dV"
      },
      "outputs": [],
      "source": []
    },
    {
      "cell_type": "markdown",
      "metadata": {
        "id": "Q29sdKBYAR6U"
      },
      "source": [
        "###Model 4: Bidirectonal RNN model"
      ]
    },
    {
      "cell_type": "code",
      "execution_count": null,
      "metadata": {
        "id": "gVX7j5VPATnh"
      },
      "outputs": [],
      "source": [
        "# Set random seed and create embedding layer (new embedding layer for each model)\n",
        "tf.random.set_seed(42)\n",
        "from tensorflow.keras import layers\n",
        "model_4_embedding = layers.Embedding(input_dim=max_vocab_length,\n",
        "                                     output_dim=128,\n",
        "                                     embeddings_initializer=\"uniform\",\n",
        "                                     input_length=max_length,\n",
        "                                     name=\"embedding_4\")\n",
        "\n",
        "# Build a Bidirectional RNN in TensorFlow\n",
        "inputs = layers.Input(shape=(1,), dtype=\"string\")\n",
        "x = text_vectorizer(inputs)\n",
        "x = model_4_embedding(x)\n",
        "# x = layers.Bidirectional(layers.LSTM(64, return_sequences=True))(x) # stacking RNN layers requires return_sequences=True\n",
        "x = layers.Bidirectional(layers.LSTM(64))(x) # bidirectional goes both ways so has double the parameters of a regular LSTM layer\n",
        "outputs = layers.Dense(4, activation=\"softmax\")(x)\n",
        "model_4 = tf.keras.Model(inputs, outputs, name=\"model_4_Bidirectional\")"
      ]
    },
    {
      "cell_type": "code",
      "execution_count": null,
      "metadata": {
        "id": "lGSytT37AWQB"
      },
      "outputs": [],
      "source": [
        "# Compile\n",
        "model_4.compile(loss=\"CategoricalCrossentropy\",\n",
        "                optimizer=tf.keras.optimizers.Adam(),\n",
        "                metrics=[\"accuracy\"])"
      ]
    },
    {
      "cell_type": "code",
      "execution_count": null,
      "metadata": {
        "colab": {
          "base_uri": "https://localhost:8080/"
        },
        "id": "RYw-FgnaAYg-",
        "outputId": "edc9a4c8-11b2-4783-c123-6bbbfc1a7dcb"
      },
      "outputs": [
        {
          "output_type": "stream",
          "name": "stdout",
          "text": [
            "Model: \"model_4_Bidirectional\"\n",
            "_________________________________________________________________\n",
            " Layer (type)                Output Shape              Param #   \n",
            "=================================================================\n",
            " input_7 (InputLayer)        [(None, 1)]               0         \n",
            "                                                                 \n",
            " text_vectorization_3 (TextV  (None, 15)               0         \n",
            " ectorization)                                                   \n",
            "                                                                 \n",
            " embedding_4 (Embedding)     (None, 15, 128)           1280000   \n",
            "                                                                 \n",
            " bidirectional (Bidirectiona  (None, 128)              98816     \n",
            " l)                                                              \n",
            "                                                                 \n",
            " dense_6 (Dense)             (None, 4)                 516       \n",
            "                                                                 \n",
            "=================================================================\n",
            "Total params: 1,379,332\n",
            "Trainable params: 1,379,332\n",
            "Non-trainable params: 0\n",
            "_________________________________________________________________\n"
          ]
        }
      ],
      "source": [
        "# Get a summary of our bidirectional model\n",
        "model_4.summary()"
      ]
    },
    {
      "cell_type": "code",
      "execution_count": null,
      "metadata": {
        "id": "nXc3mj9JAapx",
        "colab": {
          "base_uri": "https://localhost:8080/"
        },
        "outputId": "0390d04b-300d-4100-b556-2d13011b1bd0"
      },
      "outputs": [
        {
          "output_type": "stream",
          "name": "stdout",
          "text": [
            "Saving TensorBoard log files to: model_logs/bidirectional_RNN/20230328-155848\n",
            "Epoch 1/10\n",
            "109/109 [==============================] - 12s 76ms/step - loss: 1.1721 - accuracy: 0.4809 - val_loss: 0.7646 - val_accuracy: 0.6856\n",
            "Epoch 2/10\n",
            "109/109 [==============================] - 2s 18ms/step - loss: 0.4581 - accuracy: 0.8373 - val_loss: 0.6781 - val_accuracy: 0.7552\n",
            "Epoch 3/10\n",
            "109/109 [==============================] - 2s 17ms/step - loss: 0.1474 - accuracy: 0.9549 - val_loss: 0.7284 - val_accuracy: 0.7912\n",
            "Epoch 4/10\n",
            "109/109 [==============================] - 1s 9ms/step - loss: 0.0695 - accuracy: 0.9802 - val_loss: 0.8911 - val_accuracy: 0.7835\n",
            "Epoch 5/10\n",
            "109/109 [==============================] - 1s 11ms/step - loss: 0.0308 - accuracy: 0.9934 - val_loss: 1.0209 - val_accuracy: 0.7809\n",
            "Epoch 6/10\n",
            "109/109 [==============================] - 1s 7ms/step - loss: 0.0199 - accuracy: 0.9945 - val_loss: 1.0829 - val_accuracy: 0.7784\n",
            "Epoch 7/10\n",
            "109/109 [==============================] - 1s 8ms/step - loss: 0.0155 - accuracy: 0.9954 - val_loss: 1.1202 - val_accuracy: 0.7784\n",
            "Epoch 8/10\n",
            "109/109 [==============================] - 1s 8ms/step - loss: 0.0110 - accuracy: 0.9971 - val_loss: 1.2372 - val_accuracy: 0.7784\n",
            "Epoch 9/10\n",
            "109/109 [==============================] - 1s 12ms/step - loss: 0.0153 - accuracy: 0.9960 - val_loss: 1.1210 - val_accuracy: 0.7629\n",
            "Epoch 10/10\n",
            "109/109 [==============================] - 1s 12ms/step - loss: 0.0133 - accuracy: 0.9966 - val_loss: 1.3084 - val_accuracy: 0.7474\n"
          ]
        }
      ],
      "source": [
        "# Fit the model (takes longer because of the bidirectional layers)\n",
        "model_4_history = model_4.fit(train_sentences,\n",
        "                              train_labels2,\n",
        "                              epochs=10,\n",
        "                              validation_data=(val_sentences, val_labels2),\n",
        "                              callbacks=[create_tensorboard_callback(SAVE_DIR, \"bidirectional_RNN\")])"
      ]
    },
    {
      "cell_type": "code",
      "execution_count": null,
      "metadata": {
        "colab": {
          "base_uri": "https://localhost:8080/"
        },
        "id": "wd3armMEAivG",
        "outputId": "dcb9d300-ac41-494a-cb03-a37283e9ac84"
      },
      "outputs": [
        {
          "output_type": "stream",
          "name": "stdout",
          "text": [
            "13/13 [==============================] - 1s 5ms/step\n"
          ]
        },
        {
          "output_type": "execute_result",
          "data": {
            "text/plain": [
              "array([[2.0295593e-04, 6.5997301e-07, 2.6131454e-06, 9.9979383e-01],\n",
              "       [9.0733066e-04, 7.6990336e-06, 5.5345226e-06, 9.9907947e-01],\n",
              "       [2.0894468e-06, 9.9100000e-01, 2.9191453e-04, 8.7059252e-03],\n",
              "       [7.4948365e-04, 2.6181301e-01, 5.8211023e-01, 1.5532720e-01],\n",
              "       [4.2595371e-04, 4.4637006e-02, 8.3098337e-02, 8.7183869e-01],\n",
              "       [3.5037632e-05, 9.9983561e-01, 1.8569883e-06, 1.2749393e-04],\n",
              "       [2.1501050e-05, 9.9855250e-01, 4.1507526e-05, 1.3844264e-03],\n",
              "       [8.3825728e-07, 4.4668101e-07, 9.9998260e-01, 1.6038721e-05],\n",
              "       [3.0008382e-06, 9.9998629e-01, 2.3587838e-06, 8.3820814e-06],\n",
              "       [3.5979923e-05, 1.4630388e-05, 8.9285453e-04, 9.9905652e-01]],\n",
              "      dtype=float32)"
            ]
          },
          "metadata": {},
          "execution_count": 173
        }
      ],
      "source": [
        "# Make predictions with bidirectional RNN on the validation data\n",
        "model_4_pred_probs = model_4.predict(val_sentences)\n",
        "model_4_pred_probs[:10]"
      ]
    },
    {
      "cell_type": "code",
      "execution_count": null,
      "metadata": {
        "colab": {
          "base_uri": "https://localhost:8080/"
        },
        "id": "IxtyL1D_AjfS",
        "outputId": "04408b4a-2e97-4603-be40-951f7515f27f"
      },
      "outputs": [
        {
          "output_type": "execute_result",
          "data": {
            "text/plain": [
              "<tf.Tensor: shape=(10, 4), dtype=float32, numpy=\n",
              "array([[0., 0., 0., 1.],\n",
              "       [0., 0., 0., 1.],\n",
              "       [0., 1., 0., 0.],\n",
              "       [0., 0., 1., 0.],\n",
              "       [0., 0., 0., 1.],\n",
              "       [0., 1., 0., 0.],\n",
              "       [0., 1., 0., 0.],\n",
              "       [0., 0., 1., 0.],\n",
              "       [0., 1., 0., 0.],\n",
              "       [0., 0., 0., 1.]], dtype=float32)>"
            ]
          },
          "metadata": {},
          "execution_count": 174
        }
      ],
      "source": [
        "# Convert prediction probabilities to labels\n",
        "model_4_preds = tf.squeeze(tf.round(model_4_pred_probs))\n",
        "model_4_preds[:10]"
      ]
    },
    {
      "cell_type": "code",
      "execution_count": null,
      "metadata": {
        "colab": {
          "base_uri": "https://localhost:8080/"
        },
        "id": "xS2K1zaHAmDc",
        "outputId": "d6bff37d-1b03-47ce-f3bb-639f836c6eca"
      },
      "outputs": [
        {
          "output_type": "execute_result",
          "data": {
            "text/plain": [
              "{'accuracy': 74.74226804123711,\n",
              " 'precision': 0.7619469990527493,\n",
              " 'recall': 0.7474226804123711,\n",
              " 'f1': 0.7498446643277848}"
            ]
          },
          "metadata": {},
          "execution_count": 175
        }
      ],
      "source": [
        "# Calculate bidirectional RNN model results\n",
        "model_4_results = calculate_results(val_labels2, model_4_preds)\n",
        "model_4_results"
      ]
    },
    {
      "cell_type": "code",
      "execution_count": null,
      "metadata": {
        "colab": {
          "base_uri": "https://localhost:8080/"
        },
        "id": "KuRNhdwkBCPZ",
        "outputId": "41af801c-964c-4e71-c7ad-4d262cb585b9"
      },
      "outputs": [
        {
          "output_type": "execute_result",
          "data": {
            "text/plain": [
              "{'accuracy': 77.0618556701031,\n",
              " 'precision': 0.8408962579825913,\n",
              " 'recall': 0.770618556701031,\n",
              " 'f1': 0.803728806842776}"
            ]
          },
          "metadata": {},
          "execution_count": 177
        }
      ],
      "source": [
        "model_1_results"
      ]
    },
    {
      "cell_type": "code",
      "execution_count": null,
      "metadata": {
        "colab": {
          "base_uri": "https://localhost:8080/"
        },
        "id": "H1w4zUhPBDrv",
        "outputId": "5a65636b-3086-4be8-afdf-d27ef55f661d"
      },
      "outputs": [
        {
          "output_type": "execute_result",
          "data": {
            "text/plain": [
              "{'accuracy': 74.48453608247422,\n",
              " 'precision': 0.7988221081871079,\n",
              " 'recall': 0.7448453608247423,\n",
              " 'f1': 0.7703479626126419}"
            ]
          },
          "metadata": {},
          "execution_count": 178
        }
      ],
      "source": [
        "model_2_results"
      ]
    },
    {
      "cell_type": "code",
      "execution_count": null,
      "metadata": {
        "colab": {
          "base_uri": "https://localhost:8080/"
        },
        "id": "QEarDtx3BFFU",
        "outputId": "c0716d9c-5f75-492a-84b3-604717aee9fc"
      },
      "outputs": [
        {
          "output_type": "execute_result",
          "data": {
            "text/plain": [
              "{'accuracy': 76.03092783505154,\n",
              " 'precision': 0.8138561934875315,\n",
              " 'recall': 0.7603092783505154,\n",
              " 'f1': 0.7819210195566584}"
            ]
          },
          "metadata": {},
          "execution_count": 179
        }
      ],
      "source": [
        "model_3_results"
      ]
    },
    {
      "cell_type": "code",
      "execution_count": null,
      "metadata": {
        "colab": {
          "base_uri": "https://localhost:8080/"
        },
        "id": "dmEhuexfBGtQ",
        "outputId": "148a316d-5d84-4ea1-d81a-3fce40e62c41"
      },
      "outputs": [
        {
          "output_type": "execute_result",
          "data": {
            "text/plain": [
              "{'accuracy': 74.74226804123711,\n",
              " 'precision': 0.7619469990527493,\n",
              " 'recall': 0.7474226804123711,\n",
              " 'f1': 0.7498446643277848}"
            ]
          },
          "metadata": {},
          "execution_count": 180
        }
      ],
      "source": [
        "model_4_results"
      ]
    },
    {
      "cell_type": "code",
      "execution_count": null,
      "metadata": {
        "id": "zvNgh-9JBIdB",
        "colab": {
          "base_uri": "https://localhost:8080/"
        },
        "outputId": "59f04a77-fe67-4020-bfc7-3ae7fa11c590"
      },
      "outputs": [
        {
          "output_type": "stream",
          "name": "stdout",
          "text": [
            "1/1 [==============================] - 0s 117ms/step\n"
          ]
        },
        {
          "output_type": "execute_result",
          "data": {
            "text/plain": [
              "array([[3.1264162e-06, 4.0584524e-05, 9.9891698e-01, 1.0393563e-03],\n",
              "       [6.2552631e-06, 9.9965560e-01, 1.3494769e-05, 3.2469307e-04],\n",
              "       [1.8486533e-04, 4.3497480e-06, 9.2829549e-04, 9.9888247e-01]],\n",
              "      dtype=float32)"
            ]
          },
          "metadata": {},
          "execution_count": 197
        }
      ],
      "source": [
        "sen=['what the hell is this','wow amazing this good','pls dont hurt me i dont like it']\n",
        "guess=model_4.predict(sen)\n",
        "guess"
      ]
    },
    {
      "cell_type": "code",
      "source": [
        "tf.squeeze(tf.round(guess))\n"
      ],
      "metadata": {
        "colab": {
          "base_uri": "https://localhost:8080/"
        },
        "id": "5DNpHCWy8n9h",
        "outputId": "b9fe7b6f-6592-49d1-9575-07f27b57be18"
      },
      "execution_count": null,
      "outputs": [
        {
          "output_type": "execute_result",
          "data": {
            "text/plain": [
              "<tf.Tensor: shape=(3, 4), dtype=float32, numpy=\n",
              "array([[0., 0., 1., 0.],\n",
              "       [0., 1., 0., 0.],\n",
              "       [0., 0., 0., 1.]], dtype=float32)>"
            ]
          },
          "metadata": {},
          "execution_count": 198
        }
      ]
    },
    {
      "cell_type": "code",
      "source": [
        "#14-fear, 17-joy, 2-angry, 25- sadnessS"
      ],
      "metadata": {
        "id": "Wg1JpK6a9FWA"
      },
      "execution_count": null,
      "outputs": []
    }
  ],
  "metadata": {
    "accelerator": "GPU",
    "colab": {
      "provenance": []
    },
    "gpuClass": "standard",
    "kernelspec": {
      "display_name": "Python 3",
      "name": "python3"
    },
    "language_info": {
      "name": "python"
    }
  },
  "nbformat": 4,
  "nbformat_minor": 0
}