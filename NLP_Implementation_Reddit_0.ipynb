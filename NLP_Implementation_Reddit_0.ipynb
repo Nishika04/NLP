{
  "nbformat": 4,
  "nbformat_minor": 0,
  "metadata": {
    "colab": {
      "provenance": []
    },
    "kernelspec": {
      "name": "python3",
      "display_name": "Python 3"
    },
    "language_info": {
      "name": "python"
    },
    "accelerator": "TPU",
    "gpuClass": "standard"
  },
  "cells": [
    {
      "cell_type": "markdown",
      "source": [
        "### **Dataset: GoEmotions**\n",
        "\n",
        "*GoEmotions* is a corpus of 58k carefully curated comments extracted from Reddit, with human annotations to 27 emotion categories or Neutral.\n",
        "\n",
        "Number of examples: 58,009.\n",
        "Number of labels: 27 + Neutral.\n",
        "\n",
        "The data has already been separated in train, test and validation sets \n",
        "\n",
        "Size of training dataset: 43,410.\n",
        "\n",
        "Size of test dataset: 5,427.\n",
        "\n",
        "Size of validation dataset: 5,426.\n",
        "\n",
        "The emotion categories are: admiration, amusement, anger, annoyance, approval, caring, confusion, curiosity, desire, disappointment, disapproval, disgust, embarrassment, excitement, fear, gratitude, grief, joy, love, nervousness, optimism, pride, realization, relief, remorse, sadness, surprise."
      ],
      "metadata": {
        "id": "b5Y8OQwrpFMc"
      }
    },
    {
      "cell_type": "code",
      "execution_count": null,
      "metadata": {
        "id": "nFxAx0n0ocI9",
        "colab": {
          "base_uri": "https://localhost:8080/"
        },
        "outputId": "bec09dfd-0a25-4dfd-bd74-ed3b0f4a27d4"
      },
      "outputs": [
        {
          "output_type": "stream",
          "name": "stdout",
          "text": [
            "Mounted at /content/drive\n"
          ]
        }
      ],
      "source": [
        "from google.colab import drive\n",
        "drive.mount('/content/drive')"
      ]
    },
    {
      "cell_type": "markdown",
      "source": [
        "Importing libraries and importing data"
      ],
      "metadata": {
        "id": "tTi5KyigsIHP"
      }
    },
    {
      "cell_type": "code",
      "source": [
        "# Here we import everything we need for the project\n",
        "\n",
        "%matplotlib inline\n",
        "from google.colab import files\n",
        "import os\n",
        "\n",
        "# TensorFlow and tf.keras\n",
        "import tensorflow as tf\n",
        "from tensorflow import keras\n",
        "\n",
        "# Helper libraries\n",
        "import numpy as np\n",
        "import matplotlib.pyplot as plt\n",
        "import cv2\n",
        "import pandas as pd\n",
        "\n",
        "# Sklearn\n",
        "from sklearn.model_selection import train_test_split # Helps with organizing data for training\n",
        "from sklearn.metrics import confusion_matrix # Helps present results as a confusion-matrix\n",
        "\n",
        "print(tf.__version__)"
      ],
      "metadata": {
        "id": "gOVsDihbriSd",
        "colab": {
          "base_uri": "https://localhost:8080/"
        },
        "outputId": "8d682317-c5ff-4f7c-f609-5956b1320ba4"
      },
      "execution_count": null,
      "outputs": [
        {
          "output_type": "stream",
          "name": "stdout",
          "text": [
            "2.11.0\n"
          ]
        }
      ]
    },
    {
      "cell_type": "code",
      "source": [
        "# Importing raw comments and labels\n",
        "df_train = pd.read_csv('/content/drive/MyDrive/GoEmotions_Git/data/train.tsv', sep='\\t', header=None, names=['Text', 'GE_indices', 'Id']).drop('Id', axis=1)\n",
        "df_val = pd.read_csv('/content/drive/MyDrive/GoEmotions_Git/data/dev.tsv', sep='\\t', header=None, names=['Text', 'GE_indices', 'Id']).drop('Id', axis=1)\n",
        "df_test = pd.read_csv('/content/drive/MyDrive/GoEmotions_Git/data/test.tsv', sep='\\t', header=None, names=['Text', 'GE_indices', 'Id']).drop('Id', axis=1)"
      ],
      "metadata": {
        "id": "7S44BBOwrWAA"
      },
      "execution_count": null,
      "outputs": []
    },
    {
      "cell_type": "code",
      "source": [
        "# Preview of what data has been saved in the above variables\n",
        "df_train[:10]"
      ],
      "metadata": {
        "id": "eZvcKUaHrr72",
        "colab": {
          "base_uri": "https://localhost:8080/",
          "height": 363
        },
        "outputId": "aa517c13-d40c-4b50-c5dc-8df921bb8b53"
      },
      "execution_count": null,
      "outputs": [
        {
          "output_type": "execute_result",
          "data": {
            "text/plain": [
              "                                                Text GE_indices\n",
              "0  My favourite food is anything I didn't have to...         27\n",
              "1  Now if he does off himself, everyone will thin...         27\n",
              "2                     WHY THE FUCK IS BAYLESS ISOING          2\n",
              "3                        To make her feel threatened         14\n",
              "4                             Dirty Southern Wankers          3\n",
              "5  OmG pEyToN iSn'T gOoD eNoUgH tO hElP uS iN tHe...         26\n",
              "6  Yes I heard abt the f bombs! That has to be wh...         15\n",
              "7  We need more boards and to create a bit more s...       8,20\n",
              "8  Damn youtube and outrage drama is super lucrat...          0\n",
              "9  It might be linked to the trust factor of your...         27"
            ],
            "text/html": [
              "\n",
              "  <div id=\"df-9af46736-8c66-4cb3-a837-ff7884783a7f\">\n",
              "    <div class=\"colab-df-container\">\n",
              "      <div>\n",
              "<style scoped>\n",
              "    .dataframe tbody tr th:only-of-type {\n",
              "        vertical-align: middle;\n",
              "    }\n",
              "\n",
              "    .dataframe tbody tr th {\n",
              "        vertical-align: top;\n",
              "    }\n",
              "\n",
              "    .dataframe thead th {\n",
              "        text-align: right;\n",
              "    }\n",
              "</style>\n",
              "<table border=\"1\" class=\"dataframe\">\n",
              "  <thead>\n",
              "    <tr style=\"text-align: right;\">\n",
              "      <th></th>\n",
              "      <th>Text</th>\n",
              "      <th>GE_indices</th>\n",
              "    </tr>\n",
              "  </thead>\n",
              "  <tbody>\n",
              "    <tr>\n",
              "      <th>0</th>\n",
              "      <td>My favourite food is anything I didn't have to...</td>\n",
              "      <td>27</td>\n",
              "    </tr>\n",
              "    <tr>\n",
              "      <th>1</th>\n",
              "      <td>Now if he does off himself, everyone will thin...</td>\n",
              "      <td>27</td>\n",
              "    </tr>\n",
              "    <tr>\n",
              "      <th>2</th>\n",
              "      <td>WHY THE FUCK IS BAYLESS ISOING</td>\n",
              "      <td>2</td>\n",
              "    </tr>\n",
              "    <tr>\n",
              "      <th>3</th>\n",
              "      <td>To make her feel threatened</td>\n",
              "      <td>14</td>\n",
              "    </tr>\n",
              "    <tr>\n",
              "      <th>4</th>\n",
              "      <td>Dirty Southern Wankers</td>\n",
              "      <td>3</td>\n",
              "    </tr>\n",
              "    <tr>\n",
              "      <th>5</th>\n",
              "      <td>OmG pEyToN iSn'T gOoD eNoUgH tO hElP uS iN tHe...</td>\n",
              "      <td>26</td>\n",
              "    </tr>\n",
              "    <tr>\n",
              "      <th>6</th>\n",
              "      <td>Yes I heard abt the f bombs! That has to be wh...</td>\n",
              "      <td>15</td>\n",
              "    </tr>\n",
              "    <tr>\n",
              "      <th>7</th>\n",
              "      <td>We need more boards and to create a bit more s...</td>\n",
              "      <td>8,20</td>\n",
              "    </tr>\n",
              "    <tr>\n",
              "      <th>8</th>\n",
              "      <td>Damn youtube and outrage drama is super lucrat...</td>\n",
              "      <td>0</td>\n",
              "    </tr>\n",
              "    <tr>\n",
              "      <th>9</th>\n",
              "      <td>It might be linked to the trust factor of your...</td>\n",
              "      <td>27</td>\n",
              "    </tr>\n",
              "  </tbody>\n",
              "</table>\n",
              "</div>\n",
              "      <button class=\"colab-df-convert\" onclick=\"convertToInteractive('df-9af46736-8c66-4cb3-a837-ff7884783a7f')\"\n",
              "              title=\"Convert this dataframe to an interactive table.\"\n",
              "              style=\"display:none;\">\n",
              "        \n",
              "  <svg xmlns=\"http://www.w3.org/2000/svg\" height=\"24px\"viewBox=\"0 0 24 24\"\n",
              "       width=\"24px\">\n",
              "    <path d=\"M0 0h24v24H0V0z\" fill=\"none\"/>\n",
              "    <path d=\"M18.56 5.44l.94 2.06.94-2.06 2.06-.94-2.06-.94-.94-2.06-.94 2.06-2.06.94zm-11 1L8.5 8.5l.94-2.06 2.06-.94-2.06-.94L8.5 2.5l-.94 2.06-2.06.94zm10 10l.94 2.06.94-2.06 2.06-.94-2.06-.94-.94-2.06-.94 2.06-2.06.94z\"/><path d=\"M17.41 7.96l-1.37-1.37c-.4-.4-.92-.59-1.43-.59-.52 0-1.04.2-1.43.59L10.3 9.45l-7.72 7.72c-.78.78-.78 2.05 0 2.83L4 21.41c.39.39.9.59 1.41.59.51 0 1.02-.2 1.41-.59l7.78-7.78 2.81-2.81c.8-.78.8-2.07 0-2.86zM5.41 20L4 18.59l7.72-7.72 1.47 1.35L5.41 20z\"/>\n",
              "  </svg>\n",
              "      </button>\n",
              "      \n",
              "  <style>\n",
              "    .colab-df-container {\n",
              "      display:flex;\n",
              "      flex-wrap:wrap;\n",
              "      gap: 12px;\n",
              "    }\n",
              "\n",
              "    .colab-df-convert {\n",
              "      background-color: #E8F0FE;\n",
              "      border: none;\n",
              "      border-radius: 50%;\n",
              "      cursor: pointer;\n",
              "      display: none;\n",
              "      fill: #1967D2;\n",
              "      height: 32px;\n",
              "      padding: 0 0 0 0;\n",
              "      width: 32px;\n",
              "    }\n",
              "\n",
              "    .colab-df-convert:hover {\n",
              "      background-color: #E2EBFA;\n",
              "      box-shadow: 0px 1px 2px rgba(60, 64, 67, 0.3), 0px 1px 3px 1px rgba(60, 64, 67, 0.15);\n",
              "      fill: #174EA6;\n",
              "    }\n",
              "\n",
              "    [theme=dark] .colab-df-convert {\n",
              "      background-color: #3B4455;\n",
              "      fill: #D2E3FC;\n",
              "    }\n",
              "\n",
              "    [theme=dark] .colab-df-convert:hover {\n",
              "      background-color: #434B5C;\n",
              "      box-shadow: 0px 1px 3px 1px rgba(0, 0, 0, 0.15);\n",
              "      filter: drop-shadow(0px 1px 2px rgba(0, 0, 0, 0.3));\n",
              "      fill: #FFFFFF;\n",
              "    }\n",
              "  </style>\n",
              "\n",
              "      <script>\n",
              "        const buttonEl =\n",
              "          document.querySelector('#df-9af46736-8c66-4cb3-a837-ff7884783a7f button.colab-df-convert');\n",
              "        buttonEl.style.display =\n",
              "          google.colab.kernel.accessAllowed ? 'block' : 'none';\n",
              "\n",
              "        async function convertToInteractive(key) {\n",
              "          const element = document.querySelector('#df-9af46736-8c66-4cb3-a837-ff7884783a7f');\n",
              "          const dataTable =\n",
              "            await google.colab.kernel.invokeFunction('convertToInteractive',\n",
              "                                                     [key], {});\n",
              "          if (!dataTable) return;\n",
              "\n",
              "          const docLinkHtml = 'Like what you see? Visit the ' +\n",
              "            '<a target=\"_blank\" href=https://colab.research.google.com/notebooks/data_table.ipynb>data table notebook</a>'\n",
              "            + ' to learn more about interactive tables.';\n",
              "          element.innerHTML = '';\n",
              "          dataTable['output_type'] = 'display_data';\n",
              "          await google.colab.output.renderOutput(dataTable, element);\n",
              "          const docLink = document.createElement('div');\n",
              "          docLink.innerHTML = docLinkHtml;\n",
              "          element.appendChild(docLink);\n",
              "        }\n",
              "      </script>\n",
              "    </div>\n",
              "  </div>\n",
              "  "
            ]
          },
          "metadata": {},
          "execution_count": 4
        }
      ]
    },
    {
      "cell_type": "code",
      "source": [
        "df_test"
      ],
      "metadata": {
        "id": "CnSH_ssPr0_G",
        "colab": {
          "base_uri": "https://localhost:8080/",
          "height": 423
        },
        "outputId": "c204d295-4e2e-4fef-8a04-5d5ce74f4525"
      },
      "execution_count": null,
      "outputs": [
        {
          "output_type": "execute_result",
          "data": {
            "text/plain": [
              "                                                   Text GE_indices\n",
              "0     I’m really sorry about your situation :( Altho...         25\n",
              "1       It's wonderful because it's awful. At not with.          0\n",
              "2     Kings fan here, good luck to you guys! Will be...         13\n",
              "3     I didn't know that, thank you for teaching me ...         15\n",
              "4     They got bored from haunting earth for thousan...         27\n",
              "...                                                 ...        ...\n",
              "5422  Thanks. I was diagnosed with BP 1 after the ho...         15\n",
              "5423                             Well that makes sense.          4\n",
              "5424                                Daddy issues [NAME]         27\n",
              "5425  So glad I discovered that subreddit a couple m...          0\n",
              "5426  Had to watch \"Elmo in Grouchland\" one time too...         27\n",
              "\n",
              "[5427 rows x 2 columns]"
            ],
            "text/html": [
              "\n",
              "  <div id=\"df-90dbfb09-0fa2-415d-abf6-4823e8be897d\">\n",
              "    <div class=\"colab-df-container\">\n",
              "      <div>\n",
              "<style scoped>\n",
              "    .dataframe tbody tr th:only-of-type {\n",
              "        vertical-align: middle;\n",
              "    }\n",
              "\n",
              "    .dataframe tbody tr th {\n",
              "        vertical-align: top;\n",
              "    }\n",
              "\n",
              "    .dataframe thead th {\n",
              "        text-align: right;\n",
              "    }\n",
              "</style>\n",
              "<table border=\"1\" class=\"dataframe\">\n",
              "  <thead>\n",
              "    <tr style=\"text-align: right;\">\n",
              "      <th></th>\n",
              "      <th>Text</th>\n",
              "      <th>GE_indices</th>\n",
              "    </tr>\n",
              "  </thead>\n",
              "  <tbody>\n",
              "    <tr>\n",
              "      <th>0</th>\n",
              "      <td>I’m really sorry about your situation :( Altho...</td>\n",
              "      <td>25</td>\n",
              "    </tr>\n",
              "    <tr>\n",
              "      <th>1</th>\n",
              "      <td>It's wonderful because it's awful. At not with.</td>\n",
              "      <td>0</td>\n",
              "    </tr>\n",
              "    <tr>\n",
              "      <th>2</th>\n",
              "      <td>Kings fan here, good luck to you guys! Will be...</td>\n",
              "      <td>13</td>\n",
              "    </tr>\n",
              "    <tr>\n",
              "      <th>3</th>\n",
              "      <td>I didn't know that, thank you for teaching me ...</td>\n",
              "      <td>15</td>\n",
              "    </tr>\n",
              "    <tr>\n",
              "      <th>4</th>\n",
              "      <td>They got bored from haunting earth for thousan...</td>\n",
              "      <td>27</td>\n",
              "    </tr>\n",
              "    <tr>\n",
              "      <th>...</th>\n",
              "      <td>...</td>\n",
              "      <td>...</td>\n",
              "    </tr>\n",
              "    <tr>\n",
              "      <th>5422</th>\n",
              "      <td>Thanks. I was diagnosed with BP 1 after the ho...</td>\n",
              "      <td>15</td>\n",
              "    </tr>\n",
              "    <tr>\n",
              "      <th>5423</th>\n",
              "      <td>Well that makes sense.</td>\n",
              "      <td>4</td>\n",
              "    </tr>\n",
              "    <tr>\n",
              "      <th>5424</th>\n",
              "      <td>Daddy issues [NAME]</td>\n",
              "      <td>27</td>\n",
              "    </tr>\n",
              "    <tr>\n",
              "      <th>5425</th>\n",
              "      <td>So glad I discovered that subreddit a couple m...</td>\n",
              "      <td>0</td>\n",
              "    </tr>\n",
              "    <tr>\n",
              "      <th>5426</th>\n",
              "      <td>Had to watch \"Elmo in Grouchland\" one time too...</td>\n",
              "      <td>27</td>\n",
              "    </tr>\n",
              "  </tbody>\n",
              "</table>\n",
              "<p>5427 rows × 2 columns</p>\n",
              "</div>\n",
              "      <button class=\"colab-df-convert\" onclick=\"convertToInteractive('df-90dbfb09-0fa2-415d-abf6-4823e8be897d')\"\n",
              "              title=\"Convert this dataframe to an interactive table.\"\n",
              "              style=\"display:none;\">\n",
              "        \n",
              "  <svg xmlns=\"http://www.w3.org/2000/svg\" height=\"24px\"viewBox=\"0 0 24 24\"\n",
              "       width=\"24px\">\n",
              "    <path d=\"M0 0h24v24H0V0z\" fill=\"none\"/>\n",
              "    <path d=\"M18.56 5.44l.94 2.06.94-2.06 2.06-.94-2.06-.94-.94-2.06-.94 2.06-2.06.94zm-11 1L8.5 8.5l.94-2.06 2.06-.94-2.06-.94L8.5 2.5l-.94 2.06-2.06.94zm10 10l.94 2.06.94-2.06 2.06-.94-2.06-.94-.94-2.06-.94 2.06-2.06.94z\"/><path d=\"M17.41 7.96l-1.37-1.37c-.4-.4-.92-.59-1.43-.59-.52 0-1.04.2-1.43.59L10.3 9.45l-7.72 7.72c-.78.78-.78 2.05 0 2.83L4 21.41c.39.39.9.59 1.41.59.51 0 1.02-.2 1.41-.59l7.78-7.78 2.81-2.81c.8-.78.8-2.07 0-2.86zM5.41 20L4 18.59l7.72-7.72 1.47 1.35L5.41 20z\"/>\n",
              "  </svg>\n",
              "      </button>\n",
              "      \n",
              "  <style>\n",
              "    .colab-df-container {\n",
              "      display:flex;\n",
              "      flex-wrap:wrap;\n",
              "      gap: 12px;\n",
              "    }\n",
              "\n",
              "    .colab-df-convert {\n",
              "      background-color: #E8F0FE;\n",
              "      border: none;\n",
              "      border-radius: 50%;\n",
              "      cursor: pointer;\n",
              "      display: none;\n",
              "      fill: #1967D2;\n",
              "      height: 32px;\n",
              "      padding: 0 0 0 0;\n",
              "      width: 32px;\n",
              "    }\n",
              "\n",
              "    .colab-df-convert:hover {\n",
              "      background-color: #E2EBFA;\n",
              "      box-shadow: 0px 1px 2px rgba(60, 64, 67, 0.3), 0px 1px 3px 1px rgba(60, 64, 67, 0.15);\n",
              "      fill: #174EA6;\n",
              "    }\n",
              "\n",
              "    [theme=dark] .colab-df-convert {\n",
              "      background-color: #3B4455;\n",
              "      fill: #D2E3FC;\n",
              "    }\n",
              "\n",
              "    [theme=dark] .colab-df-convert:hover {\n",
              "      background-color: #434B5C;\n",
              "      box-shadow: 0px 1px 3px 1px rgba(0, 0, 0, 0.15);\n",
              "      filter: drop-shadow(0px 1px 2px rgba(0, 0, 0, 0.3));\n",
              "      fill: #FFFFFF;\n",
              "    }\n",
              "  </style>\n",
              "\n",
              "      <script>\n",
              "        const buttonEl =\n",
              "          document.querySelector('#df-90dbfb09-0fa2-415d-abf6-4823e8be897d button.colab-df-convert');\n",
              "        buttonEl.style.display =\n",
              "          google.colab.kernel.accessAllowed ? 'block' : 'none';\n",
              "\n",
              "        async function convertToInteractive(key) {\n",
              "          const element = document.querySelector('#df-90dbfb09-0fa2-415d-abf6-4823e8be897d');\n",
              "          const dataTable =\n",
              "            await google.colab.kernel.invokeFunction('convertToInteractive',\n",
              "                                                     [key], {});\n",
              "          if (!dataTable) return;\n",
              "\n",
              "          const docLinkHtml = 'Like what you see? Visit the ' +\n",
              "            '<a target=\"_blank\" href=https://colab.research.google.com/notebooks/data_table.ipynb>data table notebook</a>'\n",
              "            + ' to learn more about interactive tables.';\n",
              "          element.innerHTML = '';\n",
              "          dataTable['output_type'] = 'display_data';\n",
              "          await google.colab.output.renderOutput(dataTable, element);\n",
              "          const docLink = document.createElement('div');\n",
              "          docLink.innerHTML = docLinkHtml;\n",
              "          element.appendChild(docLink);\n",
              "        }\n",
              "      </script>\n",
              "    </div>\n",
              "  </div>\n",
              "  "
            ]
          },
          "metadata": {},
          "execution_count": 5
        }
      ]
    },
    {
      "cell_type": "code",
      "source": [
        "df_val"
      ],
      "metadata": {
        "id": "HJiaYsiWr59V",
        "colab": {
          "base_uri": "https://localhost:8080/",
          "height": 423
        },
        "outputId": "b8bfd8f2-c9da-4fb6-abd0-31c4f665a630"
      },
      "execution_count": null,
      "outputs": [
        {
          "output_type": "execute_result",
          "data": {
            "text/plain": [
              "                                                   Text GE_indices\n",
              "0     Is this in New Orleans?? I really feel like th...         27\n",
              "1     You know the answer man, you are programmed to...       4,27\n",
              "2                  I've never been this sad in my life!         25\n",
              "3     The economy is heavily controlled and subsidiz...       4,27\n",
              "4     He could have easily taken a real camera from ...         20\n",
              "...                                                 ...        ...\n",
              "5421  It's pretty dangerous when the state decides w...         14\n",
              "5422  I filed for divorce this morning. Hoping he mo...         20\n",
              "5423  The last time it happened I just said, \"No\" an...         10\n",
              "5424  I can’t stand this arrogant prick he’s no bett...          3\n",
              "5425              ::but I like baby bangs:: /tiny voice         18\n",
              "\n",
              "[5426 rows x 2 columns]"
            ],
            "text/html": [
              "\n",
              "  <div id=\"df-42efe21b-04e9-4d21-96b0-a0259172a952\">\n",
              "    <div class=\"colab-df-container\">\n",
              "      <div>\n",
              "<style scoped>\n",
              "    .dataframe tbody tr th:only-of-type {\n",
              "        vertical-align: middle;\n",
              "    }\n",
              "\n",
              "    .dataframe tbody tr th {\n",
              "        vertical-align: top;\n",
              "    }\n",
              "\n",
              "    .dataframe thead th {\n",
              "        text-align: right;\n",
              "    }\n",
              "</style>\n",
              "<table border=\"1\" class=\"dataframe\">\n",
              "  <thead>\n",
              "    <tr style=\"text-align: right;\">\n",
              "      <th></th>\n",
              "      <th>Text</th>\n",
              "      <th>GE_indices</th>\n",
              "    </tr>\n",
              "  </thead>\n",
              "  <tbody>\n",
              "    <tr>\n",
              "      <th>0</th>\n",
              "      <td>Is this in New Orleans?? I really feel like th...</td>\n",
              "      <td>27</td>\n",
              "    </tr>\n",
              "    <tr>\n",
              "      <th>1</th>\n",
              "      <td>You know the answer man, you are programmed to...</td>\n",
              "      <td>4,27</td>\n",
              "    </tr>\n",
              "    <tr>\n",
              "      <th>2</th>\n",
              "      <td>I've never been this sad in my life!</td>\n",
              "      <td>25</td>\n",
              "    </tr>\n",
              "    <tr>\n",
              "      <th>3</th>\n",
              "      <td>The economy is heavily controlled and subsidiz...</td>\n",
              "      <td>4,27</td>\n",
              "    </tr>\n",
              "    <tr>\n",
              "      <th>4</th>\n",
              "      <td>He could have easily taken a real camera from ...</td>\n",
              "      <td>20</td>\n",
              "    </tr>\n",
              "    <tr>\n",
              "      <th>...</th>\n",
              "      <td>...</td>\n",
              "      <td>...</td>\n",
              "    </tr>\n",
              "    <tr>\n",
              "      <th>5421</th>\n",
              "      <td>It's pretty dangerous when the state decides w...</td>\n",
              "      <td>14</td>\n",
              "    </tr>\n",
              "    <tr>\n",
              "      <th>5422</th>\n",
              "      <td>I filed for divorce this morning. Hoping he mo...</td>\n",
              "      <td>20</td>\n",
              "    </tr>\n",
              "    <tr>\n",
              "      <th>5423</th>\n",
              "      <td>The last time it happened I just said, \"No\" an...</td>\n",
              "      <td>10</td>\n",
              "    </tr>\n",
              "    <tr>\n",
              "      <th>5424</th>\n",
              "      <td>I can’t stand this arrogant prick he’s no bett...</td>\n",
              "      <td>3</td>\n",
              "    </tr>\n",
              "    <tr>\n",
              "      <th>5425</th>\n",
              "      <td>::but I like baby bangs:: /tiny voice</td>\n",
              "      <td>18</td>\n",
              "    </tr>\n",
              "  </tbody>\n",
              "</table>\n",
              "<p>5426 rows × 2 columns</p>\n",
              "</div>\n",
              "      <button class=\"colab-df-convert\" onclick=\"convertToInteractive('df-42efe21b-04e9-4d21-96b0-a0259172a952')\"\n",
              "              title=\"Convert this dataframe to an interactive table.\"\n",
              "              style=\"display:none;\">\n",
              "        \n",
              "  <svg xmlns=\"http://www.w3.org/2000/svg\" height=\"24px\"viewBox=\"0 0 24 24\"\n",
              "       width=\"24px\">\n",
              "    <path d=\"M0 0h24v24H0V0z\" fill=\"none\"/>\n",
              "    <path d=\"M18.56 5.44l.94 2.06.94-2.06 2.06-.94-2.06-.94-.94-2.06-.94 2.06-2.06.94zm-11 1L8.5 8.5l.94-2.06 2.06-.94-2.06-.94L8.5 2.5l-.94 2.06-2.06.94zm10 10l.94 2.06.94-2.06 2.06-.94-2.06-.94-.94-2.06-.94 2.06-2.06.94z\"/><path d=\"M17.41 7.96l-1.37-1.37c-.4-.4-.92-.59-1.43-.59-.52 0-1.04.2-1.43.59L10.3 9.45l-7.72 7.72c-.78.78-.78 2.05 0 2.83L4 21.41c.39.39.9.59 1.41.59.51 0 1.02-.2 1.41-.59l7.78-7.78 2.81-2.81c.8-.78.8-2.07 0-2.86zM5.41 20L4 18.59l7.72-7.72 1.47 1.35L5.41 20z\"/>\n",
              "  </svg>\n",
              "      </button>\n",
              "      \n",
              "  <style>\n",
              "    .colab-df-container {\n",
              "      display:flex;\n",
              "      flex-wrap:wrap;\n",
              "      gap: 12px;\n",
              "    }\n",
              "\n",
              "    .colab-df-convert {\n",
              "      background-color: #E8F0FE;\n",
              "      border: none;\n",
              "      border-radius: 50%;\n",
              "      cursor: pointer;\n",
              "      display: none;\n",
              "      fill: #1967D2;\n",
              "      height: 32px;\n",
              "      padding: 0 0 0 0;\n",
              "      width: 32px;\n",
              "    }\n",
              "\n",
              "    .colab-df-convert:hover {\n",
              "      background-color: #E2EBFA;\n",
              "      box-shadow: 0px 1px 2px rgba(60, 64, 67, 0.3), 0px 1px 3px 1px rgba(60, 64, 67, 0.15);\n",
              "      fill: #174EA6;\n",
              "    }\n",
              "\n",
              "    [theme=dark] .colab-df-convert {\n",
              "      background-color: #3B4455;\n",
              "      fill: #D2E3FC;\n",
              "    }\n",
              "\n",
              "    [theme=dark] .colab-df-convert:hover {\n",
              "      background-color: #434B5C;\n",
              "      box-shadow: 0px 1px 3px 1px rgba(0, 0, 0, 0.15);\n",
              "      filter: drop-shadow(0px 1px 2px rgba(0, 0, 0, 0.3));\n",
              "      fill: #FFFFFF;\n",
              "    }\n",
              "  </style>\n",
              "\n",
              "      <script>\n",
              "        const buttonEl =\n",
              "          document.querySelector('#df-42efe21b-04e9-4d21-96b0-a0259172a952 button.colab-df-convert');\n",
              "        buttonEl.style.display =\n",
              "          google.colab.kernel.accessAllowed ? 'block' : 'none';\n",
              "\n",
              "        async function convertToInteractive(key) {\n",
              "          const element = document.querySelector('#df-42efe21b-04e9-4d21-96b0-a0259172a952');\n",
              "          const dataTable =\n",
              "            await google.colab.kernel.invokeFunction('convertToInteractive',\n",
              "                                                     [key], {});\n",
              "          if (!dataTable) return;\n",
              "\n",
              "          const docLinkHtml = 'Like what you see? Visit the ' +\n",
              "            '<a target=\"_blank\" href=https://colab.research.google.com/notebooks/data_table.ipynb>data table notebook</a>'\n",
              "            + ' to learn more about interactive tables.';\n",
              "          element.innerHTML = '';\n",
              "          dataTable['output_type'] = 'display_data';\n",
              "          await google.colab.output.renderOutput(dataTable, element);\n",
              "          const docLink = document.createElement('div');\n",
              "          docLink.innerHTML = docLinkHtml;\n",
              "          element.appendChild(docLink);\n",
              "        }\n",
              "      </script>\n",
              "    </div>\n",
              "  </div>\n",
              "  "
            ]
          },
          "metadata": {},
          "execution_count": 6
        }
      ]
    },
    {
      "cell_type": "markdown",
      "source": [
        "Finding out how much percentage of data is represented by each"
      ],
      "metadata": {
        "id": "V3QliWrFshzH"
      }
    },
    {
      "cell_type": "code",
      "source": [
        "# Defining the number of samples in train, validation and test dataset\n",
        "size_train = df_train.shape[0]\n",
        "size_val = df_val.shape[0]\n",
        "size_test = df_test.shape[0]\n",
        "\n",
        "# Defining the total number of samples\n",
        "size_all = size_train + size_val + size_test"
      ],
      "metadata": {
        "id": "e_ovGp7BsXhz"
      },
      "execution_count": null,
      "outputs": []
    },
    {
      "cell_type": "code",
      "source": [
        "# Shape of train, validation and test datasets\n",
        "print(\"Train dataset has {} samples and represents {:.2f}% of overall data\".format(size_train, size_train/size_all*100))\n",
        "print(\"Validation dataset has {} samples and represents {:.2f}% of overall data\".format(size_val, size_val/size_all*100))\n",
        "print(\"Test dataset has {} samples and represents {:.2f}% of overall data\".format(size_test, size_test/size_all*100))\n",
        "print()\n",
        "print(\"The total number of samples is : {}\".format(size_all))"
      ],
      "metadata": {
        "id": "3uUlMrKPssJt",
        "colab": {
          "base_uri": "https://localhost:8080/"
        },
        "outputId": "965b962f-81a6-4ce3-fd82-2da4cccd31ab"
      },
      "execution_count": null,
      "outputs": [
        {
          "output_type": "stream",
          "name": "stdout",
          "text": [
            "Train dataset has 43410 samples and represents 80.00% of overall data\n",
            "Validation dataset has 5426 samples and represents 10.00% of overall data\n",
            "Test dataset has 5427 samples and represents 10.00% of overall data\n",
            "\n",
            "The total number of samples is : 54263\n"
          ]
        }
      ]
    },
    {
      "cell_type": "markdown",
      "source": [
        "Finding out number of emotions in the dataset"
      ],
      "metadata": {
        "id": "bZb5dVCDuHsc"
      }
    },
    {
      "cell_type": "code",
      "source": [
        "#For datatype \n",
        "df_train.info()"
      ],
      "metadata": {
        "id": "tEAVtLzFuMJW",
        "colab": {
          "base_uri": "https://localhost:8080/"
        },
        "outputId": "47d6a168-0939-4f0a-a3ea-e5b1fde25291"
      },
      "execution_count": null,
      "outputs": [
        {
          "output_type": "stream",
          "name": "stdout",
          "text": [
            "<class 'pandas.core.frame.DataFrame'>\n",
            "RangeIndex: 43410 entries, 0 to 43409\n",
            "Data columns (total 2 columns):\n",
            " #   Column      Non-Null Count  Dtype \n",
            "---  ------      --------------  ----- \n",
            " 0   Text        43410 non-null  object\n",
            " 1   GE_indices  43410 non-null  object\n",
            "dtypes: object(2)\n",
            "memory usage: 678.4+ KB\n"
          ]
        }
      ]
    },
    {
      "cell_type": "markdown",
      "source": [
        "Now, emotions.txt has all the set of emotions that this dataset contains. \n",
        "\n",
        "Each emotion is mapped to a number as well, according to the sequence it is in, in the emotions.txt text file"
      ],
      "metadata": {
        "id": "8q6pRoEfus82"
      }
    },
    {
      "cell_type": "code",
      "source": [
        "# Loading emotion labels for classification of emotions in GoEmotions dataset\n",
        "with open(\"/content/drive/MyDrive/GoEmotions_Git/data/emotions.txt\", \"r\") as file:\n",
        "    GE_class = file.read().split(\"\\n\")\n",
        "\n",
        "print(GE_class)"
      ],
      "metadata": {
        "id": "MspR94jFur1i",
        "colab": {
          "base_uri": "https://localhost:8080/"
        },
        "outputId": "b9fbd559-7623-4ad5-c40b-b54690b52ebc"
      },
      "execution_count": null,
      "outputs": [
        {
          "output_type": "stream",
          "name": "stdout",
          "text": [
            "['admiration', 'amusement', 'anger', 'annoyance', 'approval', 'caring', 'confusion', 'curiosity', 'desire', 'disappointment', 'disapproval', 'disgust', 'embarrassment', 'excitement', 'fear', 'gratitude', 'grief', 'joy', 'love', 'nervousness', 'optimism', 'pride', 'realization', 'relief', 'remorse', 'sadness', 'surprise', 'neutral']\n"
          ]
        }
      ]
    },
    {
      "cell_type": "code",
      "source": [
        "print(len(GE_class))"
      ],
      "metadata": {
        "id": "UwnrzOkVxlPv",
        "colab": {
          "base_uri": "https://localhost:8080/"
        },
        "outputId": "9d7fbba8-b835-45dd-cea9-ac2590ef848c"
      },
      "execution_count": null,
      "outputs": [
        {
          "output_type": "stream",
          "name": "stdout",
          "text": [
            "28\n"
          ]
        }
      ]
    },
    {
      "cell_type": "markdown",
      "source": [
        "Hence, there are 28 emotions, including 'neutral'"
      ],
      "metadata": {
        "id": "aO57v_WtzGFC"
      }
    },
    {
      "cell_type": "code",
      "source": [
        "#Counting the number of values under each emotion category\n",
        "df_train.GE_indices.value_counts()"
      ],
      "metadata": {
        "id": "H7smi9we0e99",
        "colab": {
          "base_uri": "https://localhost:8080/"
        },
        "outputId": "4c20f9d7-8270-49ef-860e-7807a30fcd9e"
      },
      "execution_count": null,
      "outputs": [
        {
          "output_type": "execute_result",
          "data": {
            "text/plain": [
              "27           12823\n",
              "0             2710\n",
              "4             1873\n",
              "15            1857\n",
              "1             1652\n",
              "             ...  \n",
              "6,15,22          1\n",
              "9,10,19          1\n",
              "7,10,25          1\n",
              "7,9,24,25        1\n",
              "0,1,18           1\n",
              "Name: GE_indices, Length: 711, dtype: int64"
            ]
          },
          "metadata": {},
          "execution_count": 12
        }
      ]
    },
    {
      "cell_type": "markdown",
      "source": [
        "###Lambda Functions\n",
        "\n",
        "![image.png](data:image/png;base64,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)\n",
        "\n",
        "They can have any number of arguments but only one expression."
      ],
      "metadata": {
        "id": "2tWxlFaT1Imr"
      }
    },
    {
      "cell_type": "markdown",
      "source": [
        "Before we start to further process the data, we will first have to combine all the three datasets into one and then proceed further"
      ],
      "metadata": {
        "id": "MiHIQbvY1a-R"
      }
    },
    {
      "cell_type": "code",
      "source": [
        "# Combining all the 3 datasets into 1 dataset\n",
        "df_all = pd.concat([df_train, df_val, df_test], axis=0).reset_index(drop=True)\n",
        "\n",
        "# Preview of data\n",
        "display(df_all.head(3))\n",
        "\n",
        "print(df_all.shape)"
      ],
      "metadata": {
        "id": "vRiCC_Zp1l0g",
        "colab": {
          "base_uri": "https://localhost:8080/",
          "height": 161
        },
        "outputId": "cedc4ba9-1cdd-489f-c440-540b0ee50d9c"
      },
      "execution_count": null,
      "outputs": [
        {
          "output_type": "display_data",
          "data": {
            "text/plain": [
              "                                                Text GE_indices\n",
              "0  My favourite food is anything I didn't have to...         27\n",
              "1  Now if he does off himself, everyone will thin...         27\n",
              "2                     WHY THE FUCK IS BAYLESS ISOING          2"
            ],
            "text/html": [
              "\n",
              "  <div id=\"df-e451ffbe-2431-472f-a08f-2bb64b200120\">\n",
              "    <div class=\"colab-df-container\">\n",
              "      <div>\n",
              "<style scoped>\n",
              "    .dataframe tbody tr th:only-of-type {\n",
              "        vertical-align: middle;\n",
              "    }\n",
              "\n",
              "    .dataframe tbody tr th {\n",
              "        vertical-align: top;\n",
              "    }\n",
              "\n",
              "    .dataframe thead th {\n",
              "        text-align: right;\n",
              "    }\n",
              "</style>\n",
              "<table border=\"1\" class=\"dataframe\">\n",
              "  <thead>\n",
              "    <tr style=\"text-align: right;\">\n",
              "      <th></th>\n",
              "      <th>Text</th>\n",
              "      <th>GE_indices</th>\n",
              "    </tr>\n",
              "  </thead>\n",
              "  <tbody>\n",
              "    <tr>\n",
              "      <th>0</th>\n",
              "      <td>My favourite food is anything I didn't have to...</td>\n",
              "      <td>27</td>\n",
              "    </tr>\n",
              "    <tr>\n",
              "      <th>1</th>\n",
              "      <td>Now if he does off himself, everyone will thin...</td>\n",
              "      <td>27</td>\n",
              "    </tr>\n",
              "    <tr>\n",
              "      <th>2</th>\n",
              "      <td>WHY THE FUCK IS BAYLESS ISOING</td>\n",
              "      <td>2</td>\n",
              "    </tr>\n",
              "  </tbody>\n",
              "</table>\n",
              "</div>\n",
              "      <button class=\"colab-df-convert\" onclick=\"convertToInteractive('df-e451ffbe-2431-472f-a08f-2bb64b200120')\"\n",
              "              title=\"Convert this dataframe to an interactive table.\"\n",
              "              style=\"display:none;\">\n",
              "        \n",
              "  <svg xmlns=\"http://www.w3.org/2000/svg\" height=\"24px\"viewBox=\"0 0 24 24\"\n",
              "       width=\"24px\">\n",
              "    <path d=\"M0 0h24v24H0V0z\" fill=\"none\"/>\n",
              "    <path d=\"M18.56 5.44l.94 2.06.94-2.06 2.06-.94-2.06-.94-.94-2.06-.94 2.06-2.06.94zm-11 1L8.5 8.5l.94-2.06 2.06-.94-2.06-.94L8.5 2.5l-.94 2.06-2.06.94zm10 10l.94 2.06.94-2.06 2.06-.94-2.06-.94-.94-2.06-.94 2.06-2.06.94z\"/><path d=\"M17.41 7.96l-1.37-1.37c-.4-.4-.92-.59-1.43-.59-.52 0-1.04.2-1.43.59L10.3 9.45l-7.72 7.72c-.78.78-.78 2.05 0 2.83L4 21.41c.39.39.9.59 1.41.59.51 0 1.02-.2 1.41-.59l7.78-7.78 2.81-2.81c.8-.78.8-2.07 0-2.86zM5.41 20L4 18.59l7.72-7.72 1.47 1.35L5.41 20z\"/>\n",
              "  </svg>\n",
              "      </button>\n",
              "      \n",
              "  <style>\n",
              "    .colab-df-container {\n",
              "      display:flex;\n",
              "      flex-wrap:wrap;\n",
              "      gap: 12px;\n",
              "    }\n",
              "\n",
              "    .colab-df-convert {\n",
              "      background-color: #E8F0FE;\n",
              "      border: none;\n",
              "      border-radius: 50%;\n",
              "      cursor: pointer;\n",
              "      display: none;\n",
              "      fill: #1967D2;\n",
              "      height: 32px;\n",
              "      padding: 0 0 0 0;\n",
              "      width: 32px;\n",
              "    }\n",
              "\n",
              "    .colab-df-convert:hover {\n",
              "      background-color: #E2EBFA;\n",
              "      box-shadow: 0px 1px 2px rgba(60, 64, 67, 0.3), 0px 1px 3px 1px rgba(60, 64, 67, 0.15);\n",
              "      fill: #174EA6;\n",
              "    }\n",
              "\n",
              "    [theme=dark] .colab-df-convert {\n",
              "      background-color: #3B4455;\n",
              "      fill: #D2E3FC;\n",
              "    }\n",
              "\n",
              "    [theme=dark] .colab-df-convert:hover {\n",
              "      background-color: #434B5C;\n",
              "      box-shadow: 0px 1px 3px 1px rgba(0, 0, 0, 0.15);\n",
              "      filter: drop-shadow(0px 1px 2px rgba(0, 0, 0, 0.3));\n",
              "      fill: #FFFFFF;\n",
              "    }\n",
              "  </style>\n",
              "\n",
              "      <script>\n",
              "        const buttonEl =\n",
              "          document.querySelector('#df-e451ffbe-2431-472f-a08f-2bb64b200120 button.colab-df-convert');\n",
              "        buttonEl.style.display =\n",
              "          google.colab.kernel.accessAllowed ? 'block' : 'none';\n",
              "\n",
              "        async function convertToInteractive(key) {\n",
              "          const element = document.querySelector('#df-e451ffbe-2431-472f-a08f-2bb64b200120');\n",
              "          const dataTable =\n",
              "            await google.colab.kernel.invokeFunction('convertToInteractive',\n",
              "                                                     [key], {});\n",
              "          if (!dataTable) return;\n",
              "\n",
              "          const docLinkHtml = 'Like what you see? Visit the ' +\n",
              "            '<a target=\"_blank\" href=https://colab.research.google.com/notebooks/data_table.ipynb>data table notebook</a>'\n",
              "            + ' to learn more about interactive tables.';\n",
              "          element.innerHTML = '';\n",
              "          dataTable['output_type'] = 'display_data';\n",
              "          await google.colab.output.renderOutput(dataTable, element);\n",
              "          const docLink = document.createElement('div');\n",
              "          docLink.innerHTML = docLinkHtml;\n",
              "          element.appendChild(docLink);\n",
              "        }\n",
              "      </script>\n",
              "    </div>\n",
              "  </div>\n",
              "  "
            ]
          },
          "metadata": {}
        },
        {
          "output_type": "stream",
          "name": "stdout",
          "text": [
            "(54263, 2)\n"
          ]
        }
      ]
    },
    {
      "cell_type": "markdown",
      "source": [
        "Next, we will have to map each GE_indices to it's corresponding emotion in the emotions.txt file\n",
        "\n",
        "For that, let's first convert these GE_indices into a list of indices which we will then map to the emotions.txt file and extract the emotion labels from the file"
      ],
      "metadata": {
        "id": "YQN_kry62DyE"
      }
    },
    {
      "cell_type": "code",
      "source": [
        "# We will use a lambda function here to make things easier\n",
        "#df_all['GE_indices'] = df_all['GE_indices'].apply(lambda x: x.split(','))"
      ],
      "metadata": {
        "id": "Oeod5_DR2bVi"
      },
      "execution_count": null,
      "outputs": []
    },
    {
      "cell_type": "code",
      "source": [
        "# Viewing the data for results\n",
        "print(df_all.head)"
      ],
      "metadata": {
        "id": "mp6oC2u92nN4",
        "colab": {
          "base_uri": "https://localhost:8080/"
        },
        "outputId": "71c86c32-78c1-4f2d-ef32-3c56b6776a2b"
      },
      "execution_count": null,
      "outputs": [
        {
          "output_type": "stream",
          "name": "stdout",
          "text": [
            "<bound method NDFrame.head of                                                     Text GE_indices\n",
            "0      My favourite food is anything I didn't have to...         27\n",
            "1      Now if he does off himself, everyone will thin...         27\n",
            "2                         WHY THE FUCK IS BAYLESS ISOING          2\n",
            "3                            To make her feel threatened         14\n",
            "4                                 Dirty Southern Wankers          3\n",
            "...                                                  ...        ...\n",
            "54258  Thanks. I was diagnosed with BP 1 after the ho...         15\n",
            "54259                             Well that makes sense.          4\n",
            "54260                                Daddy issues [NAME]         27\n",
            "54261  So glad I discovered that subreddit a couple m...          0\n",
            "54262  Had to watch \"Elmo in Grouchland\" one time too...         27\n",
            "\n",
            "[54263 rows x 2 columns]>\n"
          ]
        }
      ]
    },
    {
      "cell_type": "markdown",
      "source": [
        "Next steps:\n",
        "1. Determine which emotions we want \n",
        "2. Drop accordingly\n",
        "3. Tokenization\n",
        "4. Embedding\n",
        "5. Vectorization\n",
        "6. Models building "
      ],
      "metadata": {
        "id": "svvIA4jx1msX"
      }
    },
    {
      "cell_type": "code",
      "source": [
        "df_all.isnull().sum() "
      ],
      "metadata": {
        "id": "lgA59yV2qP2o",
        "colab": {
          "base_uri": "https://localhost:8080/"
        },
        "outputId": "aef7eedd-6c97-46e7-e63a-d74fd42f4021"
      },
      "execution_count": null,
      "outputs": [
        {
          "output_type": "execute_result",
          "data": {
            "text/plain": [
              "Text          0\n",
              "GE_indices    0\n",
              "dtype: int64"
            ]
          },
          "metadata": {},
          "execution_count": 16
        }
      ]
    },
    {
      "cell_type": "code",
      "source": [
        "df_all"
      ],
      "metadata": {
        "id": "8x04O6GyqwkT",
        "colab": {
          "base_uri": "https://localhost:8080/",
          "height": 423
        },
        "outputId": "c50fffec-2449-49da-9803-927f083773af"
      },
      "execution_count": null,
      "outputs": [
        {
          "output_type": "execute_result",
          "data": {
            "text/plain": [
              "                                                    Text GE_indices\n",
              "0      My favourite food is anything I didn't have to...         27\n",
              "1      Now if he does off himself, everyone will thin...         27\n",
              "2                         WHY THE FUCK IS BAYLESS ISOING          2\n",
              "3                            To make her feel threatened         14\n",
              "4                                 Dirty Southern Wankers          3\n",
              "...                                                  ...        ...\n",
              "54258  Thanks. I was diagnosed with BP 1 after the ho...         15\n",
              "54259                             Well that makes sense.          4\n",
              "54260                                Daddy issues [NAME]         27\n",
              "54261  So glad I discovered that subreddit a couple m...          0\n",
              "54262  Had to watch \"Elmo in Grouchland\" one time too...         27\n",
              "\n",
              "[54263 rows x 2 columns]"
            ],
            "text/html": [
              "\n",
              "  <div id=\"df-43af0cd5-9996-4ffa-8a74-98a5e72147b2\">\n",
              "    <div class=\"colab-df-container\">\n",
              "      <div>\n",
              "<style scoped>\n",
              "    .dataframe tbody tr th:only-of-type {\n",
              "        vertical-align: middle;\n",
              "    }\n",
              "\n",
              "    .dataframe tbody tr th {\n",
              "        vertical-align: top;\n",
              "    }\n",
              "\n",
              "    .dataframe thead th {\n",
              "        text-align: right;\n",
              "    }\n",
              "</style>\n",
              "<table border=\"1\" class=\"dataframe\">\n",
              "  <thead>\n",
              "    <tr style=\"text-align: right;\">\n",
              "      <th></th>\n",
              "      <th>Text</th>\n",
              "      <th>GE_indices</th>\n",
              "    </tr>\n",
              "  </thead>\n",
              "  <tbody>\n",
              "    <tr>\n",
              "      <th>0</th>\n",
              "      <td>My favourite food is anything I didn't have to...</td>\n",
              "      <td>27</td>\n",
              "    </tr>\n",
              "    <tr>\n",
              "      <th>1</th>\n",
              "      <td>Now if he does off himself, everyone will thin...</td>\n",
              "      <td>27</td>\n",
              "    </tr>\n",
              "    <tr>\n",
              "      <th>2</th>\n",
              "      <td>WHY THE FUCK IS BAYLESS ISOING</td>\n",
              "      <td>2</td>\n",
              "    </tr>\n",
              "    <tr>\n",
              "      <th>3</th>\n",
              "      <td>To make her feel threatened</td>\n",
              "      <td>14</td>\n",
              "    </tr>\n",
              "    <tr>\n",
              "      <th>4</th>\n",
              "      <td>Dirty Southern Wankers</td>\n",
              "      <td>3</td>\n",
              "    </tr>\n",
              "    <tr>\n",
              "      <th>...</th>\n",
              "      <td>...</td>\n",
              "      <td>...</td>\n",
              "    </tr>\n",
              "    <tr>\n",
              "      <th>54258</th>\n",
              "      <td>Thanks. I was diagnosed with BP 1 after the ho...</td>\n",
              "      <td>15</td>\n",
              "    </tr>\n",
              "    <tr>\n",
              "      <th>54259</th>\n",
              "      <td>Well that makes sense.</td>\n",
              "      <td>4</td>\n",
              "    </tr>\n",
              "    <tr>\n",
              "      <th>54260</th>\n",
              "      <td>Daddy issues [NAME]</td>\n",
              "      <td>27</td>\n",
              "    </tr>\n",
              "    <tr>\n",
              "      <th>54261</th>\n",
              "      <td>So glad I discovered that subreddit a couple m...</td>\n",
              "      <td>0</td>\n",
              "    </tr>\n",
              "    <tr>\n",
              "      <th>54262</th>\n",
              "      <td>Had to watch \"Elmo in Grouchland\" one time too...</td>\n",
              "      <td>27</td>\n",
              "    </tr>\n",
              "  </tbody>\n",
              "</table>\n",
              "<p>54263 rows × 2 columns</p>\n",
              "</div>\n",
              "      <button class=\"colab-df-convert\" onclick=\"convertToInteractive('df-43af0cd5-9996-4ffa-8a74-98a5e72147b2')\"\n",
              "              title=\"Convert this dataframe to an interactive table.\"\n",
              "              style=\"display:none;\">\n",
              "        \n",
              "  <svg xmlns=\"http://www.w3.org/2000/svg\" height=\"24px\"viewBox=\"0 0 24 24\"\n",
              "       width=\"24px\">\n",
              "    <path d=\"M0 0h24v24H0V0z\" fill=\"none\"/>\n",
              "    <path d=\"M18.56 5.44l.94 2.06.94-2.06 2.06-.94-2.06-.94-.94-2.06-.94 2.06-2.06.94zm-11 1L8.5 8.5l.94-2.06 2.06-.94-2.06-.94L8.5 2.5l-.94 2.06-2.06.94zm10 10l.94 2.06.94-2.06 2.06-.94-2.06-.94-.94-2.06-.94 2.06-2.06.94z\"/><path d=\"M17.41 7.96l-1.37-1.37c-.4-.4-.92-.59-1.43-.59-.52 0-1.04.2-1.43.59L10.3 9.45l-7.72 7.72c-.78.78-.78 2.05 0 2.83L4 21.41c.39.39.9.59 1.41.59.51 0 1.02-.2 1.41-.59l7.78-7.78 2.81-2.81c.8-.78.8-2.07 0-2.86zM5.41 20L4 18.59l7.72-7.72 1.47 1.35L5.41 20z\"/>\n",
              "  </svg>\n",
              "      </button>\n",
              "      \n",
              "  <style>\n",
              "    .colab-df-container {\n",
              "      display:flex;\n",
              "      flex-wrap:wrap;\n",
              "      gap: 12px;\n",
              "    }\n",
              "\n",
              "    .colab-df-convert {\n",
              "      background-color: #E8F0FE;\n",
              "      border: none;\n",
              "      border-radius: 50%;\n",
              "      cursor: pointer;\n",
              "      display: none;\n",
              "      fill: #1967D2;\n",
              "      height: 32px;\n",
              "      padding: 0 0 0 0;\n",
              "      width: 32px;\n",
              "    }\n",
              "\n",
              "    .colab-df-convert:hover {\n",
              "      background-color: #E2EBFA;\n",
              "      box-shadow: 0px 1px 2px rgba(60, 64, 67, 0.3), 0px 1px 3px 1px rgba(60, 64, 67, 0.15);\n",
              "      fill: #174EA6;\n",
              "    }\n",
              "\n",
              "    [theme=dark] .colab-df-convert {\n",
              "      background-color: #3B4455;\n",
              "      fill: #D2E3FC;\n",
              "    }\n",
              "\n",
              "    [theme=dark] .colab-df-convert:hover {\n",
              "      background-color: #434B5C;\n",
              "      box-shadow: 0px 1px 3px 1px rgba(0, 0, 0, 0.15);\n",
              "      filter: drop-shadow(0px 1px 2px rgba(0, 0, 0, 0.3));\n",
              "      fill: #FFFFFF;\n",
              "    }\n",
              "  </style>\n",
              "\n",
              "      <script>\n",
              "        const buttonEl =\n",
              "          document.querySelector('#df-43af0cd5-9996-4ffa-8a74-98a5e72147b2 button.colab-df-convert');\n",
              "        buttonEl.style.display =\n",
              "          google.colab.kernel.accessAllowed ? 'block' : 'none';\n",
              "\n",
              "        async function convertToInteractive(key) {\n",
              "          const element = document.querySelector('#df-43af0cd5-9996-4ffa-8a74-98a5e72147b2');\n",
              "          const dataTable =\n",
              "            await google.colab.kernel.invokeFunction('convertToInteractive',\n",
              "                                                     [key], {});\n",
              "          if (!dataTable) return;\n",
              "\n",
              "          const docLinkHtml = 'Like what you see? Visit the ' +\n",
              "            '<a target=\"_blank\" href=https://colab.research.google.com/notebooks/data_table.ipynb>data table notebook</a>'\n",
              "            + ' to learn more about interactive tables.';\n",
              "          element.innerHTML = '';\n",
              "          dataTable['output_type'] = 'display_data';\n",
              "          await google.colab.output.renderOutput(dataTable, element);\n",
              "          const docLink = document.createElement('div');\n",
              "          docLink.innerHTML = docLinkHtml;\n",
              "          element.appendChild(docLink);\n",
              "        }\n",
              "      </script>\n",
              "    </div>\n",
              "  </div>\n",
              "  "
            ]
          },
          "metadata": {},
          "execution_count": 17
        }
      ]
    },
    {
      "cell_type": "markdown",
      "source": [
        "Dropping the un required emotions "
      ],
      "metadata": {
        "id": "VYUpoqk8sFO6"
      }
    },
    {
      "cell_type": "code",
      "source": [
        "j=['0','1','3','4','5','6','7','8','9','10','11','12','13','15','16','18','19','20','21','22','23','24','26','27']"
      ],
      "metadata": {
        "id": "9XCVR6z-FLsx"
      },
      "execution_count": null,
      "outputs": []
    },
    {
      "cell_type": "code",
      "source": [
        "df_final2 = pd.DataFrame()\n",
        "emotions_selected=['2','14','17','25']#\n",
        "\n",
        "for i in range(2):\n",
        "   df_final2=df_final2.append(df_all.loc[df_all['GE_indices'] == emotions_selected[i]])\n",
        "   print(emotions_selected[i])\n",
        "   \n",
        "print (df_final2)"
      ],
      "metadata": {
        "id": "H9LwbFy2CfB2",
        "colab": {
          "base_uri": "https://localhost:8080/"
        },
        "outputId": "990d8b2a-9f47-485d-ae94-347408a5b5df"
      },
      "execution_count": null,
      "outputs": [
        {
          "output_type": "stream",
          "name": "stdout",
          "text": [
            "2\n",
            "14\n",
            "                                                    Text GE_indices\n",
            "2                         WHY THE FUCK IS BAYLESS ISOING          2\n",
            "17                                       Fucking coward.          2\n",
            "25                 Stupidly stubborn / stubbornly stupid          2\n",
            "30     Troll, bro. They know they're saying stupid sh...          2\n",
            "116                                  The fuck is “mog?!”          2\n",
            "...                                                  ...        ...\n",
            "53704  I want to so bad it hurts. I guess I'm just sc...         14\n",
            "53712              Help, I'm scared and want to go back.         14\n",
            "53798      I was in awe the whole hour I spent in there.         14\n",
            "53906                         So. This is scary as fuck.         14\n",
            "53911  And that smilie she gave the fiancé when he sa...         14\n",
            "\n",
            "[1818 rows x 2 columns]\n"
          ]
        }
      ]
    },
    {
      "cell_type": "code",
      "source": [
        "df_final2.GE_indices.value_counts()"
      ],
      "metadata": {
        "id": "wVHBtj5hEUKq",
        "colab": {
          "base_uri": "https://localhost:8080/"
        },
        "outputId": "54e9a68c-5132-45e7-f9a1-95c476020516"
      },
      "execution_count": null,
      "outputs": [
        {
          "output_type": "execute_result",
          "data": {
            "text/plain": [
              "2     1265\n",
              "14     553\n",
              "Name: GE_indices, dtype: int64"
            ]
          },
          "metadata": {},
          "execution_count": 20
        }
      ]
    },
    {
      "cell_type": "code",
      "source": [
        "X = df_final2.iloc[:, 0].values \n",
        "Y = df_final2.iloc[:, 1].values "
      ],
      "metadata": {
        "id": "xrAf6vrBqzYa"
      },
      "execution_count": null,
      "outputs": []
    },
    {
      "cell_type": "code",
      "source": [
        "X"
      ],
      "metadata": {
        "id": "gQWR8N_IrsNZ",
        "colab": {
          "base_uri": "https://localhost:8080/"
        },
        "outputId": "8248bc33-eaf5-41a5-8754-7963f1651826"
      },
      "execution_count": null,
      "outputs": [
        {
          "output_type": "execute_result",
          "data": {
            "text/plain": [
              "array(['WHY THE FUCK IS BAYLESS ISOING', 'Fucking coward.',\n",
              "       'Stupidly stubborn / stubbornly stupid', ...,\n",
              "       'I was in awe the whole hour I spent in there.',\n",
              "       'So. This is scary as fuck.',\n",
              "       'And that smilie she gave the fiancé when he sat down with the sandwich....I would be scared if I was him.'],\n",
              "      dtype=object)"
            ]
          },
          "metadata": {},
          "execution_count": 22
        }
      ]
    },
    {
      "cell_type": "code",
      "source": [
        "Y"
      ],
      "metadata": {
        "id": "uPyhSpk-rssY",
        "colab": {
          "base_uri": "https://localhost:8080/"
        },
        "outputId": "c64ac9a7-0e6e-4222-89b8-2e694b9ced9b"
      },
      "execution_count": null,
      "outputs": [
        {
          "output_type": "execute_result",
          "data": {
            "text/plain": [
              "array(['2', '2', '2', ..., '14', '14', '14'], dtype=object)"
            ]
          },
          "metadata": {},
          "execution_count": 23
        }
      ]
    },
    {
      "cell_type": "code",
      "source": [
        "print(X.shape)\n",
        "print(Y.shape)"
      ],
      "metadata": {
        "id": "N6wTKkV_ruIQ",
        "colab": {
          "base_uri": "https://localhost:8080/"
        },
        "outputId": "4853d87d-78c2-4a3c-e054-6bde62ab9acd"
      },
      "execution_count": null,
      "outputs": [
        {
          "output_type": "stream",
          "name": "stdout",
          "text": [
            "(1818,)\n",
            "(1818,)\n"
          ]
        }
      ]
    },
    {
      "cell_type": "markdown",
      "source": [
        "###Split data  into training and validation sets\n"
      ],
      "metadata": {
        "id": "IgZZYenaIhId"
      }
    },
    {
      "cell_type": "code",
      "source": [
        "from sklearn.model_selection import train_test_split"
      ],
      "metadata": {
        "id": "ZaCoR_aZIf34"
      },
      "execution_count": null,
      "outputs": []
    },
    {
      "cell_type": "code",
      "source": [
        "train_sentences, val_sentences, train_labels, val_labels= train_test_split(X,\n",
        "                                                                           Y,\n",
        "                                                                           test_size=0.1,#use 20%of training data for validation\n",
        "                                                                           random_state=42)"
      ],
      "metadata": {
        "id": "QQOCuyf4Io9R"
      },
      "execution_count": null,
      "outputs": []
    },
    {
      "cell_type": "code",
      "source": [
        "len(train_sentences),len(train_labels),len(val_sentences), len(val_labels)"
      ],
      "metadata": {
        "id": "UoIcyuqPI_5h",
        "colab": {
          "base_uri": "https://localhost:8080/"
        },
        "outputId": "b1604a79-df2e-4aa6-9e33-740e71ff928c"
      },
      "execution_count": null,
      "outputs": [
        {
          "output_type": "execute_result",
          "data": {
            "text/plain": [
              "(1636, 1636, 182, 182)"
            ]
          },
          "metadata": {},
          "execution_count": 27
        }
      ]
    },
    {
      "cell_type": "code",
      "source": [
        "#checking the samples\n",
        "train_sentences[:10], train_labels[:10]"
      ],
      "metadata": {
        "id": "GZOaWdwyJDlq",
        "colab": {
          "base_uri": "https://localhost:8080/"
        },
        "outputId": "e8e847c2-42bc-4e33-8462-a98ea51933a1"
      },
      "execution_count": null,
      "outputs": [
        {
          "output_type": "execute_result",
          "data": {
            "text/plain": [
              "(array([\"I'm too scared to start Black Mirror because it honestly seems like we might not be that far off from some of it.\",\n",
              "        \"I'm just here to say fuck [NAME]\",\n",
              "        'Oh fuuuuuuuuuuuuuuuuuuuuuuuuuuuuuuuuuuuuuuuuuuuuuuuuuuuuuuuuuuuuuuuuuuuuuuuuck RIGHT OFF!!!!!',\n",
              "        'Horribly fake. People on that thread are stupid and gullible.',\n",
              "        '“I’ll never have a playoff mandate” go fuck yourself [NAME]',\n",
              "        '\"If you don\\'t support no go zones, you are racist!\"',\n",
              "        'Damn! You were so close! Scary. Damn damn!',\n",
              "        \"Damnit Morty! D'you see wha-rrrgh-t you've done!? We're fucked Morty, the squirrels - they're recruiting dolphins now Morty. \",\n",
              "        'I’m tryin to make the community better and bring this to peoples attention he’s a filthy cheater',\n",
              "        'That shit sent me on a fucking journey to read.'], dtype=object),\n",
              " array(['14', '2', '2', '2', '2', '2', '14', '2', '2', '2'], dtype=object))"
            ]
          },
          "metadata": {},
          "execution_count": 28
        }
      ]
    },
    {
      "cell_type": "markdown",
      "source": [
        "##converting text to numbers \n",
        "When dealing with text we needd to convert it into numbers\n",
        "\n",
        "there are a few ways to do this \n",
        "* Tokenisation- direct mapping of token(a token could be word or a character) to number \n",
        "* Embedding - create a matrix of feature vector for each token (size of the feature vector can be defined and this embedding can be learned)"
      ],
      "metadata": {
        "id": "0MldYtu9JN5M"
      }
    },
    {
      "cell_type": "code",
      "source": [
        "import tensorflow as tf\n",
        "from tensorflow.keras.layers.experimental.preprocessing import TextVectorization"
      ],
      "metadata": {
        "id": "DSZOoNyXJMp3"
      },
      "execution_count": null,
      "outputs": []
    },
    {
      "cell_type": "code",
      "source": [
        "!pipinstall tensorflow===2.10.0 "
      ],
      "metadata": {
        "id": "I0YlgftPJT-X",
        "colab": {
          "base_uri": "https://localhost:8080/"
        },
        "outputId": "8b881640-a299-4454-ddd6-a6607ad110ca"
      },
      "execution_count": null,
      "outputs": [
        {
          "output_type": "stream",
          "name": "stdout",
          "text": [
            "/bin/bash: pipinstall: command not found\n"
          ]
        }
      ]
    },
    {
      "cell_type": "code",
      "source": [
        "#using default textvectorization parameters\n",
        "text_vectorizer = TextVectorization(max_tokens=None, # how many words in the vocabulary (all of the different words in your text)\n",
        "                                    standardize=\"lower_and_strip_punctuation\", # how to process text\n",
        "                                    split=\"whitespace\", # how to split tokens\n",
        "                                    ngrams=None, # create groups of n-words?\n",
        "                                    output_mode=\"int\", # how to map tokens to numbers\n",
        "                                    output_sequence_length=None) # how long should the output sequence of tokens be?\n",
        "                                    # pad_to_max_tokens=True)9"
      ],
      "metadata": {
        "id": "YgZR8gYAJY-d"
      },
      "execution_count": null,
      "outputs": []
    },
    {
      "cell_type": "code",
      "source": [
        "#find the average num of tokens in the training tweets\n",
        "round(sum([len(i.split())for i in train_sentences ])/len(train_sentences))"
      ],
      "metadata": {
        "id": "8V5Aif3TJcLa",
        "colab": {
          "base_uri": "https://localhost:8080/"
        },
        "outputId": "4f5c325f-058f-4bdd-b239-504c06f26964"
      },
      "execution_count": null,
      "outputs": [
        {
          "output_type": "execute_result",
          "data": {
            "text/plain": [
              "12"
            ]
          },
          "metadata": {},
          "execution_count": 32
        }
      ]
    },
    {
      "cell_type": "code",
      "source": [
        "#setup text vectorization variables\n",
        "max_vocab_length=10000 # max num of words to have in our vocabulary\n",
        "max_length= 15 #max length our sequences will be (eg how many words from a tweet does a model need to see)\\\n",
        "\n",
        "text_vectorizer=TextVectorization(max_tokens=max_vocab_length,\n",
        "                                  output_mode=\"int\",\n",
        "                                  output_sequence_length=max_length)"
      ],
      "metadata": {
        "id": "sSYRWNHlJfPw"
      },
      "execution_count": null,
      "outputs": []
    },
    {
      "cell_type": "code",
      "source": [
        "#fit the text vecctorizer to the training text\n",
        "text_vectorizer.adapt(train_sentences)"
      ],
      "metadata": {
        "id": "2dEluDqqJg0w"
      },
      "execution_count": null,
      "outputs": []
    },
    {
      "cell_type": "code",
      "source": [
        "sample_sentence=\"Wow we are finally implenting! aren't we great\"\n",
        "text_vectorizer([sample_sentence])"
      ],
      "metadata": {
        "id": "4L-Ap2SLJiZV",
        "colab": {
          "base_uri": "https://localhost:8080/"
        },
        "outputId": "290a880f-3de8-459e-f67e-36d0e72f0fa5"
      },
      "execution_count": null,
      "outputs": [
        {
          "output_type": "execute_result",
          "data": {
            "text/plain": [
              "<tf.Tensor: shape=(1, 15), dtype=int64, numpy=\n",
              "array([[ 271,   68,   17, 3018,    1, 1387,   68,  397,    0,    0,    0,\n",
              "           0,    0,    0,    0]])>"
            ]
          },
          "metadata": {},
          "execution_count": 35
        }
      ]
    },
    {
      "cell_type": "code",
      "source": [
        "import random \n",
        "random_sentence=random.choice(train_sentences)\n",
        "print(f\"Original text; \\n {random_sentence}\\\n",
        "        \\n\\n Vectorized version:\")\n",
        "text_vectorizer([random_sentence])"
      ],
      "metadata": {
        "id": "XfhHhqPpJk_z",
        "colab": {
          "base_uri": "https://localhost:8080/"
        },
        "outputId": "01baec17-9774-4d6f-c28f-fcb0906ee570"
      },
      "execution_count": null,
      "outputs": [
        {
          "output_type": "stream",
          "name": "stdout",
          "text": [
            "Original text; \n",
            " It's seriously terrifying!        \n",
            "\n",
            " Vectorized version:\n"
          ]
        },
        {
          "output_type": "execute_result",
          "data": {
            "text/plain": [
              "<tf.Tensor: shape=(1, 15), dtype=int64, numpy=\n",
              "array([[ 31, 374, 114,   0,   0,   0,   0,   0,   0,   0,   0,   0,   0,\n",
              "          0,   0]])>"
            ]
          },
          "metadata": {},
          "execution_count": 36
        }
      ]
    },
    {
      "cell_type": "code",
      "source": [
        "# Get the unique words in vocabulary\n",
        "words_in_vocab= text_vectorizer.get_vocabulary()\n",
        "top_5_words= words_in_vocab[:5]#get 5 most common\n",
        "bottom_5_words= words_in_vocab[-5:]#get 5 least common\n",
        "print(f\"Number of words in vocab:{len(words_in_vocab)}\")\n",
        "print(f\"5 most common words in vocab:{top_5_words}\")\n",
        "print(f\"5 most least words in vocab:{bottom_5_words}\")"
      ],
      "metadata": {
        "id": "hyO6A9MrJn4r",
        "colab": {
          "base_uri": "https://localhost:8080/"
        },
        "outputId": "7fffe876-0f8f-4961-8ef0-2f08a8b4940a"
      },
      "execution_count": null,
      "outputs": [
        {
          "output_type": "stream",
          "name": "stdout",
          "text": [
            "Number of words in vocab:3894\n",
            "5 most common words in vocab:['', '[UNK]', 'the', 'i', 'to']\n",
            "5 most least words in vocab:['1544', '12', '110', '000001', '0']\n"
          ]
        }
      ]
    },
    {
      "cell_type": "markdown",
      "source": [
        "##Creating embedding layer\n",
        "using tensors flows embeding layer"
      ],
      "metadata": {
        "id": "1y1U2w2EJxNt"
      }
    },
    {
      "cell_type": "code",
      "source": [
        "tf.random.set_seed(42)\n",
        "from tensorflow.keras import layers\n",
        "\n",
        "embedding = layers.Embedding(input_dim=max_vocab_length, # set input shape\n",
        "                             output_dim=128, # set size of embedding vector\n",
        "                             embeddings_initializer=\"uniform\", # default, intialize randomly\n",
        "                             input_length=max_length, # how long is each input\n",
        "                             name=\"embedding_1\") \n",
        "\n",
        "embedding"
      ],
      "metadata": {
        "id": "a2uHi5yvJsuY",
        "colab": {
          "base_uri": "https://localhost:8080/"
        },
        "outputId": "15ec8f20-4424-45b4-b4d9-1fd681803eac"
      },
      "execution_count": null,
      "outputs": [
        {
          "output_type": "execute_result",
          "data": {
            "text/plain": [
              "<keras.layers.core.embedding.Embedding at 0x7fa4d451e400>"
            ]
          },
          "metadata": {},
          "execution_count": 38
        }
      ]
    },
    {
      "cell_type": "code",
      "source": [
        "# Get a random sentence from training set\n",
        "random_sentence = random.choice(train_sentences)\n",
        "print(f\"Original text:\\n{random_sentence}\\\n",
        "      \\n\\nEmbedded version:\")\n",
        "\n",
        "# Embed the random sentence (turn it into numerical representation)\n",
        "sample_embed = embedding(text_vectorizer([random_sentence]))\n",
        "sample_embed"
      ],
      "metadata": {
        "id": "b--dNAKTJ7Di",
        "colab": {
          "base_uri": "https://localhost:8080/"
        },
        "outputId": "0ca8bcec-e69d-4cd7-f3ce-6a50a5e30c16"
      },
      "execution_count": null,
      "outputs": [
        {
          "output_type": "stream",
          "name": "stdout",
          "text": [
            "Original text:\n",
            "What a fucking cunt      \n",
            "\n",
            "Embedded version:\n"
          ]
        },
        {
          "output_type": "execute_result",
          "data": {
            "text/plain": [
              "<tf.Tensor: shape=(1, 15, 128), dtype=float32, numpy=\n",
              "array([[[ 0.0448054 , -0.01527903,  0.01050089, ..., -0.00633466,\n",
              "         -0.02991489,  0.03590311],\n",
              "        [-0.02057933,  0.02016742, -0.0420413 , ..., -0.01454222,\n",
              "         -0.04487408,  0.02875707],\n",
              "        [ 0.03224242, -0.01892673, -0.01147227, ..., -0.04037922,\n",
              "         -0.02007686, -0.01924112],\n",
              "        ...,\n",
              "        [ 0.02513473,  0.02058618,  0.02851036, ..., -0.03568902,\n",
              "         -0.02116853,  0.03417419],\n",
              "        [ 0.02513473,  0.02058618,  0.02851036, ..., -0.03568902,\n",
              "         -0.02116853,  0.03417419],\n",
              "        [ 0.02513473,  0.02058618,  0.02851036, ..., -0.03568902,\n",
              "         -0.02116853,  0.03417419]]], dtype=float32)>"
            ]
          },
          "metadata": {},
          "execution_count": 39
        }
      ]
    },
    {
      "cell_type": "code",
      "source": [
        "# Check out a single token's embedding\n",
        "sample_embed[0][0], sample_embed[0][0].shape, random_sentence[0]"
      ],
      "metadata": {
        "id": "zIY0ka-PJ9YO",
        "colab": {
          "base_uri": "https://localhost:8080/"
        },
        "outputId": "5272e6ba-b2b4-4422-a977-571a87071f9a"
      },
      "execution_count": null,
      "outputs": [
        {
          "output_type": "execute_result",
          "data": {
            "text/plain": [
              "(<tf.Tensor: shape=(128,), dtype=float32, numpy=\n",
              " array([ 0.0448054 , -0.01527903,  0.01050089,  0.02390187, -0.02201997,\n",
              "         0.04493973,  0.02496029, -0.02187477, -0.02750609, -0.043487  ,\n",
              "         0.01763215, -0.02436404, -0.03524753, -0.02605917, -0.02729508,\n",
              "         0.02104377,  0.04736134,  0.04515475, -0.01727227,  0.01507251,\n",
              "         0.03535784, -0.03822851,  0.03264714,  0.01497247,  0.04675004,\n",
              "         0.02661511,  0.01768956,  0.03763409, -0.01566624,  0.02142033,\n",
              "         0.03983885,  0.03239734,  0.04113293, -0.00839673, -0.04009938,\n",
              "        -0.0310861 , -0.01998698,  0.01996169,  0.00977927, -0.04006752,\n",
              "         0.021828  , -0.00339561,  0.02623048,  0.01244136,  0.02853105,\n",
              "         0.02868935, -0.0448369 ,  0.04372061,  0.00342617, -0.01962786,\n",
              "         0.0154042 , -0.04088682,  0.04137473,  0.00599603, -0.03956407,\n",
              "        -0.02430141,  0.0103771 , -0.00023901,  0.01570979, -0.01689883,\n",
              "        -0.01981938,  0.0310279 , -0.04277269, -0.01925403,  0.04875319,\n",
              "         0.01901046, -0.01178789,  0.03310062, -0.00087481, -0.02404215,\n",
              "        -0.00223814,  0.04539374, -0.00217342, -0.04738579, -0.04199091,\n",
              "         0.03563121,  0.01402796,  0.00267415,  0.00386174,  0.03012698,\n",
              "         0.01611104,  0.0480351 ,  0.03725209,  0.02401178, -0.0216929 ,\n",
              "        -0.02897379,  0.02580336, -0.04834435, -0.00988736,  0.04565518,\n",
              "        -0.00022615,  0.03541061, -0.01353458,  0.01140745, -0.00467861,\n",
              "         0.03291783,  0.0383343 ,  0.04435742,  0.03322388,  0.03313568,\n",
              "         0.01738367,  0.0014495 , -0.03219961, -0.03826012, -0.03093715,\n",
              "        -0.03273986,  0.02287844,  0.04905519,  0.01101321, -0.0279564 ,\n",
              "         0.03412156, -0.04708241, -0.04420478,  0.04004917,  0.04523006,\n",
              "        -0.02900312, -0.02066093,  0.00170662, -0.04853339,  0.01441523,\n",
              "        -0.00686277,  0.01654707, -0.00257152, -0.03328581, -0.00666799,\n",
              "        -0.00633466, -0.02991489,  0.03590311], dtype=float32)>,\n",
              " TensorShape([128]),\n",
              " 'W')"
            ]
          },
          "metadata": {},
          "execution_count": 40
        }
      ]
    },
    {
      "cell_type": "markdown",
      "source": [
        "###Modelling a text dataset (running a series of experiements )"
      ],
      "metadata": {
        "id": "Zfdl3k07KMx8"
      }
    },
    {
      "cell_type": "markdown",
      "source": [
        "##Model 0: Naive Bayes (baseline)\n",
        "As with all machine learning modelling experiments, it's important to create a baseline model so you've got a benchmark for future experiments to build upon.\n",
        "\n",
        "To create our baseline, we'll use Sklearn's Multinomial Naive Bayes using the TF-IDF formula to convert our words to numbers."
      ],
      "metadata": {
        "id": "jaT7gK45KNaI"
      }
    },
    {
      "cell_type": "code",
      "source": [
        "from sklearn.feature_extraction.text import TfidfVectorizer #will turn our text into numbers\n",
        "from sklearn.naive_bayes import MultinomialNB \n",
        "from sklearn.pipeline import Pipeline #pipeline signifies doing all the operations in ordere\n",
        "\n",
        "# Create tokenization and modelling pipeline\n",
        "model_0 = Pipeline([\n",
        "                    (\"tfidf\", TfidfVectorizer()), # convert words to numbers using tfidf\n",
        "                    (\"clf\", MultinomialNB()) # model the text\n",
        "])\n",
        "\n",
        "# Fit the pipeline to the training data\n",
        "model_0.fit(train_sentences, train_labels)"
      ],
      "metadata": {
        "id": "D5EklqUiKPWL",
        "colab": {
          "base_uri": "https://localhost:8080/"
        },
        "outputId": "2b1aaff9-11f4-481d-a1b9-57b877c39bf4"
      },
      "execution_count": null,
      "outputs": [
        {
          "output_type": "execute_result",
          "data": {
            "text/plain": [
              "Pipeline(steps=[('tfidf', TfidfVectorizer()), ('clf', MultinomialNB())])"
            ]
          },
          "metadata": {},
          "execution_count": 41
        }
      ]
    },
    {
      "cell_type": "code",
      "source": [
        "baseline_score = model_0.score(val_sentences, val_labels)\n",
        "print(f\"Our baseline model achieves an accuracy of: {baseline_score*100:.2f}%\")"
      ],
      "metadata": {
        "id": "302IQwDJKRWv",
        "colab": {
          "base_uri": "https://localhost:8080/"
        },
        "outputId": "acbddab1-edec-48d1-f99a-a1041e2751bf"
      },
      "execution_count": null,
      "outputs": [
        {
          "output_type": "stream",
          "name": "stdout",
          "text": [
            "Our baseline model achieves an accuracy of: 79.12%\n"
          ]
        }
      ]
    },
    {
      "cell_type": "code",
      "source": [
        "baseline_preds = model_0.predict(val_sentences)\n",
        "baseline_preds[:20]"
      ],
      "metadata": {
        "id": "SDHCY9PpKT2T",
        "colab": {
          "base_uri": "https://localhost:8080/"
        },
        "outputId": "027a6749-f820-48df-c7c8-666a37f52307"
      },
      "execution_count": null,
      "outputs": [
        {
          "output_type": "execute_result",
          "data": {
            "text/plain": [
              "array(['14', '2', '2', '2', '2', '14', '2', '2', '2', '2', '2', '2', '2',\n",
              "       '2', '2', '2', '2', '2', '2', '2'], dtype='<U2')"
            ]
          },
          "metadata": {},
          "execution_count": 43
        }
      ]
    },
    {
      "cell_type": "code",
      "source": [
        "train_labels"
      ],
      "metadata": {
        "id": "Hn3lUeXnKVc5",
        "colab": {
          "base_uri": "https://localhost:8080/"
        },
        "outputId": "84086d2c-3f72-478d-8a17-9cfcc49254ac"
      },
      "execution_count": null,
      "outputs": [
        {
          "output_type": "execute_result",
          "data": {
            "text/plain": [
              "array(['14', '2', '2', ..., '2', '14', '2'], dtype=object)"
            ]
          },
          "metadata": {},
          "execution_count": 44
        }
      ]
    },
    {
      "cell_type": "markdown",
      "source": [
        "### Creating an evaluation function for our model experiments\n",
        "\n",
        "We can evaluate all of our model's predictions with different metrics every single time, but that will become very cumbersome.\n",
        "\n",
        "For this, we will create a function.\n",
        "\n",
        "Let's create one to compare our model's predictions with the truth labels using the following metrics: accuracy, precision, recall, f1 score"
      ],
      "metadata": {
        "id": "NrNZ1xKeKkau"
      }
    },
    {
      "cell_type": "code",
      "source": [
        "# Function to evaluate: accuracy, precision, recall, f1 score\n",
        "\n",
        "from sklearn.metrics import accuracy_score, precision_recall_fscore_support\n",
        "\n",
        "def calculate_results(y_true, y_pred):\n",
        "  \"\"\"\n",
        "  Calculates model accuracy, precision, recall and f1 score of a binary classification model.\n",
        "\n",
        "  Parameters:\n",
        "  -----\n",
        "  y_true = true labels in the form of a 1D array\n",
        "  y_pred = predicted labels in the form of a 1D array\n",
        "\n",
        "  Returns a dictionary of accuracy, precision, recall, f1-score.\n",
        "  \"\"\"\n",
        "  # Calculate model accuracy\n",
        "  model_accuracy = accuracy_score(y_true, y_pred) * 100\n",
        "  # Calculate model precision, recall and f1 score using \"weighted\" average\n",
        "  model_precision, model_recall, model_f1, _ = precision_recall_fscore_support(y_true, y_pred, average=\"weighted\")\n",
        "  model_results = {\"accuracy\": model_accuracy,\n",
        "                  \"precision\": model_precision,\n",
        "                  \"recall\": model_recall,\n",
        "                  \"f1\": model_f1}\n",
        "  return model_results\n",
        "  # _ is used as an blank variable because we dont want 'support' which is a type of return in the function"
      ],
      "metadata": {
        "id": "ulSDq4yfKbDk"
      },
      "execution_count": null,
      "outputs": []
    },
    {
      "cell_type": "code",
      "source": [
        "# Get baseline results\n",
        "baseline_results = calculate_results(y_true=val_labels,\n",
        "                                     y_pred=baseline_preds)\n",
        "baseline_results"
      ],
      "metadata": {
        "id": "lfVyg4B9KtJn",
        "colab": {
          "base_uri": "https://localhost:8080/"
        },
        "outputId": "cd457483-7321-4ba6-d151-28da55f6d446"
      },
      "execution_count": null,
      "outputs": [
        {
          "output_type": "execute_result",
          "data": {
            "text/plain": [
              "{'accuracy': 79.12087912087912,\n",
              " 'precision': 0.8392940392940393,\n",
              " 'recall': 0.7912087912087912,\n",
              " 'f1': 0.7496968404502652}"
            ]
          },
          "metadata": {},
          "execution_count": 46
        }
      ]
    },
    {
      "cell_type": "code",
      "source": [
        "# Download helper functions script\n",
        "!wget https://raw.githubusercontent.com/mrdbourke/tensorflow-deep-learning/main/extras/helper_functions.py\n",
        "#import series of helper functions \n",
        "from helper_functions import unzip_data, create_tensorboard_callback, plot_loss_curves, compare_historys"
      ],
      "metadata": {
        "id": "WfeEmBAJTwir",
        "colab": {
          "base_uri": "https://localhost:8080/"
        },
        "outputId": "751628cf-8fad-4897-8401-2bb4e71596f6"
      },
      "execution_count": null,
      "outputs": [
        {
          "output_type": "stream",
          "name": "stdout",
          "text": [
            "--2023-02-11 15:41:40--  https://raw.githubusercontent.com/mrdbourke/tensorflow-deep-learning/main/extras/helper_functions.py\n",
            "Resolving raw.githubusercontent.com (raw.githubusercontent.com)... 185.199.108.133, 185.199.109.133, 185.199.110.133, ...\n",
            "Connecting to raw.githubusercontent.com (raw.githubusercontent.com)|185.199.108.133|:443... connected.\n",
            "HTTP request sent, awaiting response... 200 OK\n",
            "Length: 10246 (10K) [text/plain]\n",
            "Saving to: ‘helper_functions.py’\n",
            "\n",
            "\rhelper_functions.py   0%[                    ]       0  --.-KB/s               \rhelper_functions.py 100%[===================>]  10.01K  --.-KB/s    in 0s      \n",
            "\n",
            "2023-02-11 15:41:40 (63.4 MB/s) - ‘helper_functions.py’ saved [10246/10246]\n",
            "\n"
          ]
        }
      ]
    },
    {
      "cell_type": "code",
      "source": [],
      "metadata": {
        "id": "-Tr81F2BT2K3"
      },
      "execution_count": null,
      "outputs": []
    },
    {
      "cell_type": "markdown",
      "source": [
        "##Model 1: A simple dense model\n",
        "The first \"deep\" model we're going to build is a single layer dense model. In fact, it's barely going to have a single layer.\n",
        "\n",
        "It'll take our text and labels as input, tokenize the text, create an embedding, find the average of the embedding (using Global Average Pooling) and then pass the average through a fully connected layer with one output unit and a sigmoid activation function.\n",
        "\n",
        "If the previous sentence sounds like a mouthful, it'll make sense when we code it out (remember, if in doubt, code it out).\n",
        "\n",
        "And since we're going to be building a number of TensorFlow deep learning models, we'll import our create_tensorboard_callback() function from helper_functions.py to keep track of the results of each.\n"
      ],
      "metadata": {
        "id": "rsjcVqSIcsrP"
      }
    },
    {
      "cell_type": "code",
      "source": [
        "from tensorflow.compat.v1 import ConfigProto\n",
        "from tensorflow.compat.v1 import InteractiveSession\n",
        "\n",
        "config = ConfigProto()\n",
        "config.gpu_options.allow_growth = True\n",
        "session = InteractiveSession(config=config)"
      ],
      "metadata": {
        "id": "GlFf4Htsctvb"
      },
      "execution_count": null,
      "outputs": []
    },
    {
      "cell_type": "code",
      "source": [
        "# Create tensorboard callback (need to create a new one for each model)\n",
        "from helper_functions import create_tensorboard_callback\n",
        "\n",
        "# Create directory to save TensorBoard logs\n",
        "SAVE_DIR = \"model_logs\""
      ],
      "metadata": {
        "id": "Jye50ehUc_uH"
      },
      "execution_count": null,
      "outputs": []
    },
    {
      "cell_type": "code",
      "source": [
        "# Build model with the Functional API\n",
        "from tensorflow.keras import layers\n",
        "inputs = layers.Input(shape=(1,), dtype=\"string\") # inputs are 1-dimensional strings\n",
        "x = text_vectorizer(inputs) # turn the input text into numbers\n",
        "x = embedding(x) # create an embedding of the numerized numbers\n",
        "x = layers.GlobalAveragePooling1D()(x) # lower the dimensionality of the embedding (try running the model without this layer and see what happens)\n",
        "outputs = layers.Dense(1, activation=\"softmax\")(x) # create the output layer, want binary outputs so use sigmoid activation\n",
        "model_1 = tf.keras.Model(inputs, outputs, name=\"model_1_dense\") # construct the model"
      ],
      "metadata": {
        "id": "LH-JSx0TdDCk"
      },
      "execution_count": null,
      "outputs": []
    },
    {
      "cell_type": "code",
      "source": [
        "# Compile model\n",
        "model_1.compile(loss=\"categorical_crossentropy\",\n",
        "                optimizer=tf.keras.optimizers.Adam(),\n",
        "                metrics=[\"accuracy\"])"
      ],
      "metadata": {
        "id": "HR11QRVmdEz2"
      },
      "execution_count": null,
      "outputs": []
    },
    {
      "cell_type": "code",
      "source": [
        "# Get a summary of the model\n",
        "model_1.summary()"
      ],
      "metadata": {
        "id": "HdKcdlUsdGoW",
        "colab": {
          "base_uri": "https://localhost:8080/"
        },
        "outputId": "8d09ce09-f8b6-48f3-fd89-a297b9ca9556"
      },
      "execution_count": null,
      "outputs": [
        {
          "output_type": "stream",
          "name": "stdout",
          "text": [
            "Model: \"model_1_dense\"\n",
            "_________________________________________________________________\n",
            " Layer (type)                Output Shape              Param #   \n",
            "=================================================================\n",
            " input_1 (InputLayer)        [(None, 1)]               0         \n",
            "                                                                 \n",
            " text_vectorization_1 (TextV  (None, 15)               0         \n",
            " ectorization)                                                   \n",
            "                                                                 \n",
            " embedding_1 (Embedding)     (None, 15, 128)           1280000   \n",
            "                                                                 \n",
            " global_average_pooling1d (G  (None, 128)              0         \n",
            " lobalAveragePooling1D)                                          \n",
            "                                                                 \n",
            " dense (Dense)               (None, 1)                 129       \n",
            "                                                                 \n",
            "=================================================================\n",
            "Total params: 1,280,129\n",
            "Trainable params: 1,280,129\n",
            "Non-trainable params: 0\n",
            "_________________________________________________________________\n"
          ]
        }
      ]
    },
    {
      "cell_type": "code",
      "source": [
        " train_sentences_list = train_sentences.tolist()"
      ],
      "metadata": {
        "id": "sGTSKX3a05Ge"
      },
      "execution_count": null,
      "outputs": []
    },
    {
      "cell_type": "code",
      "source": [
        "val_sentences_list = val_sentences.tolist()"
      ],
      "metadata": {
        "id": "GzeFdh0MF4Yx"
      },
      "execution_count": null,
      "outputs": []
    },
    {
      "cell_type": "code",
      "source": [
        "print(train_sentences.shape)"
      ],
      "metadata": {
        "id": "E4pKsqqx4Kt-",
        "colab": {
          "base_uri": "https://localhost:8080/"
        },
        "outputId": "a97b04bb-8084-4da8-b435-145509882ef6"
      },
      "execution_count": null,
      "outputs": [
        {
          "output_type": "stream",
          "name": "stdout",
          "text": [
            "(1636,)\n"
          ]
        }
      ]
    },
    {
      "cell_type": "code",
      "source": [
        "type(train_labels)"
      ],
      "metadata": {
        "id": "CKIvZQr034MX",
        "colab": {
          "base_uri": "https://localhost:8080/"
        },
        "outputId": "af9d4c61-f0cb-445f-f4b4-ab5b80dcb5da"
      },
      "execution_count": null,
      "outputs": [
        {
          "output_type": "execute_result",
          "data": {
            "text/plain": [
              "numpy.ndarray"
            ]
          },
          "metadata": {},
          "execution_count": 56
        }
      ]
    },
    {
      "cell_type": "code",
      "source": [
        "print(train_labels.shape)"
      ],
      "metadata": {
        "id": "7k4_Vv484ELF",
        "colab": {
          "base_uri": "https://localhost:8080/"
        },
        "outputId": "f746b7ec-2def-4b92-d6a4-2115c0a5f2c9"
      },
      "execution_count": null,
      "outputs": [
        {
          "output_type": "stream",
          "name": "stdout",
          "text": [
            "(1636,)\n"
          ]
        }
      ]
    },
    {
      "cell_type": "code",
      "source": [
        "train_labels1 = train_labels.astype(float)"
      ],
      "metadata": {
        "id": "tbqtKlNHK2qY"
      },
      "execution_count": null,
      "outputs": []
    },
    {
      "cell_type": "code",
      "source": [
        "val_labels1 = val_labels.astype(float)"
      ],
      "metadata": {
        "id": "QCHlhtZIK9Uj"
      },
      "execution_count": null,
      "outputs": []
    },
    {
      "cell_type": "code",
      "source": [
        "train_labels"
      ],
      "metadata": {
        "id": "s6SAOAoxq5Mi",
        "colab": {
          "base_uri": "https://localhost:8080/"
        },
        "outputId": "15cc530b-6754-4bb2-97a5-1f56a5211574"
      },
      "execution_count": null,
      "outputs": [
        {
          "output_type": "execute_result",
          "data": {
            "text/plain": [
              "array(['14', '2', '2', ..., '2', '14', '2'], dtype=object)"
            ]
          },
          "metadata": {},
          "execution_count": 60
        }
      ]
    },
    {
      "cell_type": "code",
      "source": [
        "# Fit the model\n",
        "model_1_history = model_1.fit(train_sentences, #input sentences can be a list of strings due to text preprocessing layer built-in model\n",
        "                              train_labels1,\n",
        "                              epochs=5,\n",
        "                              validation_data=(val_sentences, val_labels1),\n",
        "                              callbacks=[create_tensorboard_callback(dir_name=SAVE_DIR, \n",
        "                                                                     experiment_name=\"simple_dense_model\")])"
      ],
      "metadata": {
        "id": "voe8XF7ndMD-",
        "colab": {
          "base_uri": "https://localhost:8080/"
        },
        "outputId": "be13d874-4fce-4049-c03f-86f93a0f036a"
      },
      "execution_count": null,
      "outputs": [
        {
          "output_type": "stream",
          "name": "stdout",
          "text": [
            "Saving TensorBoard log files to: model_logs/simple_dense_model/20230211-154141\n",
            "Epoch 1/5\n",
            "52/52 [==============================] - 2s 26ms/step - loss: 0.0000e+00 - accuracy: 0.0000e+00 - val_loss: 0.0000e+00 - val_accuracy: 0.0000e+00\n",
            "Epoch 2/5\n",
            "52/52 [==============================] - 1s 21ms/step - loss: 0.0000e+00 - accuracy: 0.0000e+00 - val_loss: 0.0000e+00 - val_accuracy: 0.0000e+00\n",
            "Epoch 3/5\n",
            "52/52 [==============================] - 1s 21ms/step - loss: 0.0000e+00 - accuracy: 0.0000e+00 - val_loss: 0.0000e+00 - val_accuracy: 0.0000e+00\n",
            "Epoch 4/5\n",
            "52/52 [==============================] - 1s 20ms/step - loss: 0.0000e+00 - accuracy: 0.0000e+00 - val_loss: 0.0000e+00 - val_accuracy: 0.0000e+00\n",
            "Epoch 5/5\n",
            "52/52 [==============================] - 1s 19ms/step - loss: 0.0000e+00 - accuracy: 0.0000e+00 - val_loss: 0.0000e+00 - val_accuracy: 0.0000e+00\n"
          ]
        }
      ]
    },
    {
      "cell_type": "code",
      "source": [
        "# Check the results on the validation set\n",
        "model_1.evaluate(val_sentences, val_labels1)"
      ],
      "metadata": {
        "id": "3trU-Ov4LJsb",
        "colab": {
          "base_uri": "https://localhost:8080/"
        },
        "outputId": "240216b0-d034-4b88-9147-09b42d6c7e29"
      },
      "execution_count": null,
      "outputs": [
        {
          "output_type": "stream",
          "name": "stdout",
          "text": [
            "6/6 [==============================] - 0s 4ms/step - loss: 0.0000e+00 - accuracy: 0.0000e+00\n"
          ]
        },
        {
          "output_type": "execute_result",
          "data": {
            "text/plain": [
              "[0.0, 0.0]"
            ]
          },
          "metadata": {},
          "execution_count": 62
        }
      ]
    },
    {
      "cell_type": "code",
      "source": [
        "embedding.weights"
      ],
      "metadata": {
        "id": "e7hLDBtXLQT7",
        "colab": {
          "base_uri": "https://localhost:8080/"
        },
        "outputId": "b1a173d1-3e4b-4542-907e-7b6d3120ebff"
      },
      "execution_count": null,
      "outputs": [
        {
          "output_type": "execute_result",
          "data": {
            "text/plain": [
              "[<tf.Variable 'embedding_1/embeddings:0' shape=(10000, 128) dtype=float32, numpy=\n",
              " array([[ 0.3451689 , -0.2891782 ,  0.3614644 , ..., -0.38997927,\n",
              "         -0.3371867 , -0.30672273],\n",
              "        [-0.00476243, -0.00254028, -0.01590533, ...,  0.02518466,\n",
              "          0.03686013, -0.01521902],\n",
              "        [ 0.30889842, -0.3255168 ,  0.33505023, ..., -0.33322516,\n",
              "         -0.3301851 , -0.27991506],\n",
              "        ...,\n",
              "        [ 0.03866503, -0.04716685, -0.02946227, ..., -0.02814209,\n",
              "         -0.04764024, -0.01717379],\n",
              "        [-0.010594  ,  0.01140048, -0.00057735, ..., -0.01617111,\n",
              "          0.04892123,  0.01550495],\n",
              "        [-0.03112229,  0.01568878,  0.0061388 , ...,  0.04396746,\n",
              "         -0.01813353, -0.04255999]], dtype=float32)>]"
            ]
          },
          "metadata": {},
          "execution_count": 63
        }
      ]
    },
    {
      "cell_type": "code",
      "source": [
        "embed_weights = model_1.get_layer(\"embedding_1\").get_weights()[0]\n",
        "print(embed_weights.shape)"
      ],
      "metadata": {
        "id": "kKYZRoJ5LSyw",
        "colab": {
          "base_uri": "https://localhost:8080/"
        },
        "outputId": "4c2038d2-39fc-4483-aa20-fa2e9daffdf9"
      },
      "execution_count": null,
      "outputs": [
        {
          "output_type": "stream",
          "name": "stdout",
          "text": [
            "(10000, 128)\n"
          ]
        }
      ]
    }
  ]
}